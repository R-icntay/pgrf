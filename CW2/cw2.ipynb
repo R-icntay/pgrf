{
 "cells": [
  {
   "attachments": {},
   "cell_type": "markdown",
   "metadata": {},
   "source": [
    "## The project: Bilateral filtering on resliced images "
   ]
  },
  {
   "attachments": {},
   "cell_type": "markdown",
   "metadata": {},
   "source": [
    "This project aims to implement and then use a bilateral filtering method, described in the paper “Bilateral\n",
    "Filtering for Gray and Color Images”, applied on either resampled 2D images or the entire 3D image. The\n",
    "submitted report should contain, but not limited to, the following aspects\n",
    "\n",
    "### Implementation of a re-slicing algorithm that obtains an image slice in a non-orthogonal plane, reasonable for viewing prostate gland in 2D images"
   ]
  },
  {
   "cell_type": "code",
   "execution_count": null,
   "metadata": {},
   "outputs": [],
   "source": []
  }
 ],
 "metadata": {
  "language_info": {
   "name": "python"
  },
  "orig_nbformat": 4
 },
 "nbformat": 4,
 "nbformat_minor": 2
}
