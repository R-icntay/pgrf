{
 "cells": [
  {
   "cell_type": "code",
   "execution_count": null,
   "metadata": {},
   "outputs": [],
   "source": [
    "import skimage.io\n",
    "import numpy as np\n",
    "import matplotlib.pyplot as plt"
   ]
  },
  {
   "cell_type": "code",
   "execution_count": null,
   "metadata": {},
   "outputs": [],
   "source": [
    "cine_MR_1 = skimage.io.imread('cine_MR_1.png')\n",
    "cine_MR_2 = skimage.io.imread('cine_MR_2.png')\n",
    "cine_MR_3 = skimage.io.imread('cine_MR_3.png')"
   ]
  },
  {
   "cell_type": "code",
   "execution_count": null,
   "metadata": {},
   "outputs": [],
   "source": [
    "# Dislay the images\n",
    "plt.figure()\n",
    "plt.imshow(cine_MR_1, cmap = 'gray')\n",
    "plt.figure()\n",
    "plt.imshow(cine_MR_2, cmap = 'gray')\n",
    "plt.figure()\n",
    "plt.imshow(cine_MR_3, cmap = 'gray')"
   ]
  },
  {
   "cell_type": "code",
   "execution_count": null,
   "metadata": {},
   "outputs": [],
   "source": [
    "type(cine_MR_1)"
   ]
  },
  {
   "cell_type": "code",
   "execution_count": null,
   "metadata": {},
   "outputs": [],
   "source": [
    "# Convert to double precision and flip\n",
    "cine_MR_1 = np.double(cine_MR_1)\n",
    "cine_MR_1 = np.flip(cine_MR_1.T, axis=1)\n",
    "\n",
    "cine_MR_2 = np.double(cine_MR_2)\n",
    "cine_MR_2 = np.flip(cine_MR_2.T, axis=1)\n",
    "\n",
    "cine_MR_3 = np.double(cine_MR_3)\n",
    "cine_MR_3 = np.flip(cine_MR_3.T, axis=1)\n"
   ]
  },
  {
   "cell_type": "code",
   "execution_count": null,
   "metadata": {},
   "outputs": [],
   "source": [
    "from utils import dispImage\n",
    "dispImage(cine_MR_3)"
   ]
  },
  {
   "cell_type": "code",
   "execution_count": null,
   "metadata": {},
   "outputs": [],
   "source": [
    "cine_MR_1.dtype"
   ]
  },
  {
   "cell_type": "code",
   "execution_count": null,
   "metadata": {},
   "outputs": [],
   "source": [
    "diff_1 = cine_MR_1 - cine_MR_2\n",
    "diff_2 = cine_MR_1 - cine_MR_3\n",
    "\n",
    "plt.figure()\n",
    "plt.imshow(diff_1, cmap = 'gray')\n",
    "plt.figure()\n",
    "plt.imshow(diff_2, cmap = 'gray')\n"
   ]
  },
  {
   "cell_type": "code",
   "execution_count": null,
   "metadata": {},
   "outputs": [],
   "source": [
    "from demonsReg import demonsReg\n",
    "demonsReg(source = cine_MR_1, target = cine_MR_2)"
   ]
  },
  {
   "cell_type": "code",
   "execution_count": null,
   "metadata": {},
   "outputs": [],
   "source": [
    "from demonsReg import demonsReg\n",
    "demonsReg(source = cine_MR_1, target = cine_MR_2, sigma_fluid=0)"
   ]
  },
  {
   "cell_type": "code",
   "execution_count": null,
   "metadata": {},
   "outputs": [],
   "source": [
    "The elastic-like regularization usually has a larger effect on the resukt than the fluid like regularization does."
   ]
  },
  {
   "cell_type": "code",
   "execution_count": null,
   "metadata": {},
   "outputs": [],
   "source": [
    "from demonsReg import demonsReg\n",
    "warped_image, def_field = demonsReg(source = cine_MR_1, target = cine_MR_2, num_lev=1)"
   ]
  }
 ],
 "metadata": {
  "kernelspec": {
   "display_name": "Python 3",
   "language": "python",
   "name": "python3"
  },
  "language_info": {
   "codemirror_mode": {
    "name": "ipython",
    "version": 3
   },
   "file_extension": ".py",
   "mimetype": "text/x-python",
   "name": "python",
   "nbconvert_exporter": "python",
   "pygments_lexer": "ipython3",
   "version": "3.10.6"
  },
  "orig_nbformat": 4,
  "vscode": {
   "interpreter": {
    "hash": "916dbcbb3f70747c44a77c7bcd40155683ae19c65e1c03b4aa3499c5328201f1"
   }
  }
 },
 "nbformat": 4,
 "nbformat_minor": 2
}
