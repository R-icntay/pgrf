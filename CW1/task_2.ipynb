{
 "cells": [
  {
   "attachments": {},
   "cell_type": "markdown",
   "metadata": {},
   "source": [
    "# Task 2: Filtering before resizing\n",
    "\n",
    "Implement a **class `Image3D`**, which should handle 3D medical images with different voxel dimensions,\n",
    "image sizes and data types. "
   ]
  },
  {
   "attachments": {},
   "cell_type": "markdown",
   "metadata": {},
   "source": [
    "### A class constructor __init__ function, which takes a NumPy array representing a 3D image and a tuple of three numerical items for voxel dimension. "
   ]
  },
  {
   "cell_type": "code",
   "execution_count": 1,
   "metadata": {},
   "outputs": [],
   "source": [
    "# Import libraries\n",
    "import numpy as np\n",
    "import matplotlib.pyplot as plt\n",
    "from PIL import Image\n",
    "from skimage import measure\n",
    "from scipy.interpolate import interpn\n",
    "from scipy.ndimage import gaussian_filter"
   ]
  },
  {
   "attachments": {},
   "cell_type": "markdown",
   "metadata": {},
   "source": [
    "A local image coordinate system can be defined as a coordinate system with its origin at the center of the image and its axes aligned with the voxel dimensions. This allows us to represent the position of any voxel in the image using its coordinates in this local coordinate system.\n",
    "\n",
    "To implement this, we can add a new instance variable voxel_coords to the Image3D class, which will be a NumPy array of shape (nx, ny, nz, 3), where nx, ny, and nz are the dimensions of the image and the last dimension represents the x, y, and z coordinates of each voxel in the local coordinate system. We can pre-compute this array in the constructor function by using the np.meshgrid function and scaling the resulting coordinates by the voxel dimensions.\n",
    "\n",
    "`meshgrid`: The one with the least elements defines the rows while the other determines the columns."
   ]
  },
  {
   "attachments": {},
   "cell_type": "markdown",
   "metadata": {},
   "source": [
    "Another view:\n",
    "A local image coordinate system can be defined as a coordinate system that is centered at the origin of the image and has its axes aligned with the axes of the image. The voxel coordinates in this coordinate system correspond to the indices of the voxels in the image data array."
   ]
  },
  {
   "cell_type": "code",
   "execution_count": 2,
   "metadata": {},
   "outputs": [],
   "source": [
    "# Create a class Image3D\n",
    "class Image3D:\n",
    "\n",
    "    # Initialise the class\n",
    "    def __init__(self, image, voxel_dimension = ()):\n",
    "        self.image = image\n",
    "        self.voxel_dimension = voxel_dimension\n",
    "\n",
    "    # Define a local image coordinate system\n",
    "        x_coords, y_coords, z_coords = np.mgrid[:self.image.shape[0], :self.image.shape[1], :self.image.shape[2]]\n",
    "        # Create a 3D array of coordinates\n",
    "        # The voxel coordinates in this coordinate system correspond to the indices of the voxels in the image data array.\n",
    "        self.voxel_coords = np.stack([x_coords, y_coords, z_coords], axis = -1)\n",
    "\n",
    "        ## The voxel_coords variable is a 3D array of shape (self.image.shape[0], self.image.shape[1], self.image.shape[2], 3)\n",
    "        #  that stores the voxel coordinates in the local image coordinate system.\n",
    "        # The first three dimensions correspond to the indices of the voxels in the image data array, and the last dimension stores the x, y, and z coordinates of each voxel.\n",
    "        #self.coords = np.vstack((x_coords.flatten(), y_coords.flatten(), z_coords.flatten())).T\n",
    "\n",
    "        ## he voxel coordinates are stored as integers,\n",
    "        # so if you want to convert them to physical coordinates (i.e., coordinates in millimeters or some other unit),\n",
    "        # you will need to multiply them by the voxel size.\n",
    "        self.physical_coords = self.voxel_coords * self.voxel_dimension\n",
    "\n",
    "    # Implement volume_resize which resizes the image data array to a new size\n",
    "    def volume_resize(self, resize_ratio):\n",
    "\n",
    "        # Compute the new shape of the resized image by multiplying the original shape by the ratio\n",
    "        new_shape  = np.round(np.array(self.image.shape) * resize_ratio).astype(int)\n",
    "        new_coords = np.stack(np.mgrid[:new_shape[0], :new_shape[1], :new_shape[2]], axis = -1)\n",
    "        #new_coords = new_coords / resize_ratio\n",
    "        \n",
    "        # Compute the new voxel dimensions by multiplying the original dimensions by the ratio\n",
    "        new_voxel_dimension = tuple(np.array(self.voxel_dimesnion) * resize_ratio)\n",
    "\n",
    "        # Interpolate the filtered data array at the new coordinates\n",
    "        new_data = interpn((np.arange(self.image.shape[0]), np.arange(self.image.shape[1]), np.arange(self.image.shape[2])), self.image, new_coords, method = 'linear', bounds_error = False, fill_value = 0)\n",
    "        #new_data = interpn((np.arange(s) for s in self.image.shape), self.image, new_shape, method = 'linear', bounds_error = False, fill_values = 0)\n",
    "\n",
    "        return Image3D(new_data, new_voxel_dimension)\n",
    "\n",
    "    # Implement volume_resize_antialias which applies a Gaussian filter to the image data array before resizing it to a new size\n",
    "    def volume_resize_antialias(self, resize_ratio, sigma):\n",
    "        # If we filter, do image dimensions change?\n",
    "        \n",
    "        # Apply a Gaussian filter to the original image\n",
    "        filtered_image = gaussian_filter(self.image, sigma = sigma / np.array(self.voxel_dimension))\n",
    "\n",
    "        # Compute the new shape of the resized image by multiplying the filtered shape by the ratio\n",
    "        new_shape  = np.round(np.array(filtered_image.shape) * resize_ratio).astype(int)\n",
    "        new_coords = np.stack(np.mgrid[:new_shape[0], :new_shape[1], :new_shape[2]], axis = -1)\n",
    "        #new_coords = new_coords / resize_ratio\n",
    "\n",
    "        # Compute the new voxel dimensions by multiplying the original dimensions by the ratio\n",
    "        new_voxel_dimension = tuple(np.array(self.voxel_dimesnion) * resize_ratio)\n",
    "\n",
    "        # Interpolate the filtered data array at the new coordinates\n",
    "        new_data = interpn((np.arange(filtered_image.shape[0]), np.arange(filtered_image.shape[1]), np.arange(filtered_image.shape[2])), filtered_image, new_coords, method = 'linear', bounds_error = False, fill_value = 0)\n",
    "        #new_data = interpn((np.arange(s) for s in self.image.shape), self.image, new_shape, method = 'linear', bounds_error = False, fill_values = 0)\n",
    "\n",
    "        return Image3D(new_data, new_voxel_dimension)\n",
    "\n",
    "\n",
    "        \n",
    "\n"
   ]
  },
  {
   "cell_type": "code",
   "execution_count": 12,
   "metadata": {},
   "outputs": [
    {
     "ename": "TypeError",
     "evalue": "int() argument must be a string, a bytes-like object or a real number, not 'tuple'",
     "output_type": "error",
     "traceback": [
      "\u001b[0;31m---------------------------------------------------------------------------\u001b[0m",
      "\u001b[0;31mTypeError\u001b[0m                                 Traceback (most recent call last)",
      "Cell \u001b[0;32mIn[12], line 6\u001b[0m\n\u001b[1;32m      2\u001b[0m b \u001b[39m=\u001b[39m (\u001b[39m4\u001b[39m,\u001b[39m5\u001b[39m,\u001b[39m6\u001b[39m)\n\u001b[1;32m      4\u001b[0m \u001b[39mlist\u001b[39m(\u001b[39mzip\u001b[39m(a,b))\n\u001b[0;32m----> 6\u001b[0m \u001b[39mint\u001b[39;49m((a))\n",
      "\u001b[0;31mTypeError\u001b[0m: int() argument must be a string, a bytes-like object or a real number, not 'tuple'"
     ]
    }
   ],
   "source": [
    "a = (1.3,2.5,3.1)\n",
    "b = (4,5,6)\n",
    "\n",
    "list(zip(a,b))\n",
    "\n",
    "int((a))"
   ]
  },
  {
   "cell_type": "code",
   "execution_count": 8,
   "metadata": {},
   "outputs": [
    {
     "data": {
      "text/plain": [
       "array([3., 2., 6.])"
      ]
     },
     "execution_count": 8,
     "metadata": {},
     "output_type": "execute_result"
    }
   ],
   "source": [
    "6/np.array((2,3,1))"
   ]
  },
  {
   "cell_type": "code",
   "execution_count": 6,
   "metadata": {},
   "outputs": [
    {
     "data": {
      "text/plain": [
       "2"
      ]
     },
     "execution_count": 6,
     "metadata": {},
     "output_type": "execute_result"
    }
   ],
   "source": [
    "int(2.5)"
   ]
  },
  {
   "cell_type": "code",
   "execution_count": 28,
   "metadata": {},
   "outputs": [
    {
     "data": {
      "text/plain": [
       "[array([0, 1, 2]), array([0, 1, 2, 3]), array([0, 1, 2, 3, 4])]"
      ]
     },
     "execution_count": 28,
     "metadata": {},
     "output_type": "execute_result"
    }
   ],
   "source": [
    "list((np.arange(s) for s in data.shape))"
   ]
  },
  {
   "cell_type": "code",
   "execution_count": 1,
   "metadata": {},
   "outputs": [],
   "source": [
    "import numpy as np\n",
    "#data = np.random.random((3, 4, 5))\n",
    "data = np.random.randint(5, size = (3, 4, 5))\n",
    "x_coords, y_coords, z_coords = np.mgrid[:data.shape[0], :data.shape[1], :data.shape[2]]\n",
    "np.vstack((x_coords.flatten(), y_coords.flatten(), z_coords.flatten()))\n",
    "xyz=np.vstack((x_coords.flatten(), y_coords.flatten(), z_coords.flatten())).T\n",
    "tt=np.stack([x_coords, y_coords, z_coords], axis = -1)"
   ]
  },
  {
   "cell_type": "code",
   "execution_count": 6,
   "metadata": {},
   "outputs": [
    {
     "data": {
      "text/plain": [
       "array([[0, 0, 0],\n",
       "       [0, 0, 1],\n",
       "       [0, 0, 2],\n",
       "       [0, 0, 3],\n",
       "       [0, 0, 4],\n",
       "       [0, 1, 0],\n",
       "       [0, 1, 1],\n",
       "       [0, 1, 2],\n",
       "       [0, 1, 3],\n",
       "       [0, 1, 4],\n",
       "       [0, 2, 0],\n",
       "       [0, 2, 1],\n",
       "       [0, 2, 2],\n",
       "       [0, 2, 3],\n",
       "       [0, 2, 4],\n",
       "       [0, 3, 0],\n",
       "       [0, 3, 1],\n",
       "       [0, 3, 2],\n",
       "       [0, 3, 3],\n",
       "       [0, 3, 4],\n",
       "       [1, 0, 0],\n",
       "       [1, 0, 1],\n",
       "       [1, 0, 2],\n",
       "       [1, 0, 3],\n",
       "       [1, 0, 4],\n",
       "       [1, 1, 0],\n",
       "       [1, 1, 1],\n",
       "       [1, 1, 2],\n",
       "       [1, 1, 3],\n",
       "       [1, 1, 4],\n",
       "       [1, 2, 0],\n",
       "       [1, 2, 1],\n",
       "       [1, 2, 2],\n",
       "       [1, 2, 3],\n",
       "       [1, 2, 4],\n",
       "       [1, 3, 0],\n",
       "       [1, 3, 1],\n",
       "       [1, 3, 2],\n",
       "       [1, 3, 3],\n",
       "       [1, 3, 4],\n",
       "       [2, 0, 0],\n",
       "       [2, 0, 1],\n",
       "       [2, 0, 2],\n",
       "       [2, 0, 3],\n",
       "       [2, 0, 4],\n",
       "       [2, 1, 0],\n",
       "       [2, 1, 1],\n",
       "       [2, 1, 2],\n",
       "       [2, 1, 3],\n",
       "       [2, 1, 4],\n",
       "       [2, 2, 0],\n",
       "       [2, 2, 1],\n",
       "       [2, 2, 2],\n",
       "       [2, 2, 3],\n",
       "       [2, 2, 4],\n",
       "       [2, 3, 0],\n",
       "       [2, 3, 1],\n",
       "       [2, 3, 2],\n",
       "       [2, 3, 3],\n",
       "       [2, 3, 4]])"
      ]
     },
     "execution_count": 6,
     "metadata": {},
     "output_type": "execute_result"
    }
   ],
   "source": [
    "xyz"
   ]
  },
  {
   "cell_type": "code",
   "execution_count": 4,
   "metadata": {},
   "outputs": [
    {
     "data": {
      "text/plain": [
       "array([[[[0, 0, 0],\n",
       "         [0, 0, 1],\n",
       "         [0, 0, 2],\n",
       "         [0, 0, 3],\n",
       "         [0, 0, 4]],\n",
       "\n",
       "        [[0, 1, 0],\n",
       "         [0, 1, 1],\n",
       "         [0, 1, 2],\n",
       "         [0, 1, 3],\n",
       "         [0, 1, 4]],\n",
       "\n",
       "        [[0, 2, 0],\n",
       "         [0, 2, 1],\n",
       "         [0, 2, 2],\n",
       "         [0, 2, 3],\n",
       "         [0, 2, 4]],\n",
       "\n",
       "        [[0, 3, 0],\n",
       "         [0, 3, 1],\n",
       "         [0, 3, 2],\n",
       "         [0, 3, 3],\n",
       "         [0, 3, 4]]],\n",
       "\n",
       "\n",
       "       [[[1, 0, 0],\n",
       "         [1, 0, 1],\n",
       "         [1, 0, 2],\n",
       "         [1, 0, 3],\n",
       "         [1, 0, 4]],\n",
       "\n",
       "        [[1, 1, 0],\n",
       "         [1, 1, 1],\n",
       "         [1, 1, 2],\n",
       "         [1, 1, 3],\n",
       "         [1, 1, 4]],\n",
       "\n",
       "        [[1, 2, 0],\n",
       "         [1, 2, 1],\n",
       "         [1, 2, 2],\n",
       "         [1, 2, 3],\n",
       "         [1, 2, 4]],\n",
       "\n",
       "        [[1, 3, 0],\n",
       "         [1, 3, 1],\n",
       "         [1, 3, 2],\n",
       "         [1, 3, 3],\n",
       "         [1, 3, 4]]],\n",
       "\n",
       "\n",
       "       [[[2, 0, 0],\n",
       "         [2, 0, 1],\n",
       "         [2, 0, 2],\n",
       "         [2, 0, 3],\n",
       "         [2, 0, 4]],\n",
       "\n",
       "        [[2, 1, 0],\n",
       "         [2, 1, 1],\n",
       "         [2, 1, 2],\n",
       "         [2, 1, 3],\n",
       "         [2, 1, 4]],\n",
       "\n",
       "        [[2, 2, 0],\n",
       "         [2, 2, 1],\n",
       "         [2, 2, 2],\n",
       "         [2, 2, 3],\n",
       "         [2, 2, 4]],\n",
       "\n",
       "        [[2, 3, 0],\n",
       "         [2, 3, 1],\n",
       "         [2, 3, 2],\n",
       "         [2, 3, 3],\n",
       "         [2, 3, 4]]]])"
      ]
     },
     "execution_count": 4,
     "metadata": {},
     "output_type": "execute_result"
    }
   ],
   "source": [
    "tt"
   ]
  },
  {
   "cell_type": "code",
   "execution_count": 4,
   "metadata": {},
   "outputs": [
    {
     "data": {
      "text/plain": [
       "array([0, 1, 2])"
      ]
     },
     "execution_count": 4,
     "metadata": {},
     "output_type": "execute_result"
    }
   ],
   "source": [
    "np.arange(data.shape[0])"
   ]
  },
  {
   "cell_type": "code",
   "execution_count": 28,
   "metadata": {},
   "outputs": [
    {
     "data": {
      "text/plain": [
       "(1, 2, 2)"
      ]
     },
     "execution_count": 28,
     "metadata": {},
     "output_type": "execute_result"
    }
   ],
   "source": [
    "ratio = (0.5, 0.5, 0.5);\n",
    "new_shape = tuple(int(s * r) for s, r in zip(data.shape, ratio))\n",
    "new_shape"
   ]
  },
  {
   "cell_type": "code",
   "execution_count": 13,
   "metadata": {},
   "outputs": [
    {
     "data": {
      "text/plain": [
       "(3, 4, 5)"
      ]
     },
     "execution_count": 13,
     "metadata": {},
     "output_type": "execute_result"
    }
   ],
   "source": [
    "data.shape"
   ]
  },
  {
   "cell_type": "code",
   "execution_count": 29,
   "metadata": {},
   "outputs": [
    {
     "data": {
      "text/plain": [
       "array([[[[0, 0, 0],\n",
       "         [0, 0, 1]],\n",
       "\n",
       "        [[0, 1, 0],\n",
       "         [0, 1, 1]]]])"
      ]
     },
     "execution_count": 29,
     "metadata": {},
     "output_type": "execute_result"
    }
   ],
   "source": [
    "new_coords = np.stack(np.mgrid[:new_shape[0], :new_shape[1], :new_shape[2]], axis = -1)\n",
    "new_coords"
   ]
  },
  {
   "cell_type": "code",
   "execution_count": 30,
   "metadata": {},
   "outputs": [
    {
     "data": {
      "text/plain": [
       "(1, 2, 2, 3)"
      ]
     },
     "execution_count": 30,
     "metadata": {},
     "output_type": "execute_result"
    }
   ],
   "source": [
    "new_coords.shape"
   ]
  },
  {
   "cell_type": "code",
   "execution_count": 31,
   "metadata": {},
   "outputs": [
    {
     "data": {
      "text/plain": [
       "array([[[[0., 0., 0.],\n",
       "         [0., 0., 2.]],\n",
       "\n",
       "        [[0., 2., 0.],\n",
       "         [0., 2., 2.]]]])"
      ]
     },
     "execution_count": 31,
     "metadata": {},
     "output_type": "execute_result"
    }
   ],
   "source": [
    "new_coords = new_coords / ratio\n",
    "new_coords"
   ]
  },
  {
   "cell_type": "code",
   "execution_count": 7,
   "metadata": {},
   "outputs": [],
   "source": [
    "from scipy.interpolate import interpn\n",
    "def value_func_3d(x, y, z):\n",
    "    return 2 * x + 3 * y - z\n",
    "x = np.linspace(0, 4, 5)\n",
    "y = np.linspace(0, 5, 6)\n",
    "z = np.linspace(0, 6, 7)\n",
    "points = (x, y, z)\n",
    "values = value_func_3d(*np.meshgrid(*points, indexing='ij'))"
   ]
  },
  {
   "cell_type": "code",
   "execution_count": 10,
   "metadata": {},
   "outputs": [
    {
     "data": {
      "text/plain": [
       "[array([[[0., 0., 0., 0., 0., 0., 0.],\n",
       "         [0., 0., 0., 0., 0., 0., 0.],\n",
       "         [0., 0., 0., 0., 0., 0., 0.],\n",
       "         [0., 0., 0., 0., 0., 0., 0.],\n",
       "         [0., 0., 0., 0., 0., 0., 0.],\n",
       "         [0., 0., 0., 0., 0., 0., 0.]],\n",
       " \n",
       "        [[1., 1., 1., 1., 1., 1., 1.],\n",
       "         [1., 1., 1., 1., 1., 1., 1.],\n",
       "         [1., 1., 1., 1., 1., 1., 1.],\n",
       "         [1., 1., 1., 1., 1., 1., 1.],\n",
       "         [1., 1., 1., 1., 1., 1., 1.],\n",
       "         [1., 1., 1., 1., 1., 1., 1.]],\n",
       " \n",
       "        [[2., 2., 2., 2., 2., 2., 2.],\n",
       "         [2., 2., 2., 2., 2., 2., 2.],\n",
       "         [2., 2., 2., 2., 2., 2., 2.],\n",
       "         [2., 2., 2., 2., 2., 2., 2.],\n",
       "         [2., 2., 2., 2., 2., 2., 2.],\n",
       "         [2., 2., 2., 2., 2., 2., 2.]],\n",
       " \n",
       "        [[3., 3., 3., 3., 3., 3., 3.],\n",
       "         [3., 3., 3., 3., 3., 3., 3.],\n",
       "         [3., 3., 3., 3., 3., 3., 3.],\n",
       "         [3., 3., 3., 3., 3., 3., 3.],\n",
       "         [3., 3., 3., 3., 3., 3., 3.],\n",
       "         [3., 3., 3., 3., 3., 3., 3.]],\n",
       " \n",
       "        [[4., 4., 4., 4., 4., 4., 4.],\n",
       "         [4., 4., 4., 4., 4., 4., 4.],\n",
       "         [4., 4., 4., 4., 4., 4., 4.],\n",
       "         [4., 4., 4., 4., 4., 4., 4.],\n",
       "         [4., 4., 4., 4., 4., 4., 4.],\n",
       "         [4., 4., 4., 4., 4., 4., 4.]]]),\n",
       " array([[[0., 0., 0., 0., 0., 0., 0.],\n",
       "         [1., 1., 1., 1., 1., 1., 1.],\n",
       "         [2., 2., 2., 2., 2., 2., 2.],\n",
       "         [3., 3., 3., 3., 3., 3., 3.],\n",
       "         [4., 4., 4., 4., 4., 4., 4.],\n",
       "         [5., 5., 5., 5., 5., 5., 5.]],\n",
       " \n",
       "        [[0., 0., 0., 0., 0., 0., 0.],\n",
       "         [1., 1., 1., 1., 1., 1., 1.],\n",
       "         [2., 2., 2., 2., 2., 2., 2.],\n",
       "         [3., 3., 3., 3., 3., 3., 3.],\n",
       "         [4., 4., 4., 4., 4., 4., 4.],\n",
       "         [5., 5., 5., 5., 5., 5., 5.]],\n",
       " \n",
       "        [[0., 0., 0., 0., 0., 0., 0.],\n",
       "         [1., 1., 1., 1., 1., 1., 1.],\n",
       "         [2., 2., 2., 2., 2., 2., 2.],\n",
       "         [3., 3., 3., 3., 3., 3., 3.],\n",
       "         [4., 4., 4., 4., 4., 4., 4.],\n",
       "         [5., 5., 5., 5., 5., 5., 5.]],\n",
       " \n",
       "        [[0., 0., 0., 0., 0., 0., 0.],\n",
       "         [1., 1., 1., 1., 1., 1., 1.],\n",
       "         [2., 2., 2., 2., 2., 2., 2.],\n",
       "         [3., 3., 3., 3., 3., 3., 3.],\n",
       "         [4., 4., 4., 4., 4., 4., 4.],\n",
       "         [5., 5., 5., 5., 5., 5., 5.]],\n",
       " \n",
       "        [[0., 0., 0., 0., 0., 0., 0.],\n",
       "         [1., 1., 1., 1., 1., 1., 1.],\n",
       "         [2., 2., 2., 2., 2., 2., 2.],\n",
       "         [3., 3., 3., 3., 3., 3., 3.],\n",
       "         [4., 4., 4., 4., 4., 4., 4.],\n",
       "         [5., 5., 5., 5., 5., 5., 5.]]]),\n",
       " array([[[0., 1., 2., 3., 4., 5., 6.],\n",
       "         [0., 1., 2., 3., 4., 5., 6.],\n",
       "         [0., 1., 2., 3., 4., 5., 6.],\n",
       "         [0., 1., 2., 3., 4., 5., 6.],\n",
       "         [0., 1., 2., 3., 4., 5., 6.],\n",
       "         [0., 1., 2., 3., 4., 5., 6.]],\n",
       " \n",
       "        [[0., 1., 2., 3., 4., 5., 6.],\n",
       "         [0., 1., 2., 3., 4., 5., 6.],\n",
       "         [0., 1., 2., 3., 4., 5., 6.],\n",
       "         [0., 1., 2., 3., 4., 5., 6.],\n",
       "         [0., 1., 2., 3., 4., 5., 6.],\n",
       "         [0., 1., 2., 3., 4., 5., 6.]],\n",
       " \n",
       "        [[0., 1., 2., 3., 4., 5., 6.],\n",
       "         [0., 1., 2., 3., 4., 5., 6.],\n",
       "         [0., 1., 2., 3., 4., 5., 6.],\n",
       "         [0., 1., 2., 3., 4., 5., 6.],\n",
       "         [0., 1., 2., 3., 4., 5., 6.],\n",
       "         [0., 1., 2., 3., 4., 5., 6.]],\n",
       " \n",
       "        [[0., 1., 2., 3., 4., 5., 6.],\n",
       "         [0., 1., 2., 3., 4., 5., 6.],\n",
       "         [0., 1., 2., 3., 4., 5., 6.],\n",
       "         [0., 1., 2., 3., 4., 5., 6.],\n",
       "         [0., 1., 2., 3., 4., 5., 6.],\n",
       "         [0., 1., 2., 3., 4., 5., 6.]],\n",
       " \n",
       "        [[0., 1., 2., 3., 4., 5., 6.],\n",
       "         [0., 1., 2., 3., 4., 5., 6.],\n",
       "         [0., 1., 2., 3., 4., 5., 6.],\n",
       "         [0., 1., 2., 3., 4., 5., 6.],\n",
       "         [0., 1., 2., 3., 4., 5., 6.],\n",
       "         [0., 1., 2., 3., 4., 5., 6.]]])]"
      ]
     },
     "execution_count": 10,
     "metadata": {},
     "output_type": "execute_result"
    }
   ],
   "source": [
    "np.meshgrid(*points, indexing='ij')"
   ]
  },
  {
   "cell_type": "code",
   "execution_count": 9,
   "metadata": {},
   "outputs": [
    {
     "data": {
      "text/plain": [
       "array([[[ 0., -1., -2., -3., -4., -5., -6.],\n",
       "        [ 3.,  2.,  1.,  0., -1., -2., -3.],\n",
       "        [ 6.,  5.,  4.,  3.,  2.,  1.,  0.],\n",
       "        [ 9.,  8.,  7.,  6.,  5.,  4.,  3.],\n",
       "        [12., 11., 10.,  9.,  8.,  7.,  6.],\n",
       "        [15., 14., 13., 12., 11., 10.,  9.]],\n",
       "\n",
       "       [[ 2.,  1.,  0., -1., -2., -3., -4.],\n",
       "        [ 5.,  4.,  3.,  2.,  1.,  0., -1.],\n",
       "        [ 8.,  7.,  6.,  5.,  4.,  3.,  2.],\n",
       "        [11., 10.,  9.,  8.,  7.,  6.,  5.],\n",
       "        [14., 13., 12., 11., 10.,  9.,  8.],\n",
       "        [17., 16., 15., 14., 13., 12., 11.]],\n",
       "\n",
       "       [[ 4.,  3.,  2.,  1.,  0., -1., -2.],\n",
       "        [ 7.,  6.,  5.,  4.,  3.,  2.,  1.],\n",
       "        [10.,  9.,  8.,  7.,  6.,  5.,  4.],\n",
       "        [13., 12., 11., 10.,  9.,  8.,  7.],\n",
       "        [16., 15., 14., 13., 12., 11., 10.],\n",
       "        [19., 18., 17., 16., 15., 14., 13.]],\n",
       "\n",
       "       [[ 6.,  5.,  4.,  3.,  2.,  1.,  0.],\n",
       "        [ 9.,  8.,  7.,  6.,  5.,  4.,  3.],\n",
       "        [12., 11., 10.,  9.,  8.,  7.,  6.],\n",
       "        [15., 14., 13., 12., 11., 10.,  9.],\n",
       "        [18., 17., 16., 15., 14., 13., 12.],\n",
       "        [21., 20., 19., 18., 17., 16., 15.]],\n",
       "\n",
       "       [[ 8.,  7.,  6.,  5.,  4.,  3.,  2.],\n",
       "        [11., 10.,  9.,  8.,  7.,  6.,  5.],\n",
       "        [14., 13., 12., 11., 10.,  9.,  8.],\n",
       "        [17., 16., 15., 14., 13., 12., 11.],\n",
       "        [20., 19., 18., 17., 16., 15., 14.],\n",
       "        [23., 22., 21., 20., 19., 18., 17.]]])"
      ]
     },
     "execution_count": 9,
     "metadata": {},
     "output_type": "execute_result"
    }
   ],
   "source": [
    "values"
   ]
  },
  {
   "cell_type": "code",
   "execution_count": 63,
   "metadata": {},
   "outputs": [
    {
     "data": {
      "text/plain": [
       "array([2.21, 3.12, 1.15])"
      ]
     },
     "execution_count": 63,
     "metadata": {},
     "output_type": "execute_result"
    }
   ],
   "source": [
    "point = np.array([2.21, 3.12, 1.15]);point"
   ]
  },
  {
   "cell_type": "code",
   "execution_count": null,
   "metadata": {},
   "outputs": [],
   "source": [
    "point = np.array([2.21, 3.12, 1.15])\n",
    "print(interpn(points, values, point))\n",
    "[12.63]"
   ]
  },
  {
   "cell_type": "code",
   "execution_count": 49,
   "metadata": {},
   "outputs": [
    {
     "data": {
      "text/plain": [
       "array([[[[0. , 0. , 0. ],\n",
       "         [0. , 0. , 1. ],\n",
       "         [0. , 0. , 2. ],\n",
       "         [0. , 0. , 3. ],\n",
       "         [0. , 0. , 4. ]],\n",
       "\n",
       "        [[0. , 2. , 0. ],\n",
       "         [0. , 2. , 1. ],\n",
       "         [0. , 2. , 2. ],\n",
       "         [0. , 2. , 3. ],\n",
       "         [0. , 2. , 4. ]]],\n",
       "\n",
       "\n",
       "       [[[0.5, 0. , 0. ],\n",
       "         [0.5, 0. , 1. ],\n",
       "         [0.5, 0. , 2. ],\n",
       "         [0.5, 0. , 3. ],\n",
       "         [0.5, 0. , 4. ]],\n",
       "\n",
       "        [[0.5, 2. , 0. ],\n",
       "         [0.5, 2. , 1. ],\n",
       "         [0.5, 2. , 2. ],\n",
       "         [0.5, 2. , 3. ],\n",
       "         [0.5, 2. , 4. ]]],\n",
       "\n",
       "\n",
       "       [[[1. , 0. , 0. ],\n",
       "         [1. , 0. , 1. ],\n",
       "         [1. , 0. , 2. ],\n",
       "         [1. , 0. , 3. ],\n",
       "         [1. , 0. , 4. ]],\n",
       "\n",
       "        [[1. , 2. , 0. ],\n",
       "         [1. , 2. , 1. ],\n",
       "         [1. , 2. , 2. ],\n",
       "         [1. , 2. , 3. ],\n",
       "         [1. , 2. , 4. ]]],\n",
       "\n",
       "\n",
       "       [[[1.5, 0. , 0. ],\n",
       "         [1.5, 0. , 1. ],\n",
       "         [1.5, 0. , 2. ],\n",
       "         [1.5, 0. , 3. ],\n",
       "         [1.5, 0. , 4. ]],\n",
       "\n",
       "        [[1.5, 2. , 0. ],\n",
       "         [1.5, 2. , 1. ],\n",
       "         [1.5, 2. , 2. ],\n",
       "         [1.5, 2. , 3. ],\n",
       "         [1.5, 2. , 4. ]]],\n",
       "\n",
       "\n",
       "       [[[2. , 0. , 0. ],\n",
       "         [2. , 0. , 1. ],\n",
       "         [2. , 0. , 2. ],\n",
       "         [2. , 0. , 3. ],\n",
       "         [2. , 0. , 4. ]],\n",
       "\n",
       "        [[2. , 2. , 0. ],\n",
       "         [2. , 2. , 1. ],\n",
       "         [2. , 2. , 2. ],\n",
       "         [2. , 2. , 3. ],\n",
       "         [2. , 2. , 4. ]]],\n",
       "\n",
       "\n",
       "       [[[2.5, 0. , 0. ],\n",
       "         [2.5, 0. , 1. ],\n",
       "         [2.5, 0. , 2. ],\n",
       "         [2.5, 0. , 3. ],\n",
       "         [2.5, 0. , 4. ]],\n",
       "\n",
       "        [[2.5, 2. , 0. ],\n",
       "         [2.5, 2. , 1. ],\n",
       "         [2.5, 2. , 2. ],\n",
       "         [2.5, 2. , 3. ],\n",
       "         [2.5, 2. , 4. ]]]])"
      ]
     },
     "execution_count": 49,
     "metadata": {},
     "output_type": "execute_result"
    }
   ],
   "source": [
    "new_coords"
   ]
  },
  {
   "cell_type": "code",
   "execution_count": 53,
   "metadata": {},
   "outputs": [
    {
     "data": {
      "text/plain": [
       "array([[[1, 2, 0, 2, 0],\n",
       "        [2, 2, 3, 1, 1],\n",
       "        [0, 3, 2, 1, 2],\n",
       "        [0, 0, 1, 0, 0]],\n",
       "\n",
       "       [[2, 1, 2, 0, 1],\n",
       "        [4, 2, 4, 2, 0],\n",
       "        [2, 0, 1, 3, 1],\n",
       "        [3, 1, 4, 2, 0]],\n",
       "\n",
       "       [[0, 2, 4, 0, 3],\n",
       "        [1, 4, 4, 2, 3],\n",
       "        [4, 1, 3, 4, 0],\n",
       "        [2, 2, 4, 1, 4]]])"
      ]
     },
     "execution_count": 53,
     "metadata": {},
     "output_type": "execute_result"
    }
   ],
   "source": [
    "ratio = (2.0, 0.5, 1.0);\n",
    "new_shape = tuple(int(s * r) for s, r in zip(data.shape, ratio))\n",
    "new_coords = np.stack(np.mgrid[:new_shape[0], :new_shape[1], :new_shape[2]], axis = -1) / ratio\n",
    "new_data = interpn((np.arange(data.shape[0]), np.arange(data.shape[1]), np.arange(data.shape[2])), data, new_coords, method = 'linear', bounds_error = False, fill_value = 0)\n",
    "data"
   ]
  },
  {
   "cell_type": "code",
   "execution_count": 50,
   "metadata": {},
   "outputs": [
    {
     "data": {
      "text/plain": [
       "array([[[1. , 2. , 0. , 2. , 0. ],\n",
       "        [0. , 3. , 2. , 1. , 2. ]],\n",
       "\n",
       "       [[1.5, 1.5, 1. , 1. , 0.5],\n",
       "        [1. , 1.5, 1.5, 2. , 1.5]],\n",
       "\n",
       "       [[2. , 1. , 2. , 0. , 1. ],\n",
       "        [2. , 0. , 1. , 3. , 1. ]],\n",
       "\n",
       "       [[1. , 1.5, 3. , 0. , 2. ],\n",
       "        [3. , 0.5, 2. , 3.5, 0.5]],\n",
       "\n",
       "       [[0. , 2. , 4. , 0. , 3. ],\n",
       "        [4. , 1. , 3. , 4. , 0. ]],\n",
       "\n",
       "       [[0. , 0. , 0. , 0. , 0. ],\n",
       "        [0. , 0. , 0. , 0. , 0. ]]])"
      ]
     },
     "execution_count": 50,
     "metadata": {},
     "output_type": "execute_result"
    }
   ],
   "source": [
    "new_data"
   ]
  },
  {
   "cell_type": "code",
   "execution_count": 43,
   "metadata": {},
   "outputs": [
    {
     "data": {
      "text/plain": [
       "array([[[1. , 2. , 0. , 2. , 0. ],\n",
       "        [0. , 3. , 2. , 1. , 2. ]],\n",
       "\n",
       "       [[1.5, 1.5, 1. , 1. , 0.5],\n",
       "        [1. , 1.5, 1.5, 2. , 1.5]],\n",
       "\n",
       "       [[2. , 1. , 2. , 0. , 1. ],\n",
       "        [2. , 0. , 1. , 3. , 1. ]],\n",
       "\n",
       "       [[1. , 1.5, 3. , 0. , 2. ],\n",
       "        [3. , 0.5, 2. , 3.5, 0.5]],\n",
       "\n",
       "       [[0. , 2. , 4. , 0. , 3. ],\n",
       "        [4. , 1. , 3. , 4. , 0. ]],\n",
       "\n",
       "       [[0. , 0. , 0. , 0. , 0. ],\n",
       "        [0. , 0. , 0. , 0. , 0. ]]])"
      ]
     },
     "execution_count": 43,
     "metadata": {},
     "output_type": "execute_result"
    }
   ],
   "source": [
    "new_data"
   ]
  },
  {
   "cell_type": "code",
   "execution_count": 10,
   "metadata": {},
   "outputs": [
    {
     "data": {
      "text/plain": [
       "(6, 2, 5, 3)"
      ]
     },
     "execution_count": 10,
     "metadata": {},
     "output_type": "execute_result"
    }
   ],
   "source": [
    "np.stack(np.mgrid[:new_shape[0], :new_shape[1], :new_shape[2]], axis = -1).shape"
   ]
  },
  {
   "cell_type": "code",
   "execution_count": 11,
   "metadata": {},
   "outputs": [
    {
     "data": {
      "text/plain": [
       "(6, 2, 5)"
      ]
     },
     "execution_count": 11,
     "metadata": {},
     "output_type": "execute_result"
    }
   ],
   "source": [
    "new_shape"
   ]
  },
  {
   "cell_type": "code",
   "execution_count": 12,
   "metadata": {},
   "outputs": [
    {
     "data": {
      "text/plain": [
       "array([[[3, 0, 0, 3, 2],\n",
       "        [2, 2, 0, 1, 1],\n",
       "        [4, 4, 2, 2, 1],\n",
       "        [1, 2, 0, 3, 0]],\n",
       "\n",
       "       [[1, 0, 0, 0, 4],\n",
       "        [3, 1, 2, 4, 3],\n",
       "        [1, 4, 3, 2, 2],\n",
       "        [4, 4, 4, 4, 1]],\n",
       "\n",
       "       [[2, 1, 3, 2, 1],\n",
       "        [3, 4, 4, 0, 4],\n",
       "        [3, 1, 4, 2, 1],\n",
       "        [3, 1, 0, 4, 3]]])"
      ]
     },
     "execution_count": 12,
     "metadata": {},
     "output_type": "execute_result"
    }
   ],
   "source": [
    "data"
   ]
  },
  {
   "cell_type": "code",
   "execution_count": 75,
   "metadata": {},
   "outputs": [
    {
     "data": {
      "text/plain": [
       "array([[[2., 0., 2., 3., 2.],\n",
       "        [2., 3., 1., 0., 4.]],\n",
       "\n",
       "       [[1., 3., 1., 1., 2.],\n",
       "        [2., 1., 4., 0., 4.]],\n",
       "\n",
       "       [[2., 2., 3., 0., 3.],\n",
       "        [4., 2., 1., 1., 2.]],\n",
       "\n",
       "       [[0., 0., 0., 0., 0.],\n",
       "        [0., 0., 0., 0., 0.]],\n",
       "\n",
       "       [[0., 0., 0., 0., 0.],\n",
       "        [0., 0., 0., 0., 0.]],\n",
       "\n",
       "       [[0., 0., 0., 0., 0.],\n",
       "        [0., 0., 0., 0., 0.]]])"
      ]
     },
     "execution_count": 75,
     "metadata": {},
     "output_type": "execute_result"
    }
   ],
   "source": [
    "new_data"
   ]
  },
  {
   "cell_type": "code",
   "execution_count": 74,
   "metadata": {},
   "outputs": [
    {
     "data": {
      "text/plain": [
       "(6, 2, 5)"
      ]
     },
     "execution_count": 74,
     "metadata": {},
     "output_type": "execute_result"
    }
   ],
   "source": [
    "new_shape"
   ]
  },
  {
   "cell_type": "code",
   "execution_count": 69,
   "metadata": {},
   "outputs": [
    {
     "data": {
      "text/plain": [
       "(6, 2, 5, 3)"
      ]
     },
     "execution_count": 69,
     "metadata": {},
     "output_type": "execute_result"
    }
   ],
   "source": [
    "np.stack(np.mgrid[:new_shape[0], :new_shape[1], :new_shape[2]], axis = -1)"
   ]
  },
  {
   "cell_type": "code",
   "execution_count": 59,
   "metadata": {},
   "outputs": [
    {
     "data": {
      "text/plain": [
       "array([[[2, 0, 2, 3, 2],\n",
       "        [2, 3, 1, 0, 4],\n",
       "        [0, 1, 4, 2, 0],\n",
       "        [4, 4, 2, 2, 3]],\n",
       "\n",
       "       [[1, 3, 1, 1, 2],\n",
       "        [2, 1, 4, 0, 4],\n",
       "        [3, 2, 0, 2, 4],\n",
       "        [2, 2, 2, 4, 3]],\n",
       "\n",
       "       [[2, 2, 3, 0, 3],\n",
       "        [4, 2, 1, 1, 2],\n",
       "        [4, 3, 1, 4, 0],\n",
       "        [3, 0, 3, 0, 1]]])"
      ]
     },
     "execution_count": 59,
     "metadata": {},
     "output_type": "execute_result"
    }
   ],
   "source": [
    "data"
   ]
  },
  {
   "cell_type": "code",
   "execution_count": 58,
   "metadata": {},
   "outputs": [
    {
     "data": {
      "text/plain": [
       "(array([0, 1, 2]), array([0, 1, 2, 3]), array([0, 1, 2, 3, 4]))"
      ]
     },
     "execution_count": 58,
     "metadata": {},
     "output_type": "execute_result"
    }
   ],
   "source": [
    "(np.arange(data.shape[0]), np.arange(data.shape[1]), np.arange(data.shape[2]))"
   ]
  },
  {
   "cell_type": "code",
   "execution_count": 48,
   "metadata": {},
   "outputs": [
    {
     "data": {
      "text/plain": [
       "array([[[ 0., -1., -2., -3., -4., -5., -6.],\n",
       "        [ 3.,  2.,  1.,  0., -1., -2., -3.],\n",
       "        [ 6.,  5.,  4.,  3.,  2.,  1.,  0.],\n",
       "        [ 9.,  8.,  7.,  6.,  5.,  4.,  3.],\n",
       "        [12., 11., 10.,  9.,  8.,  7.,  6.],\n",
       "        [15., 14., 13., 12., 11., 10.,  9.]],\n",
       "\n",
       "       [[ 2.,  1.,  0., -1., -2., -3., -4.],\n",
       "        [ 5.,  4.,  3.,  2.,  1.,  0., -1.],\n",
       "        [ 8.,  7.,  6.,  5.,  4.,  3.,  2.],\n",
       "        [11., 10.,  9.,  8.,  7.,  6.,  5.],\n",
       "        [14., 13., 12., 11., 10.,  9.,  8.],\n",
       "        [17., 16., 15., 14., 13., 12., 11.]],\n",
       "\n",
       "       [[ 4.,  3.,  2.,  1.,  0., -1., -2.],\n",
       "        [ 7.,  6.,  5.,  4.,  3.,  2.,  1.],\n",
       "        [10.,  9.,  8.,  7.,  6.,  5.,  4.],\n",
       "        [13., 12., 11., 10.,  9.,  8.,  7.],\n",
       "        [16., 15., 14., 13., 12., 11., 10.],\n",
       "        [19., 18., 17., 16., 15., 14., 13.]],\n",
       "\n",
       "       [[ 6.,  5.,  4.,  3.,  2.,  1.,  0.],\n",
       "        [ 9.,  8.,  7.,  6.,  5.,  4.,  3.],\n",
       "        [12., 11., 10.,  9.,  8.,  7.,  6.],\n",
       "        [15., 14., 13., 12., 11., 10.,  9.],\n",
       "        [18., 17., 16., 15., 14., 13., 12.],\n",
       "        [21., 20., 19., 18., 17., 16., 15.]],\n",
       "\n",
       "       [[ 8.,  7.,  6.,  5.,  4.,  3.,  2.],\n",
       "        [11., 10.,  9.,  8.,  7.,  6.,  5.],\n",
       "        [14., 13., 12., 11., 10.,  9.,  8.],\n",
       "        [17., 16., 15., 14., 13., 12., 11.],\n",
       "        [20., 19., 18., 17., 16., 15., 14.],\n",
       "        [23., 22., 21., 20., 19., 18., 17.]]])"
      ]
     },
     "execution_count": 48,
     "metadata": {},
     "output_type": "execute_result"
    }
   ],
   "source": [
    "values"
   ]
  },
  {
   "cell_type": "code",
   "execution_count": 43,
   "metadata": {},
   "outputs": [
    {
     "data": {
      "text/plain": [
       "array([[[0., 0., 0., 0., 0., 0., 0.],\n",
       "        [0., 0., 0., 0., 0., 0., 0.],\n",
       "        [0., 0., 0., 0., 0., 0., 0.],\n",
       "        [0., 0., 0., 0., 0., 0., 0.],\n",
       "        [0., 0., 0., 0., 0., 0., 0.],\n",
       "        [0., 0., 0., 0., 0., 0., 0.]],\n",
       "\n",
       "       [[2., 2., 2., 2., 2., 2., 2.],\n",
       "        [2., 2., 2., 2., 2., 2., 2.],\n",
       "        [2., 2., 2., 2., 2., 2., 2.],\n",
       "        [2., 2., 2., 2., 2., 2., 2.],\n",
       "        [2., 2., 2., 2., 2., 2., 2.],\n",
       "        [2., 2., 2., 2., 2., 2., 2.]],\n",
       "\n",
       "       [[4., 4., 4., 4., 4., 4., 4.],\n",
       "        [4., 4., 4., 4., 4., 4., 4.],\n",
       "        [4., 4., 4., 4., 4., 4., 4.],\n",
       "        [4., 4., 4., 4., 4., 4., 4.],\n",
       "        [4., 4., 4., 4., 4., 4., 4.],\n",
       "        [4., 4., 4., 4., 4., 4., 4.]],\n",
       "\n",
       "       [[6., 6., 6., 6., 6., 6., 6.],\n",
       "        [6., 6., 6., 6., 6., 6., 6.],\n",
       "        [6., 6., 6., 6., 6., 6., 6.],\n",
       "        [6., 6., 6., 6., 6., 6., 6.],\n",
       "        [6., 6., 6., 6., 6., 6., 6.],\n",
       "        [6., 6., 6., 6., 6., 6., 6.]],\n",
       "\n",
       "       [[8., 8., 8., 8., 8., 8., 8.],\n",
       "        [8., 8., 8., 8., 8., 8., 8.],\n",
       "        [8., 8., 8., 8., 8., 8., 8.],\n",
       "        [8., 8., 8., 8., 8., 8., 8.],\n",
       "        [8., 8., 8., 8., 8., 8., 8.],\n",
       "        [8., 8., 8., 8., 8., 8., 8.]]])"
      ]
     },
     "execution_count": 43,
     "metadata": {},
     "output_type": "execute_result"
    }
   ],
   "source": [
    "x_*2"
   ]
  },
  {
   "cell_type": "code",
   "execution_count": 45,
   "metadata": {},
   "outputs": [
    {
     "data": {
      "text/plain": [
       "array([[[ 0.,  0.,  0.,  0.,  0.,  0.,  0.],\n",
       "        [ 3.,  3.,  3.,  3.,  3.,  3.,  3.],\n",
       "        [ 6.,  6.,  6.,  6.,  6.,  6.,  6.],\n",
       "        [ 9.,  9.,  9.,  9.,  9.,  9.,  9.],\n",
       "        [12., 12., 12., 12., 12., 12., 12.],\n",
       "        [15., 15., 15., 15., 15., 15., 15.]],\n",
       "\n",
       "       [[ 0.,  0.,  0.,  0.,  0.,  0.,  0.],\n",
       "        [ 3.,  3.,  3.,  3.,  3.,  3.,  3.],\n",
       "        [ 6.,  6.,  6.,  6.,  6.,  6.,  6.],\n",
       "        [ 9.,  9.,  9.,  9.,  9.,  9.,  9.],\n",
       "        [12., 12., 12., 12., 12., 12., 12.],\n",
       "        [15., 15., 15., 15., 15., 15., 15.]],\n",
       "\n",
       "       [[ 0.,  0.,  0.,  0.,  0.,  0.,  0.],\n",
       "        [ 3.,  3.,  3.,  3.,  3.,  3.,  3.],\n",
       "        [ 6.,  6.,  6.,  6.,  6.,  6.,  6.],\n",
       "        [ 9.,  9.,  9.,  9.,  9.,  9.,  9.],\n",
       "        [12., 12., 12., 12., 12., 12., 12.],\n",
       "        [15., 15., 15., 15., 15., 15., 15.]],\n",
       "\n",
       "       [[ 0.,  0.,  0.,  0.,  0.,  0.,  0.],\n",
       "        [ 3.,  3.,  3.,  3.,  3.,  3.,  3.],\n",
       "        [ 6.,  6.,  6.,  6.,  6.,  6.,  6.],\n",
       "        [ 9.,  9.,  9.,  9.,  9.,  9.,  9.],\n",
       "        [12., 12., 12., 12., 12., 12., 12.],\n",
       "        [15., 15., 15., 15., 15., 15., 15.]],\n",
       "\n",
       "       [[ 0.,  0.,  0.,  0.,  0.,  0.,  0.],\n",
       "        [ 3.,  3.,  3.,  3.,  3.,  3.,  3.],\n",
       "        [ 6.,  6.,  6.,  6.,  6.,  6.,  6.],\n",
       "        [ 9.,  9.,  9.,  9.,  9.,  9.,  9.],\n",
       "        [12., 12., 12., 12., 12., 12., 12.],\n",
       "        [15., 15., 15., 15., 15., 15., 15.]]])"
      ]
     },
     "execution_count": 45,
     "metadata": {},
     "output_type": "execute_result"
    }
   ],
   "source": [
    "y_*3"
   ]
  },
  {
   "cell_type": "code",
   "execution_count": 47,
   "metadata": {},
   "outputs": [
    {
     "data": {
      "text/plain": [
       "array([[[0., 1., 2., 3., 4., 5., 6.],\n",
       "        [0., 1., 2., 3., 4., 5., 6.],\n",
       "        [0., 1., 2., 3., 4., 5., 6.],\n",
       "        [0., 1., 2., 3., 4., 5., 6.],\n",
       "        [0., 1., 2., 3., 4., 5., 6.],\n",
       "        [0., 1., 2., 3., 4., 5., 6.]],\n",
       "\n",
       "       [[0., 1., 2., 3., 4., 5., 6.],\n",
       "        [0., 1., 2., 3., 4., 5., 6.],\n",
       "        [0., 1., 2., 3., 4., 5., 6.],\n",
       "        [0., 1., 2., 3., 4., 5., 6.],\n",
       "        [0., 1., 2., 3., 4., 5., 6.],\n",
       "        [0., 1., 2., 3., 4., 5., 6.]],\n",
       "\n",
       "       [[0., 1., 2., 3., 4., 5., 6.],\n",
       "        [0., 1., 2., 3., 4., 5., 6.],\n",
       "        [0., 1., 2., 3., 4., 5., 6.],\n",
       "        [0., 1., 2., 3., 4., 5., 6.],\n",
       "        [0., 1., 2., 3., 4., 5., 6.],\n",
       "        [0., 1., 2., 3., 4., 5., 6.]],\n",
       "\n",
       "       [[0., 1., 2., 3., 4., 5., 6.],\n",
       "        [0., 1., 2., 3., 4., 5., 6.],\n",
       "        [0., 1., 2., 3., 4., 5., 6.],\n",
       "        [0., 1., 2., 3., 4., 5., 6.],\n",
       "        [0., 1., 2., 3., 4., 5., 6.],\n",
       "        [0., 1., 2., 3., 4., 5., 6.]],\n",
       "\n",
       "       [[0., 1., 2., 3., 4., 5., 6.],\n",
       "        [0., 1., 2., 3., 4., 5., 6.],\n",
       "        [0., 1., 2., 3., 4., 5., 6.],\n",
       "        [0., 1., 2., 3., 4., 5., 6.],\n",
       "        [0., 1., 2., 3., 4., 5., 6.],\n",
       "        [0., 1., 2., 3., 4., 5., 6.]]])"
      ]
     },
     "execution_count": 47,
     "metadata": {},
     "output_type": "execute_result"
    }
   ],
   "source": [
    "z_"
   ]
  },
  {
   "cell_type": "code",
   "execution_count": 40,
   "metadata": {},
   "outputs": [
    {
     "data": {
      "text/plain": [
       "array([[[ 0., -1., -2., -3., -4., -5., -6.],\n",
       "        [ 3.,  2.,  1.,  0., -1., -2., -3.],\n",
       "        [ 6.,  5.,  4.,  3.,  2.,  1.,  0.],\n",
       "        [ 9.,  8.,  7.,  6.,  5.,  4.,  3.],\n",
       "        [12., 11., 10.,  9.,  8.,  7.,  6.],\n",
       "        [15., 14., 13., 12., 11., 10.,  9.]],\n",
       "\n",
       "       [[ 2.,  1.,  0., -1., -2., -3., -4.],\n",
       "        [ 5.,  4.,  3.,  2.,  1.,  0., -1.],\n",
       "        [ 8.,  7.,  6.,  5.,  4.,  3.,  2.],\n",
       "        [11., 10.,  9.,  8.,  7.,  6.,  5.],\n",
       "        [14., 13., 12., 11., 10.,  9.,  8.],\n",
       "        [17., 16., 15., 14., 13., 12., 11.]],\n",
       "\n",
       "       [[ 4.,  3.,  2.,  1.,  0., -1., -2.],\n",
       "        [ 7.,  6.,  5.,  4.,  3.,  2.,  1.],\n",
       "        [10.,  9.,  8.,  7.,  6.,  5.,  4.],\n",
       "        [13., 12., 11., 10.,  9.,  8.,  7.],\n",
       "        [16., 15., 14., 13., 12., 11., 10.],\n",
       "        [19., 18., 17., 16., 15., 14., 13.]],\n",
       "\n",
       "       [[ 6.,  5.,  4.,  3.,  2.,  1.,  0.],\n",
       "        [ 9.,  8.,  7.,  6.,  5.,  4.,  3.],\n",
       "        [12., 11., 10.,  9.,  8.,  7.,  6.],\n",
       "        [15., 14., 13., 12., 11., 10.,  9.],\n",
       "        [18., 17., 16., 15., 14., 13., 12.],\n",
       "        [21., 20., 19., 18., 17., 16., 15.]],\n",
       "\n",
       "       [[ 8.,  7.,  6.,  5.,  4.,  3.,  2.],\n",
       "        [11., 10.,  9.,  8.,  7.,  6.,  5.],\n",
       "        [14., 13., 12., 11., 10.,  9.,  8.],\n",
       "        [17., 16., 15., 14., 13., 12., 11.],\n",
       "        [20., 19., 18., 17., 16., 15., 14.],\n",
       "        [23., 22., 21., 20., 19., 18., 17.]]])"
      ]
     },
     "execution_count": 40,
     "metadata": {},
     "output_type": "execute_result"
    }
   ],
   "source": [
    "values"
   ]
  },
  {
   "cell_type": "code",
   "execution_count": 35,
   "metadata": {},
   "outputs": [],
   "source": [
    "x_, y_, z_ =np.meshgrid(*points, indexing='ij')"
   ]
  },
  {
   "cell_type": "code",
   "execution_count": 38,
   "metadata": {},
   "outputs": [
    {
     "data": {
      "text/plain": [
       "array([[[0., 1., 2., 3., 4., 5., 6.],\n",
       "        [0., 1., 2., 3., 4., 5., 6.],\n",
       "        [0., 1., 2., 3., 4., 5., 6.],\n",
       "        [0., 1., 2., 3., 4., 5., 6.],\n",
       "        [0., 1., 2., 3., 4., 5., 6.],\n",
       "        [0., 1., 2., 3., 4., 5., 6.]],\n",
       "\n",
       "       [[0., 1., 2., 3., 4., 5., 6.],\n",
       "        [0., 1., 2., 3., 4., 5., 6.],\n",
       "        [0., 1., 2., 3., 4., 5., 6.],\n",
       "        [0., 1., 2., 3., 4., 5., 6.],\n",
       "        [0., 1., 2., 3., 4., 5., 6.],\n",
       "        [0., 1., 2., 3., 4., 5., 6.]],\n",
       "\n",
       "       [[0., 1., 2., 3., 4., 5., 6.],\n",
       "        [0., 1., 2., 3., 4., 5., 6.],\n",
       "        [0., 1., 2., 3., 4., 5., 6.],\n",
       "        [0., 1., 2., 3., 4., 5., 6.],\n",
       "        [0., 1., 2., 3., 4., 5., 6.],\n",
       "        [0., 1., 2., 3., 4., 5., 6.]],\n",
       "\n",
       "       [[0., 1., 2., 3., 4., 5., 6.],\n",
       "        [0., 1., 2., 3., 4., 5., 6.],\n",
       "        [0., 1., 2., 3., 4., 5., 6.],\n",
       "        [0., 1., 2., 3., 4., 5., 6.],\n",
       "        [0., 1., 2., 3., 4., 5., 6.],\n",
       "        [0., 1., 2., 3., 4., 5., 6.]],\n",
       "\n",
       "       [[0., 1., 2., 3., 4., 5., 6.],\n",
       "        [0., 1., 2., 3., 4., 5., 6.],\n",
       "        [0., 1., 2., 3., 4., 5., 6.],\n",
       "        [0., 1., 2., 3., 4., 5., 6.],\n",
       "        [0., 1., 2., 3., 4., 5., 6.],\n",
       "        [0., 1., 2., 3., 4., 5., 6.]]])"
      ]
     },
     "execution_count": 38,
     "metadata": {},
     "output_type": "execute_result"
    }
   ],
   "source": [
    "z_"
   ]
  },
  {
   "cell_type": "code",
   "execution_count": 4,
   "metadata": {},
   "outputs": [
    {
     "ename": "NameError",
     "evalue": "name 'self' is not defined",
     "output_type": "error",
     "traceback": [
      "\u001b[0;31m---------------------------------------------------------------------------\u001b[0m",
      "\u001b[0;31mNameError\u001b[0m                                 Traceback (most recent call last)",
      "Cell \u001b[0;32mIn[4], line 4\u001b[0m\n\u001b[1;32m      2\u001b[0m ratio \u001b[39m=\u001b[39m (\u001b[39m2.0\u001b[39m, \u001b[39m0.5\u001b[39m, \u001b[39m1.0\u001b[39m);\n\u001b[1;32m      3\u001b[0m new_shape \u001b[39m=\u001b[39m \u001b[39mtuple\u001b[39m(\u001b[39mint\u001b[39m(s \u001b[39m*\u001b[39m r) \u001b[39mfor\u001b[39;00m s, r \u001b[39min\u001b[39;00m \u001b[39mzip\u001b[39m(data\u001b[39m.\u001b[39mshape, ratio))\n\u001b[0;32m----> 4\u001b[0m new_data \u001b[39m=\u001b[39m interpn((np\u001b[39m.\u001b[39marange(\u001b[39mself\u001b[39;49m\u001b[39m.\u001b[39mimage\u001b[39m.\u001b[39mshape[\u001b[39m0\u001b[39m]), np\u001b[39m.\u001b[39marange(\u001b[39mself\u001b[39m\u001b[39m.\u001b[39mimage\u001b[39m.\u001b[39mshape[\u001b[39m1\u001b[39m]), np\u001b[39m.\u001b[39marange(\u001b[39mself\u001b[39m\u001b[39m.\u001b[39mimage\u001b[39m.\u001b[39mshape[\u001b[39m2\u001b[39m])), \u001b[39mself\u001b[39m\u001b[39m.\u001b[39mimage, np\u001b[39m.\u001b[39mmgrid[:new_shape[\u001b[39m0\u001b[39m], :new_shape[\u001b[39m1\u001b[39m], :new_shape[\u001b[39m2\u001b[39m]], method \u001b[39m=\u001b[39m \u001b[39m'\u001b[39m\u001b[39mlinear\u001b[39m\u001b[39m'\u001b[39m, bounds_error \u001b[39m=\u001b[39m \u001b[39mFalse\u001b[39;00m, fill_value \u001b[39m=\u001b[39m \u001b[39m0\u001b[39m)\n",
      "\u001b[0;31mNameError\u001b[0m: name 'self' is not defined"
     ]
    }
   ],
   "source": [
    "# Volume resize\n",
    "ratio = (2.0, 0.5, 1.0);\n",
    "new_shape = tuple(int(s * r) for s, r in zip(data.shape, ratio))\n",
    "new_data = interpn((np.arange(self.image.shape[0]), np.arange(self.image.shape[1]), np.arange(self.image.shape[2])), self.image, np.mgrid[:new_shape[0], :new_shape[1], :new_shape[2]], method = 'linear', bounds_error = False, fill_value = 0)"
   ]
  },
  {
   "cell_type": "code",
   "execution_count": 21,
   "metadata": {},
   "outputs": [
    {
     "data": {
      "text/plain": [
       "[array([0, 1, 2]), array([0, 1, 2, 3]), array([0, 1, 2, 3, 4])]"
      ]
     },
     "execution_count": 21,
     "metadata": {},
     "output_type": "execute_result"
    }
   ],
   "source": [
    "list(np.arange(s) for s in data.shape)"
   ]
  },
  {
   "cell_type": "code",
   "execution_count": 19,
   "metadata": {},
   "outputs": [
    {
     "data": {
      "text/plain": [
       "array([2, 2, 2])"
      ]
     },
     "execution_count": 19,
     "metadata": {},
     "output_type": "execute_result"
    }
   ],
   "source": [
    "np.round(np.array(data.shape) * (0.5, 0.5, 0.5)).astype(int)"
   ]
  },
  {
   "cell_type": "code",
   "execution_count": 24,
   "metadata": {},
   "outputs": [
    {
     "data": {
      "text/plain": [
       "(1.0, 2.0, 2.5)"
      ]
     },
     "execution_count": 24,
     "metadata": {},
     "output_type": "execute_result"
    }
   ],
   "source": [
    "tuple(np.array((2.0, 4.0, 5.0))*(0.5, 0.5, 0.5))"
   ]
  },
  {
   "cell_type": "code",
   "execution_count": 61,
   "metadata": {},
   "outputs": [
    {
     "data": {
      "text/plain": [
       "array([0, 0, 0, 0, 0, 1, 1, 1, 1, 1, 2, 2, 2, 2, 2, 3, 3, 3, 3, 3, 0, 0,\n",
       "       0, 0, 0, 1, 1, 1, 1, 1, 2, 2, 2, 2, 2, 3, 3, 3, 3, 3, 0, 0, 0, 0,\n",
       "       0, 1, 1, 1, 1, 1, 2, 2, 2, 2, 2, 3, 3, 3, 3, 3])"
      ]
     },
     "execution_count": 61,
     "metadata": {},
     "output_type": "execute_result"
    }
   ],
   "source": [
    "y_coords.flatten()"
   ]
  },
  {
   "cell_type": "code",
   "execution_count": 62,
   "metadata": {},
   "outputs": [
    {
     "data": {
      "text/plain": [
       "array([0, 1, 2, 3, 4, 0, 1, 2, 3, 4, 0, 1, 2, 3, 4, 0, 1, 2, 3, 4, 0, 1,\n",
       "       2, 3, 4, 0, 1, 2, 3, 4, 0, 1, 2, 3, 4, 0, 1, 2, 3, 4, 0, 1, 2, 3,\n",
       "       4, 0, 1, 2, 3, 4, 0, 1, 2, 3, 4, 0, 1, 2, 3, 4])"
      ]
     },
     "execution_count": 62,
     "metadata": {},
     "output_type": "execute_result"
    }
   ],
   "source": [
    "z_coords.flatten()"
   ]
  },
  {
   "cell_type": "code",
   "execution_count": 66,
   "metadata": {},
   "outputs": [
    {
     "data": {
      "text/plain": [
       "array([[0, 0, 0, 0, 0, 0, 0, 0, 0, 0, 0, 0, 0, 0, 0, 0, 0, 0, 0, 0, 1, 1,\n",
       "        1, 1, 1, 1, 1, 1, 1, 1, 1, 1, 1, 1, 1, 1, 1, 1, 1, 1, 2, 2, 2, 2,\n",
       "        2, 2, 2, 2, 2, 2, 2, 2, 2, 2, 2, 2, 2, 2, 2, 2],\n",
       "       [0, 0, 0, 0, 0, 1, 1, 1, 1, 1, 2, 2, 2, 2, 2, 3, 3, 3, 3, 3, 0, 0,\n",
       "        0, 0, 0, 1, 1, 1, 1, 1, 2, 2, 2, 2, 2, 3, 3, 3, 3, 3, 0, 0, 0, 0,\n",
       "        0, 1, 1, 1, 1, 1, 2, 2, 2, 2, 2, 3, 3, 3, 3, 3],\n",
       "       [0, 1, 2, 3, 4, 0, 1, 2, 3, 4, 0, 1, 2, 3, 4, 0, 1, 2, 3, 4, 0, 1,\n",
       "        2, 3, 4, 0, 1, 2, 3, 4, 0, 1, 2, 3, 4, 0, 1, 2, 3, 4, 0, 1, 2, 3,\n",
       "        4, 0, 1, 2, 3, 4, 0, 1, 2, 3, 4, 0, 1, 2, 3, 4]])"
      ]
     },
     "execution_count": 66,
     "metadata": {},
     "output_type": "execute_result"
    }
   ],
   "source": [
    "np.vstack((x_coords.flatten(), y_coords.flatten(), z_coords.flatten()))"
   ]
  },
  {
   "cell_type": "code",
   "execution_count": 67,
   "metadata": {},
   "outputs": [
    {
     "data": {
      "text/plain": [
       "array([[0, 0, 0],\n",
       "       [0, 0, 1],\n",
       "       [0, 0, 2],\n",
       "       [0, 0, 3],\n",
       "       [0, 0, 4],\n",
       "       [0, 1, 0],\n",
       "       [0, 1, 1],\n",
       "       [0, 1, 2],\n",
       "       [0, 1, 3],\n",
       "       [0, 1, 4],\n",
       "       [0, 2, 0],\n",
       "       [0, 2, 1],\n",
       "       [0, 2, 2],\n",
       "       [0, 2, 3],\n",
       "       [0, 2, 4],\n",
       "       [0, 3, 0],\n",
       "       [0, 3, 1],\n",
       "       [0, 3, 2],\n",
       "       [0, 3, 3],\n",
       "       [0, 3, 4],\n",
       "       [1, 0, 0],\n",
       "       [1, 0, 1],\n",
       "       [1, 0, 2],\n",
       "       [1, 0, 3],\n",
       "       [1, 0, 4],\n",
       "       [1, 1, 0],\n",
       "       [1, 1, 1],\n",
       "       [1, 1, 2],\n",
       "       [1, 1, 3],\n",
       "       [1, 1, 4],\n",
       "       [1, 2, 0],\n",
       "       [1, 2, 1],\n",
       "       [1, 2, 2],\n",
       "       [1, 2, 3],\n",
       "       [1, 2, 4],\n",
       "       [1, 3, 0],\n",
       "       [1, 3, 1],\n",
       "       [1, 3, 2],\n",
       "       [1, 3, 3],\n",
       "       [1, 3, 4],\n",
       "       [2, 0, 0],\n",
       "       [2, 0, 1],\n",
       "       [2, 0, 2],\n",
       "       [2, 0, 3],\n",
       "       [2, 0, 4],\n",
       "       [2, 1, 0],\n",
       "       [2, 1, 1],\n",
       "       [2, 1, 2],\n",
       "       [2, 1, 3],\n",
       "       [2, 1, 4],\n",
       "       [2, 2, 0],\n",
       "       [2, 2, 1],\n",
       "       [2, 2, 2],\n",
       "       [2, 2, 3],\n",
       "       [2, 2, 4],\n",
       "       [2, 3, 0],\n",
       "       [2, 3, 1],\n",
       "       [2, 3, 2],\n",
       "       [2, 3, 3],\n",
       "       [2, 3, 4]])"
      ]
     },
     "execution_count": 67,
     "metadata": {},
     "output_type": "execute_result"
    }
   ],
   "source": [
    "np.vstack((x_coords.flatten(), y_coords.flatten(), z_coords.flatten())).T"
   ]
  },
  {
   "cell_type": "code",
   "execution_count": 63,
   "metadata": {},
   "outputs": [
    {
     "data": {
      "text/plain": [
       "array([[[0, 0, 0, 0, 0],\n",
       "        [0, 0, 0, 0, 0],\n",
       "        [0, 0, 0, 0, 0],\n",
       "        [0, 0, 0, 0, 0]],\n",
       "\n",
       "       [[1, 1, 1, 1, 1],\n",
       "        [1, 1, 1, 1, 1],\n",
       "        [1, 1, 1, 1, 1],\n",
       "        [1, 1, 1, 1, 1]],\n",
       "\n",
       "       [[2, 2, 2, 2, 2],\n",
       "        [2, 2, 2, 2, 2],\n",
       "        [2, 2, 2, 2, 2],\n",
       "        [2, 2, 2, 2, 2]]])"
      ]
     },
     "execution_count": 63,
     "metadata": {},
     "output_type": "execute_result"
    }
   ],
   "source": [
    "x_coords"
   ]
  },
  {
   "cell_type": "code",
   "execution_count": 58,
   "metadata": {},
   "outputs": [
    {
     "data": {
      "text/plain": [
       "array([[[0, 0, 0, 0, 0],\n",
       "        [1, 1, 1, 1, 1],\n",
       "        [2, 2, 2, 2, 2],\n",
       "        [3, 3, 3, 3, 3]],\n",
       "\n",
       "       [[0, 0, 0, 0, 0],\n",
       "        [1, 1, 1, 1, 1],\n",
       "        [2, 2, 2, 2, 2],\n",
       "        [3, 3, 3, 3, 3]],\n",
       "\n",
       "       [[0, 0, 0, 0, 0],\n",
       "        [1, 1, 1, 1, 1],\n",
       "        [2, 2, 2, 2, 2],\n",
       "        [3, 3, 3, 3, 3]]])"
      ]
     },
     "execution_count": 58,
     "metadata": {},
     "output_type": "execute_result"
    }
   ],
   "source": [
    "y_coords"
   ]
  },
  {
   "cell_type": "code",
   "execution_count": 59,
   "metadata": {},
   "outputs": [
    {
     "data": {
      "text/plain": [
       "array([[[0, 1, 2, 3, 4],\n",
       "        [0, 1, 2, 3, 4],\n",
       "        [0, 1, 2, 3, 4],\n",
       "        [0, 1, 2, 3, 4]],\n",
       "\n",
       "       [[0, 1, 2, 3, 4],\n",
       "        [0, 1, 2, 3, 4],\n",
       "        [0, 1, 2, 3, 4],\n",
       "        [0, 1, 2, 3, 4]],\n",
       "\n",
       "       [[0, 1, 2, 3, 4],\n",
       "        [0, 1, 2, 3, 4],\n",
       "        [0, 1, 2, 3, 4],\n",
       "        [0, 1, 2, 3, 4]]])"
      ]
     },
     "execution_count": 59,
     "metadata": {},
     "output_type": "execute_result"
    }
   ],
   "source": [
    "z_coords"
   ]
  },
  {
   "cell_type": "code",
   "execution_count": 47,
   "metadata": {},
   "outputs": [
    {
     "data": {
      "text/plain": [
       "array([[[0.98965987, 0.47365407, 0.28457634, 0.96675875, 0.85659439],\n",
       "        [0.01215394, 0.20252762, 0.74000258, 0.08672393, 0.31377506],\n",
       "        [0.20548327, 0.03478545, 0.3290931 , 0.4704827 , 0.36741789],\n",
       "        [0.5094285 , 0.56383063, 0.67557821, 0.5484748 , 0.27110253]],\n",
       "\n",
       "       [[0.70448991, 0.15729434, 0.89467307, 0.49656436, 0.03836794],\n",
       "        [0.69198483, 0.94885732, 0.42246418, 0.61870417, 0.23510501],\n",
       "        [0.98692326, 0.06026998, 0.5284153 , 0.6373397 , 0.99067839],\n",
       "        [0.73039486, 0.05001397, 0.44278527, 0.86434345, 0.51368395]],\n",
       "\n",
       "       [[0.70465176, 0.32510373, 0.89259158, 0.95863115, 0.19750949],\n",
       "        [0.00336991, 0.91987374, 0.03925686, 0.07623683, 0.82927897],\n",
       "        [0.52356726, 0.78120665, 0.38506039, 0.88402456, 0.69711836],\n",
       "        [0.44141692, 0.74911826, 0.46598693, 0.52156332, 0.56621526]]])"
      ]
     },
     "execution_count": 47,
     "metadata": {},
     "output_type": "execute_result"
    }
   ],
   "source": [
    "data"
   ]
  },
  {
   "cell_type": "code",
   "execution_count": 77,
   "metadata": {},
   "outputs": [
    {
     "data": {
      "text/plain": [
       "(60, 3)"
      ]
     },
     "execution_count": 77,
     "metadata": {},
     "output_type": "execute_result"
    }
   ],
   "source": [
    "np.vstack((x_coords.flatten(), y_coords.flatten(), z_coords.flatten())).T.shape"
   ]
  },
  {
   "cell_type": "code",
   "execution_count": 37,
   "metadata": {},
   "outputs": [
    {
     "data": {
      "text/plain": [
       "array([ 0,  1,  2, ..., 27, 28, 29])"
      ]
     },
     "execution_count": 37,
     "metadata": {},
     "output_type": "execute_result"
    }
   ],
   "source": [
    "xx.flatten(); yy.flatten(); zz.flatten()"
   ]
  },
  {
   "cell_type": "code",
   "execution_count": 38,
   "metadata": {},
   "outputs": [
    {
     "data": {
      "text/plain": [
       "array([ 0,  0,  0, ..., 19, 19, 19])"
      ]
     },
     "execution_count": 38,
     "metadata": {},
     "output_type": "execute_result"
    }
   ],
   "source": [
    "yy.flatten()"
   ]
  },
  {
   "cell_type": "code",
   "execution_count": 3,
   "metadata": {},
   "outputs": [],
   "source": [
    "import torch\n",
    "\n",
    "data = torch.randn((100, 200, 300))"
   ]
  },
  {
   "cell_type": "code",
   "execution_count": 4,
   "metadata": {},
   "outputs": [],
   "source": [
    "data = data.numpy()"
   ]
  },
  {
   "cell_type": "code",
   "execution_count": 5,
   "metadata": {},
   "outputs": [
    {
     "data": {
      "text/plain": [
       "(100, 200, 300)"
      ]
     },
     "execution_count": 5,
     "metadata": {},
     "output_type": "execute_result"
    }
   ],
   "source": [
    "data.shape"
   ]
  },
  {
   "cell_type": "code",
   "execution_count": null,
   "metadata": {},
   "outputs": [],
   "source": [
    "# Pre-compute voxel coordinates in local image coordinate system\n",
    "x, y, z = np.meshgrid(np.arange(0, data.shape[0]), np.arange(0, data.shape[1]), np.arange(0, data.shape[2]), indexing='ij')\n",
    "\n",
    "# Create an Image3D object\n"
   ]
  },
  {
   "cell_type": "code",
   "execution_count": 77,
   "metadata": {},
   "outputs": [],
   "source": [
    " \n",
    "x_coords, y_coords, z_coords = np.meshgrid(\n",
    "            np.arange(data.shape[0]), np.arange(data.shape[1]), np.arange(data.shape[2]), indexing='ij'\n",
    "        )\n",
    "voxel_dimension = (1.0, 1.0, 1.0)\n",
    "\n",
    "x_coords = x_coords * voxel_dimension[0] - (data.shape[0] - 1) * voxel_dimension[0] / 2.0\n",
    "y_coords = y_coords * voxel_dimension[1] - (data.shape[1] - 1) * voxel_dimension[1] / 2.0\n",
    "z_coords = z_coords * voxel_dimension[2] - (data.shape[2] - 1) * voxel_dimension[2] / 2.0"
   ]
  },
  {
   "cell_type": "code",
   "execution_count": 78,
   "metadata": {},
   "outputs": [
    {
     "data": {
      "text/plain": [
       "(3, 4, 5, 3)"
      ]
     },
     "execution_count": 78,
     "metadata": {},
     "output_type": "execute_result"
    }
   ],
   "source": [
    "np.stack((x_coords, y_coords, z_coords), axis=-1).shape"
   ]
  },
  {
   "cell_type": "code",
   "execution_count": 98,
   "metadata": {},
   "outputs": [
    {
     "data": {
      "text/plain": [
       "(100, 200, 300, 3)"
      ]
     },
     "execution_count": 98,
     "metadata": {},
     "output_type": "execute_result"
    }
   ],
   "source": [
    "voxel_coords.shape"
   ]
  },
  {
   "cell_type": "code",
   "execution_count": 92,
   "metadata": {},
   "outputs": [
    {
     "data": {
      "text/plain": [
       "array([[[[ -49.5,  -99.5, -149.5],\n",
       "         [ -49.5,  -99.5, -148.5],\n",
       "         [ -49.5,  -99.5, -147.5],\n",
       "         ...,\n",
       "         [ -49.5,  -99.5,  147.5],\n",
       "         [ -49.5,  -99.5,  148.5],\n",
       "         [ -49.5,  -99.5,  149.5]],\n",
       "\n",
       "        [[ -49.5,  -98.5, -149.5],\n",
       "         [ -49.5,  -98.5, -148.5],\n",
       "         [ -49.5,  -98.5, -147.5],\n",
       "         ...,\n",
       "         [ -49.5,  -98.5,  147.5],\n",
       "         [ -49.5,  -98.5,  148.5],\n",
       "         [ -49.5,  -98.5,  149.5]],\n",
       "\n",
       "        [[ -49.5,  -97.5, -149.5],\n",
       "         [ -49.5,  -97.5, -148.5],\n",
       "         [ -49.5,  -97.5, -147.5],\n",
       "         ...,\n",
       "         [ -49.5,  -97.5,  147.5],\n",
       "         [ -49.5,  -97.5,  148.5],\n",
       "         [ -49.5,  -97.5,  149.5]],\n",
       "\n",
       "        ...,\n",
       "\n",
       "        [[ -49.5,   97.5, -149.5],\n",
       "         [ -49.5,   97.5, -148.5],\n",
       "         [ -49.5,   97.5, -147.5],\n",
       "         ...,\n",
       "         [ -49.5,   97.5,  147.5],\n",
       "         [ -49.5,   97.5,  148.5],\n",
       "         [ -49.5,   97.5,  149.5]],\n",
       "\n",
       "        [[ -49.5,   98.5, -149.5],\n",
       "         [ -49.5,   98.5, -148.5],\n",
       "         [ -49.5,   98.5, -147.5],\n",
       "         ...,\n",
       "         [ -49.5,   98.5,  147.5],\n",
       "         [ -49.5,   98.5,  148.5],\n",
       "         [ -49.5,   98.5,  149.5]],\n",
       "\n",
       "        [[ -49.5,   99.5, -149.5],\n",
       "         [ -49.5,   99.5, -148.5],\n",
       "         [ -49.5,   99.5, -147.5],\n",
       "         ...,\n",
       "         [ -49.5,   99.5,  147.5],\n",
       "         [ -49.5,   99.5,  148.5],\n",
       "         [ -49.5,   99.5,  149.5]]],\n",
       "\n",
       "\n",
       "       [[[ -48.5,  -99.5, -149.5],\n",
       "         [ -48.5,  -99.5, -148.5],\n",
       "         [ -48.5,  -99.5, -147.5],\n",
       "         ...,\n",
       "         [ -48.5,  -99.5,  147.5],\n",
       "         [ -48.5,  -99.5,  148.5],\n",
       "         [ -48.5,  -99.5,  149.5]],\n",
       "\n",
       "        [[ -48.5,  -98.5, -149.5],\n",
       "         [ -48.5,  -98.5, -148.5],\n",
       "         [ -48.5,  -98.5, -147.5],\n",
       "         ...,\n",
       "         [ -48.5,  -98.5,  147.5],\n",
       "         [ -48.5,  -98.5,  148.5],\n",
       "         [ -48.5,  -98.5,  149.5]],\n",
       "\n",
       "        [[ -48.5,  -97.5, -149.5],\n",
       "         [ -48.5,  -97.5, -148.5],\n",
       "         [ -48.5,  -97.5, -147.5],\n",
       "         ...,\n",
       "         [ -48.5,  -97.5,  147.5],\n",
       "         [ -48.5,  -97.5,  148.5],\n",
       "         [ -48.5,  -97.5,  149.5]],\n",
       "\n",
       "        ...,\n",
       "\n",
       "        [[ -48.5,   97.5, -149.5],\n",
       "         [ -48.5,   97.5, -148.5],\n",
       "         [ -48.5,   97.5, -147.5],\n",
       "         ...,\n",
       "         [ -48.5,   97.5,  147.5],\n",
       "         [ -48.5,   97.5,  148.5],\n",
       "         [ -48.5,   97.5,  149.5]],\n",
       "\n",
       "        [[ -48.5,   98.5, -149.5],\n",
       "         [ -48.5,   98.5, -148.5],\n",
       "         [ -48.5,   98.5, -147.5],\n",
       "         ...,\n",
       "         [ -48.5,   98.5,  147.5],\n",
       "         [ -48.5,   98.5,  148.5],\n",
       "         [ -48.5,   98.5,  149.5]],\n",
       "\n",
       "        [[ -48.5,   99.5, -149.5],\n",
       "         [ -48.5,   99.5, -148.5],\n",
       "         [ -48.5,   99.5, -147.5],\n",
       "         ...,\n",
       "         [ -48.5,   99.5,  147.5],\n",
       "         [ -48.5,   99.5,  148.5],\n",
       "         [ -48.5,   99.5,  149.5]]],\n",
       "\n",
       "\n",
       "       [[[ -47.5,  -99.5, -149.5],\n",
       "         [ -47.5,  -99.5, -148.5],\n",
       "         [ -47.5,  -99.5, -147.5],\n",
       "         ...,\n",
       "         [ -47.5,  -99.5,  147.5],\n",
       "         [ -47.5,  -99.5,  148.5],\n",
       "         [ -47.5,  -99.5,  149.5]],\n",
       "\n",
       "        [[ -47.5,  -98.5, -149.5],\n",
       "         [ -47.5,  -98.5, -148.5],\n",
       "         [ -47.5,  -98.5, -147.5],\n",
       "         ...,\n",
       "         [ -47.5,  -98.5,  147.5],\n",
       "         [ -47.5,  -98.5,  148.5],\n",
       "         [ -47.5,  -98.5,  149.5]],\n",
       "\n",
       "        [[ -47.5,  -97.5, -149.5],\n",
       "         [ -47.5,  -97.5, -148.5],\n",
       "         [ -47.5,  -97.5, -147.5],\n",
       "         ...,\n",
       "         [ -47.5,  -97.5,  147.5],\n",
       "         [ -47.5,  -97.5,  148.5],\n",
       "         [ -47.5,  -97.5,  149.5]],\n",
       "\n",
       "        ...,\n",
       "\n",
       "        [[ -47.5,   97.5, -149.5],\n",
       "         [ -47.5,   97.5, -148.5],\n",
       "         [ -47.5,   97.5, -147.5],\n",
       "         ...,\n",
       "         [ -47.5,   97.5,  147.5],\n",
       "         [ -47.5,   97.5,  148.5],\n",
       "         [ -47.5,   97.5,  149.5]],\n",
       "\n",
       "        [[ -47.5,   98.5, -149.5],\n",
       "         [ -47.5,   98.5, -148.5],\n",
       "         [ -47.5,   98.5, -147.5],\n",
       "         ...,\n",
       "         [ -47.5,   98.5,  147.5],\n",
       "         [ -47.5,   98.5,  148.5],\n",
       "         [ -47.5,   98.5,  149.5]],\n",
       "\n",
       "        [[ -47.5,   99.5, -149.5],\n",
       "         [ -47.5,   99.5, -148.5],\n",
       "         [ -47.5,   99.5, -147.5],\n",
       "         ...,\n",
       "         [ -47.5,   99.5,  147.5],\n",
       "         [ -47.5,   99.5,  148.5],\n",
       "         [ -47.5,   99.5,  149.5]]],\n",
       "\n",
       "\n",
       "       ...,\n",
       "\n",
       "\n",
       "       [[[  47.5,  -99.5, -149.5],\n",
       "         [  47.5,  -99.5, -148.5],\n",
       "         [  47.5,  -99.5, -147.5],\n",
       "         ...,\n",
       "         [  47.5,  -99.5,  147.5],\n",
       "         [  47.5,  -99.5,  148.5],\n",
       "         [  47.5,  -99.5,  149.5]],\n",
       "\n",
       "        [[  47.5,  -98.5, -149.5],\n",
       "         [  47.5,  -98.5, -148.5],\n",
       "         [  47.5,  -98.5, -147.5],\n",
       "         ...,\n",
       "         [  47.5,  -98.5,  147.5],\n",
       "         [  47.5,  -98.5,  148.5],\n",
       "         [  47.5,  -98.5,  149.5]],\n",
       "\n",
       "        [[  47.5,  -97.5, -149.5],\n",
       "         [  47.5,  -97.5, -148.5],\n",
       "         [  47.5,  -97.5, -147.5],\n",
       "         ...,\n",
       "         [  47.5,  -97.5,  147.5],\n",
       "         [  47.5,  -97.5,  148.5],\n",
       "         [  47.5,  -97.5,  149.5]],\n",
       "\n",
       "        ...,\n",
       "\n",
       "        [[  47.5,   97.5, -149.5],\n",
       "         [  47.5,   97.5, -148.5],\n",
       "         [  47.5,   97.5, -147.5],\n",
       "         ...,\n",
       "         [  47.5,   97.5,  147.5],\n",
       "         [  47.5,   97.5,  148.5],\n",
       "         [  47.5,   97.5,  149.5]],\n",
       "\n",
       "        [[  47.5,   98.5, -149.5],\n",
       "         [  47.5,   98.5, -148.5],\n",
       "         [  47.5,   98.5, -147.5],\n",
       "         ...,\n",
       "         [  47.5,   98.5,  147.5],\n",
       "         [  47.5,   98.5,  148.5],\n",
       "         [  47.5,   98.5,  149.5]],\n",
       "\n",
       "        [[  47.5,   99.5, -149.5],\n",
       "         [  47.5,   99.5, -148.5],\n",
       "         [  47.5,   99.5, -147.5],\n",
       "         ...,\n",
       "         [  47.5,   99.5,  147.5],\n",
       "         [  47.5,   99.5,  148.5],\n",
       "         [  47.5,   99.5,  149.5]]],\n",
       "\n",
       "\n",
       "       [[[  48.5,  -99.5, -149.5],\n",
       "         [  48.5,  -99.5, -148.5],\n",
       "         [  48.5,  -99.5, -147.5],\n",
       "         ...,\n",
       "         [  48.5,  -99.5,  147.5],\n",
       "         [  48.5,  -99.5,  148.5],\n",
       "         [  48.5,  -99.5,  149.5]],\n",
       "\n",
       "        [[  48.5,  -98.5, -149.5],\n",
       "         [  48.5,  -98.5, -148.5],\n",
       "         [  48.5,  -98.5, -147.5],\n",
       "         ...,\n",
       "         [  48.5,  -98.5,  147.5],\n",
       "         [  48.5,  -98.5,  148.5],\n",
       "         [  48.5,  -98.5,  149.5]],\n",
       "\n",
       "        [[  48.5,  -97.5, -149.5],\n",
       "         [  48.5,  -97.5, -148.5],\n",
       "         [  48.5,  -97.5, -147.5],\n",
       "         ...,\n",
       "         [  48.5,  -97.5,  147.5],\n",
       "         [  48.5,  -97.5,  148.5],\n",
       "         [  48.5,  -97.5,  149.5]],\n",
       "\n",
       "        ...,\n",
       "\n",
       "        [[  48.5,   97.5, -149.5],\n",
       "         [  48.5,   97.5, -148.5],\n",
       "         [  48.5,   97.5, -147.5],\n",
       "         ...,\n",
       "         [  48.5,   97.5,  147.5],\n",
       "         [  48.5,   97.5,  148.5],\n",
       "         [  48.5,   97.5,  149.5]],\n",
       "\n",
       "        [[  48.5,   98.5, -149.5],\n",
       "         [  48.5,   98.5, -148.5],\n",
       "         [  48.5,   98.5, -147.5],\n",
       "         ...,\n",
       "         [  48.5,   98.5,  147.5],\n",
       "         [  48.5,   98.5,  148.5],\n",
       "         [  48.5,   98.5,  149.5]],\n",
       "\n",
       "        [[  48.5,   99.5, -149.5],\n",
       "         [  48.5,   99.5, -148.5],\n",
       "         [  48.5,   99.5, -147.5],\n",
       "         ...,\n",
       "         [  48.5,   99.5,  147.5],\n",
       "         [  48.5,   99.5,  148.5],\n",
       "         [  48.5,   99.5,  149.5]]],\n",
       "\n",
       "\n",
       "       [[[  49.5,  -99.5, -149.5],\n",
       "         [  49.5,  -99.5, -148.5],\n",
       "         [  49.5,  -99.5, -147.5],\n",
       "         ...,\n",
       "         [  49.5,  -99.5,  147.5],\n",
       "         [  49.5,  -99.5,  148.5],\n",
       "         [  49.5,  -99.5,  149.5]],\n",
       "\n",
       "        [[  49.5,  -98.5, -149.5],\n",
       "         [  49.5,  -98.5, -148.5],\n",
       "         [  49.5,  -98.5, -147.5],\n",
       "         ...,\n",
       "         [  49.5,  -98.5,  147.5],\n",
       "         [  49.5,  -98.5,  148.5],\n",
       "         [  49.5,  -98.5,  149.5]],\n",
       "\n",
       "        [[  49.5,  -97.5, -149.5],\n",
       "         [  49.5,  -97.5, -148.5],\n",
       "         [  49.5,  -97.5, -147.5],\n",
       "         ...,\n",
       "         [  49.5,  -97.5,  147.5],\n",
       "         [  49.5,  -97.5,  148.5],\n",
       "         [  49.5,  -97.5,  149.5]],\n",
       "\n",
       "        ...,\n",
       "\n",
       "        [[  49.5,   97.5, -149.5],\n",
       "         [  49.5,   97.5, -148.5],\n",
       "         [  49.5,   97.5, -147.5],\n",
       "         ...,\n",
       "         [  49.5,   97.5,  147.5],\n",
       "         [  49.5,   97.5,  148.5],\n",
       "         [  49.5,   97.5,  149.5]],\n",
       "\n",
       "        [[  49.5,   98.5, -149.5],\n",
       "         [  49.5,   98.5, -148.5],\n",
       "         [  49.5,   98.5, -147.5],\n",
       "         ...,\n",
       "         [  49.5,   98.5,  147.5],\n",
       "         [  49.5,   98.5,  148.5],\n",
       "         [  49.5,   98.5,  149.5]],\n",
       "\n",
       "        [[  49.5,   99.5, -149.5],\n",
       "         [  49.5,   99.5, -148.5],\n",
       "         [  49.5,   99.5, -147.5],\n",
       "         ...,\n",
       "         [  49.5,   99.5,  147.5],\n",
       "         [  49.5,   99.5,  148.5],\n",
       "         [  49.5,   99.5,  149.5]]]])"
      ]
     },
     "execution_count": 92,
     "metadata": {},
     "output_type": "execute_result"
    }
   ],
   "source": [
    "voxel_coords"
   ]
  },
  {
   "cell_type": "code",
   "execution_count": 76,
   "metadata": {},
   "outputs": [
    {
     "data": {
      "text/plain": [
       "149.5"
      ]
     },
     "execution_count": 76,
     "metadata": {},
     "output_type": "execute_result"
    }
   ],
   "source": [
    "(data.shape[2] - 1) * voxel_dimension[2] / 2.0"
   ]
  },
  {
   "cell_type": "code",
   "execution_count": 73,
   "metadata": {},
   "outputs": [],
   "source": [
    "\n",
    "x_coords = x_coords * voxel_dimension[0] - (data.shape[0] - 1) * voxel_dimension[0] / 2.0"
   ]
  },
  {
   "cell_type": "code",
   "execution_count": 71,
   "metadata": {},
   "outputs": [
    {
     "data": {
      "text/plain": [
       "49.5"
      ]
     },
     "execution_count": 71,
     "metadata": {},
     "output_type": "execute_result"
    }
   ],
   "source": [
    "(data.shape[0] - 1) * voxel_dimension[0] / 2.0"
   ]
  },
  {
   "cell_type": "code",
   "execution_count": 79,
   "metadata": {},
   "outputs": [
    {
     "data": {
      "text/plain": [
       "array([[[-149.5, -148.5, -147.5, ...,  147.5,  148.5,  149.5],\n",
       "        [-149.5, -148.5, -147.5, ...,  147.5,  148.5,  149.5],\n",
       "        [-149.5, -148.5, -147.5, ...,  147.5,  148.5,  149.5],\n",
       "        ...,\n",
       "        [-149.5, -148.5, -147.5, ...,  147.5,  148.5,  149.5],\n",
       "        [-149.5, -148.5, -147.5, ...,  147.5,  148.5,  149.5],\n",
       "        [-149.5, -148.5, -147.5, ...,  147.5,  148.5,  149.5]],\n",
       "\n",
       "       [[-149.5, -148.5, -147.5, ...,  147.5,  148.5,  149.5],\n",
       "        [-149.5, -148.5, -147.5, ...,  147.5,  148.5,  149.5],\n",
       "        [-149.5, -148.5, -147.5, ...,  147.5,  148.5,  149.5],\n",
       "        ...,\n",
       "        [-149.5, -148.5, -147.5, ...,  147.5,  148.5,  149.5],\n",
       "        [-149.5, -148.5, -147.5, ...,  147.5,  148.5,  149.5],\n",
       "        [-149.5, -148.5, -147.5, ...,  147.5,  148.5,  149.5]],\n",
       "\n",
       "       [[-149.5, -148.5, -147.5, ...,  147.5,  148.5,  149.5],\n",
       "        [-149.5, -148.5, -147.5, ...,  147.5,  148.5,  149.5],\n",
       "        [-149.5, -148.5, -147.5, ...,  147.5,  148.5,  149.5],\n",
       "        ...,\n",
       "        [-149.5, -148.5, -147.5, ...,  147.5,  148.5,  149.5],\n",
       "        [-149.5, -148.5, -147.5, ...,  147.5,  148.5,  149.5],\n",
       "        [-149.5, -148.5, -147.5, ...,  147.5,  148.5,  149.5]],\n",
       "\n",
       "       ...,\n",
       "\n",
       "       [[-149.5, -148.5, -147.5, ...,  147.5,  148.5,  149.5],\n",
       "        [-149.5, -148.5, -147.5, ...,  147.5,  148.5,  149.5],\n",
       "        [-149.5, -148.5, -147.5, ...,  147.5,  148.5,  149.5],\n",
       "        ...,\n",
       "        [-149.5, -148.5, -147.5, ...,  147.5,  148.5,  149.5],\n",
       "        [-149.5, -148.5, -147.5, ...,  147.5,  148.5,  149.5],\n",
       "        [-149.5, -148.5, -147.5, ...,  147.5,  148.5,  149.5]],\n",
       "\n",
       "       [[-149.5, -148.5, -147.5, ...,  147.5,  148.5,  149.5],\n",
       "        [-149.5, -148.5, -147.5, ...,  147.5,  148.5,  149.5],\n",
       "        [-149.5, -148.5, -147.5, ...,  147.5,  148.5,  149.5],\n",
       "        ...,\n",
       "        [-149.5, -148.5, -147.5, ...,  147.5,  148.5,  149.5],\n",
       "        [-149.5, -148.5, -147.5, ...,  147.5,  148.5,  149.5],\n",
       "        [-149.5, -148.5, -147.5, ...,  147.5,  148.5,  149.5]],\n",
       "\n",
       "       [[-149.5, -148.5, -147.5, ...,  147.5,  148.5,  149.5],\n",
       "        [-149.5, -148.5, -147.5, ...,  147.5,  148.5,  149.5],\n",
       "        [-149.5, -148.5, -147.5, ...,  147.5,  148.5,  149.5],\n",
       "        ...,\n",
       "        [-149.5, -148.5, -147.5, ...,  147.5,  148.5,  149.5],\n",
       "        [-149.5, -148.5, -147.5, ...,  147.5,  148.5,  149.5],\n",
       "        [-149.5, -148.5, -147.5, ...,  147.5,  148.5,  149.5]]])"
      ]
     },
     "execution_count": 79,
     "metadata": {},
     "output_type": "execute_result"
    }
   ],
   "source": [
    "z_coords"
   ]
  },
  {
   "cell_type": "code",
   "execution_count": 29,
   "metadata": {},
   "outputs": [
    {
     "data": {
      "text/plain": [
       "array([[0. , 0.5, 1. ],\n",
       "       [0. , 0.5, 1. ]])"
      ]
     },
     "execution_count": 29,
     "metadata": {},
     "output_type": "execute_result"
    }
   ],
   "source": [
    "nx, ny = (3, 2)\n",
    "x = np.linspace(0, 1, nx)\n",
    "y = np.linspace(0, 1, ny)\n",
    "xv, yv = np.meshgrid(x, y)\n",
    "xv"
   ]
  },
  {
   "cell_type": "code",
   "execution_count": 32,
   "metadata": {},
   "outputs": [
    {
     "data": {
      "text/plain": [
       "array([[0., 0., 0.],\n",
       "       [1., 1., 1.]])"
      ]
     },
     "execution_count": 32,
     "metadata": {},
     "output_type": "execute_result"
    }
   ],
   "source": [
    "yv"
   ]
  },
  {
   "cell_type": "code",
   "execution_count": 30,
   "metadata": {},
   "outputs": [
    {
     "data": {
      "text/plain": [
       "array([0. , 0.5, 1. ])"
      ]
     },
     "execution_count": 30,
     "metadata": {},
     "output_type": "execute_result"
    }
   ],
   "source": [
    "x"
   ]
  },
  {
   "cell_type": "code",
   "execution_count": 31,
   "metadata": {},
   "outputs": [
    {
     "data": {
      "text/plain": [
       "array([0., 1.])"
      ]
     },
     "execution_count": 31,
     "metadata": {},
     "output_type": "execute_result"
    }
   ],
   "source": [
    "y"
   ]
  },
  {
   "cell_type": "code",
   "execution_count": 33,
   "metadata": {},
   "outputs": [
    {
     "data": {
      "text/plain": [
       "[array([[0. , 0.5, 1. ],\n",
       "        [0. , 0.5, 1. ]]),\n",
       " array([[0., 0., 0.],\n",
       "        [1., 1., 1.]])]"
      ]
     },
     "execution_count": 33,
     "metadata": {},
     "output_type": "execute_result"
    }
   ],
   "source": [
    "np.meshgrid(x, y)"
   ]
  },
  {
   "cell_type": "code",
   "execution_count": 61,
   "metadata": {},
   "outputs": [],
   "source": [
    "x = np.array([0, 1, 2])\n",
    "y = np.array([5, 6, 7])\n",
    "z = np.array([10, 11, 12])"
   ]
  },
  {
   "cell_type": "code",
   "execution_count": 62,
   "metadata": {},
   "outputs": [
    {
     "data": {
      "text/plain": [
       "(3, 3, 3, 3)"
      ]
     },
     "execution_count": 62,
     "metadata": {},
     "output_type": "execute_result"
    }
   ],
   "source": [
    "res=np.array(np.meshgrid(x, y,z, indexing='ij'))\n",
    "res.shape"
   ]
  },
  {
   "cell_type": "code",
   "execution_count": 65,
   "metadata": {},
   "outputs": [
    {
     "data": {
      "text/plain": [
       "array([[[[ 0,  0,  0],\n",
       "         [ 0,  0,  0],\n",
       "         [ 0,  0,  0]],\n",
       "\n",
       "        [[ 1,  1,  1],\n",
       "         [ 1,  1,  1],\n",
       "         [ 1,  1,  1]],\n",
       "\n",
       "        [[ 2,  2,  2],\n",
       "         [ 2,  2,  2],\n",
       "         [ 2,  2,  2]]],\n",
       "\n",
       "\n",
       "       [[[ 5,  5,  5],\n",
       "         [ 6,  6,  6],\n",
       "         [ 7,  7,  7]],\n",
       "\n",
       "        [[ 5,  5,  5],\n",
       "         [ 6,  6,  6],\n",
       "         [ 7,  7,  7]],\n",
       "\n",
       "        [[ 5,  5,  5],\n",
       "         [ 6,  6,  6],\n",
       "         [ 7,  7,  7]]],\n",
       "\n",
       "\n",
       "       [[[10, 11, 12],\n",
       "         [10, 11, 12],\n",
       "         [10, 11, 12]],\n",
       "\n",
       "        [[10, 11, 12],\n",
       "         [10, 11, 12],\n",
       "         [10, 11, 12]],\n",
       "\n",
       "        [[10, 11, 12],\n",
       "         [10, 11, 12],\n",
       "         [10, 11, 12]]]])"
      ]
     },
     "execution_count": 65,
     "metadata": {},
     "output_type": "execute_result"
    }
   ],
   "source": [
    "res"
   ]
  },
  {
   "cell_type": "code",
   "execution_count": 15,
   "metadata": {},
   "outputs": [],
   "source": [
    "m=np.array([[[1,2,3],\n",
    "            [4,5,6],\n",
    "            [7,8,9]],\n",
    " \n",
    "            [[10,11,12],\n",
    "            [13,14,15],\n",
    "            [16,17,18]]])\n",
    " \n",
    "n=np.array([[[51,52,53],\n",
    "            [54,55,56],\n",
    "            [57,58,59]],\n",
    " \n",
    "            [[110,111,112],\n",
    "            [113,114,115],\n",
    "            [116,117,118]]])"
   ]
  },
  {
   "cell_type": "code",
   "execution_count": 16,
   "metadata": {},
   "outputs": [
    {
     "data": {
      "text/plain": [
       "(2, 3, 3)"
      ]
     },
     "execution_count": 16,
     "metadata": {},
     "output_type": "execute_result"
    }
   ],
   "source": [
    "m.shape"
   ]
  },
  {
   "cell_type": "code",
   "execution_count": 17,
   "metadata": {},
   "outputs": [
    {
     "data": {
      "text/plain": [
       "array([[10, 11, 12],\n",
       "       [13, 14, 15],\n",
       "       [16, 17, 18]])"
      ]
     },
     "execution_count": 17,
     "metadata": {},
     "output_type": "execute_result"
    }
   ],
   "source": [
    "m[1]"
   ]
  },
  {
   "cell_type": "code",
   "execution_count": 18,
   "metadata": {},
   "outputs": [
    {
     "data": {
      "text/plain": [
       "array([[[[  1,  51],\n",
       "         [  2,  52],\n",
       "         [  3,  53]],\n",
       "\n",
       "        [[  4,  54],\n",
       "         [  5,  55],\n",
       "         [  6,  56]],\n",
       "\n",
       "        [[  7,  57],\n",
       "         [  8,  58],\n",
       "         [  9,  59]]],\n",
       "\n",
       "\n",
       "       [[[ 10, 110],\n",
       "         [ 11, 111],\n",
       "         [ 12, 112]],\n",
       "\n",
       "        [[ 13, 113],\n",
       "         [ 14, 114],\n",
       "         [ 15, 115]],\n",
       "\n",
       "        [[ 16, 116],\n",
       "         [ 17, 117],\n",
       "         [ 18, 118]]]])"
      ]
     },
     "execution_count": 18,
     "metadata": {},
     "output_type": "execute_result"
    }
   ],
   "source": [
    "np.stack((m,n),axis=-1)\n"
   ]
  },
  {
   "cell_type": "code",
   "execution_count": 10,
   "metadata": {},
   "outputs": [],
   "source": [
    "x_coords, y_coords, z_coords = np.meshgrid(\n",
    "            np.arange(data.shape[0]), np.arange(data.shape[1]), np.arange(data.shape[2]), indexing='ij'\n",
    "        )\n",
    "\n",
    "voxel_coords2 = np.stack((x_coords, y_coords, z_coords), axis=-1)\n"
   ]
  },
  {
   "cell_type": "code",
   "execution_count": 12,
   "metadata": {},
   "outputs": [
    {
     "data": {
      "text/plain": [
       "array([[[[  0,   0,   0],\n",
       "         [  0,   0,   1],\n",
       "         [  0,   0,   2],\n",
       "         ...,\n",
       "         [  0,   0, 297],\n",
       "         [  0,   0, 298],\n",
       "         [  0,   0, 299]],\n",
       "\n",
       "        [[  0,   1,   0],\n",
       "         [  0,   1,   1],\n",
       "         [  0,   1,   2],\n",
       "         ...,\n",
       "         [  0,   1, 297],\n",
       "         [  0,   1, 298],\n",
       "         [  0,   1, 299]],\n",
       "\n",
       "        [[  0,   2,   0],\n",
       "         [  0,   2,   1],\n",
       "         [  0,   2,   2],\n",
       "         ...,\n",
       "         [  0,   2, 297],\n",
       "         [  0,   2, 298],\n",
       "         [  0,   2, 299]],\n",
       "\n",
       "        ...,\n",
       "\n",
       "        [[  0, 197,   0],\n",
       "         [  0, 197,   1],\n",
       "         [  0, 197,   2],\n",
       "         ...,\n",
       "         [  0, 197, 297],\n",
       "         [  0, 197, 298],\n",
       "         [  0, 197, 299]],\n",
       "\n",
       "        [[  0, 198,   0],\n",
       "         [  0, 198,   1],\n",
       "         [  0, 198,   2],\n",
       "         ...,\n",
       "         [  0, 198, 297],\n",
       "         [  0, 198, 298],\n",
       "         [  0, 198, 299]],\n",
       "\n",
       "        [[  0, 199,   0],\n",
       "         [  0, 199,   1],\n",
       "         [  0, 199,   2],\n",
       "         ...,\n",
       "         [  0, 199, 297],\n",
       "         [  0, 199, 298],\n",
       "         [  0, 199, 299]]],\n",
       "\n",
       "\n",
       "       [[[  1,   0,   0],\n",
       "         [  1,   0,   1],\n",
       "         [  1,   0,   2],\n",
       "         ...,\n",
       "         [  1,   0, 297],\n",
       "         [  1,   0, 298],\n",
       "         [  1,   0, 299]],\n",
       "\n",
       "        [[  1,   1,   0],\n",
       "         [  1,   1,   1],\n",
       "         [  1,   1,   2],\n",
       "         ...,\n",
       "         [  1,   1, 297],\n",
       "         [  1,   1, 298],\n",
       "         [  1,   1, 299]],\n",
       "\n",
       "        [[  1,   2,   0],\n",
       "         [  1,   2,   1],\n",
       "         [  1,   2,   2],\n",
       "         ...,\n",
       "         [  1,   2, 297],\n",
       "         [  1,   2, 298],\n",
       "         [  1,   2, 299]],\n",
       "\n",
       "        ...,\n",
       "\n",
       "        [[  1, 197,   0],\n",
       "         [  1, 197,   1],\n",
       "         [  1, 197,   2],\n",
       "         ...,\n",
       "         [  1, 197, 297],\n",
       "         [  1, 197, 298],\n",
       "         [  1, 197, 299]],\n",
       "\n",
       "        [[  1, 198,   0],\n",
       "         [  1, 198,   1],\n",
       "         [  1, 198,   2],\n",
       "         ...,\n",
       "         [  1, 198, 297],\n",
       "         [  1, 198, 298],\n",
       "         [  1, 198, 299]],\n",
       "\n",
       "        [[  1, 199,   0],\n",
       "         [  1, 199,   1],\n",
       "         [  1, 199,   2],\n",
       "         ...,\n",
       "         [  1, 199, 297],\n",
       "         [  1, 199, 298],\n",
       "         [  1, 199, 299]]],\n",
       "\n",
       "\n",
       "       [[[  2,   0,   0],\n",
       "         [  2,   0,   1],\n",
       "         [  2,   0,   2],\n",
       "         ...,\n",
       "         [  2,   0, 297],\n",
       "         [  2,   0, 298],\n",
       "         [  2,   0, 299]],\n",
       "\n",
       "        [[  2,   1,   0],\n",
       "         [  2,   1,   1],\n",
       "         [  2,   1,   2],\n",
       "         ...,\n",
       "         [  2,   1, 297],\n",
       "         [  2,   1, 298],\n",
       "         [  2,   1, 299]],\n",
       "\n",
       "        [[  2,   2,   0],\n",
       "         [  2,   2,   1],\n",
       "         [  2,   2,   2],\n",
       "         ...,\n",
       "         [  2,   2, 297],\n",
       "         [  2,   2, 298],\n",
       "         [  2,   2, 299]],\n",
       "\n",
       "        ...,\n",
       "\n",
       "        [[  2, 197,   0],\n",
       "         [  2, 197,   1],\n",
       "         [  2, 197,   2],\n",
       "         ...,\n",
       "         [  2, 197, 297],\n",
       "         [  2, 197, 298],\n",
       "         [  2, 197, 299]],\n",
       "\n",
       "        [[  2, 198,   0],\n",
       "         [  2, 198,   1],\n",
       "         [  2, 198,   2],\n",
       "         ...,\n",
       "         [  2, 198, 297],\n",
       "         [  2, 198, 298],\n",
       "         [  2, 198, 299]],\n",
       "\n",
       "        [[  2, 199,   0],\n",
       "         [  2, 199,   1],\n",
       "         [  2, 199,   2],\n",
       "         ...,\n",
       "         [  2, 199, 297],\n",
       "         [  2, 199, 298],\n",
       "         [  2, 199, 299]]],\n",
       "\n",
       "\n",
       "       ...,\n",
       "\n",
       "\n",
       "       [[[ 97,   0,   0],\n",
       "         [ 97,   0,   1],\n",
       "         [ 97,   0,   2],\n",
       "         ...,\n",
       "         [ 97,   0, 297],\n",
       "         [ 97,   0, 298],\n",
       "         [ 97,   0, 299]],\n",
       "\n",
       "        [[ 97,   1,   0],\n",
       "         [ 97,   1,   1],\n",
       "         [ 97,   1,   2],\n",
       "         ...,\n",
       "         [ 97,   1, 297],\n",
       "         [ 97,   1, 298],\n",
       "         [ 97,   1, 299]],\n",
       "\n",
       "        [[ 97,   2,   0],\n",
       "         [ 97,   2,   1],\n",
       "         [ 97,   2,   2],\n",
       "         ...,\n",
       "         [ 97,   2, 297],\n",
       "         [ 97,   2, 298],\n",
       "         [ 97,   2, 299]],\n",
       "\n",
       "        ...,\n",
       "\n",
       "        [[ 97, 197,   0],\n",
       "         [ 97, 197,   1],\n",
       "         [ 97, 197,   2],\n",
       "         ...,\n",
       "         [ 97, 197, 297],\n",
       "         [ 97, 197, 298],\n",
       "         [ 97, 197, 299]],\n",
       "\n",
       "        [[ 97, 198,   0],\n",
       "         [ 97, 198,   1],\n",
       "         [ 97, 198,   2],\n",
       "         ...,\n",
       "         [ 97, 198, 297],\n",
       "         [ 97, 198, 298],\n",
       "         [ 97, 198, 299]],\n",
       "\n",
       "        [[ 97, 199,   0],\n",
       "         [ 97, 199,   1],\n",
       "         [ 97, 199,   2],\n",
       "         ...,\n",
       "         [ 97, 199, 297],\n",
       "         [ 97, 199, 298],\n",
       "         [ 97, 199, 299]]],\n",
       "\n",
       "\n",
       "       [[[ 98,   0,   0],\n",
       "         [ 98,   0,   1],\n",
       "         [ 98,   0,   2],\n",
       "         ...,\n",
       "         [ 98,   0, 297],\n",
       "         [ 98,   0, 298],\n",
       "         [ 98,   0, 299]],\n",
       "\n",
       "        [[ 98,   1,   0],\n",
       "         [ 98,   1,   1],\n",
       "         [ 98,   1,   2],\n",
       "         ...,\n",
       "         [ 98,   1, 297],\n",
       "         [ 98,   1, 298],\n",
       "         [ 98,   1, 299]],\n",
       "\n",
       "        [[ 98,   2,   0],\n",
       "         [ 98,   2,   1],\n",
       "         [ 98,   2,   2],\n",
       "         ...,\n",
       "         [ 98,   2, 297],\n",
       "         [ 98,   2, 298],\n",
       "         [ 98,   2, 299]],\n",
       "\n",
       "        ...,\n",
       "\n",
       "        [[ 98, 197,   0],\n",
       "         [ 98, 197,   1],\n",
       "         [ 98, 197,   2],\n",
       "         ...,\n",
       "         [ 98, 197, 297],\n",
       "         [ 98, 197, 298],\n",
       "         [ 98, 197, 299]],\n",
       "\n",
       "        [[ 98, 198,   0],\n",
       "         [ 98, 198,   1],\n",
       "         [ 98, 198,   2],\n",
       "         ...,\n",
       "         [ 98, 198, 297],\n",
       "         [ 98, 198, 298],\n",
       "         [ 98, 198, 299]],\n",
       "\n",
       "        [[ 98, 199,   0],\n",
       "         [ 98, 199,   1],\n",
       "         [ 98, 199,   2],\n",
       "         ...,\n",
       "         [ 98, 199, 297],\n",
       "         [ 98, 199, 298],\n",
       "         [ 98, 199, 299]]],\n",
       "\n",
       "\n",
       "       [[[ 99,   0,   0],\n",
       "         [ 99,   0,   1],\n",
       "         [ 99,   0,   2],\n",
       "         ...,\n",
       "         [ 99,   0, 297],\n",
       "         [ 99,   0, 298],\n",
       "         [ 99,   0, 299]],\n",
       "\n",
       "        [[ 99,   1,   0],\n",
       "         [ 99,   1,   1],\n",
       "         [ 99,   1,   2],\n",
       "         ...,\n",
       "         [ 99,   1, 297],\n",
       "         [ 99,   1, 298],\n",
       "         [ 99,   1, 299]],\n",
       "\n",
       "        [[ 99,   2,   0],\n",
       "         [ 99,   2,   1],\n",
       "         [ 99,   2,   2],\n",
       "         ...,\n",
       "         [ 99,   2, 297],\n",
       "         [ 99,   2, 298],\n",
       "         [ 99,   2, 299]],\n",
       "\n",
       "        ...,\n",
       "\n",
       "        [[ 99, 197,   0],\n",
       "         [ 99, 197,   1],\n",
       "         [ 99, 197,   2],\n",
       "         ...,\n",
       "         [ 99, 197, 297],\n",
       "         [ 99, 197, 298],\n",
       "         [ 99, 197, 299]],\n",
       "\n",
       "        [[ 99, 198,   0],\n",
       "         [ 99, 198,   1],\n",
       "         [ 99, 198,   2],\n",
       "         ...,\n",
       "         [ 99, 198, 297],\n",
       "         [ 99, 198, 298],\n",
       "         [ 99, 198, 299]],\n",
       "\n",
       "        [[ 99, 199,   0],\n",
       "         [ 99, 199,   1],\n",
       "         [ 99, 199,   2],\n",
       "         ...,\n",
       "         [ 99, 199, 297],\n",
       "         [ 99, 199, 298],\n",
       "         [ 99, 199, 299]]]])"
      ]
     },
     "execution_count": 12,
     "metadata": {},
     "output_type": "execute_result"
    }
   ],
   "source": [
    "voxel_coords2"
   ]
  },
  {
   "cell_type": "code",
   "execution_count": 13,
   "metadata": {},
   "outputs": [
    {
     "data": {
      "text/plain": [
       "array([[[[  0,   0,   0],\n",
       "         [  0,   0,   1],\n",
       "         [  0,   0,   2],\n",
       "         ...,\n",
       "         [  0,   0, 297],\n",
       "         [  0,   0, 298],\n",
       "         [  0,   0, 299]],\n",
       "\n",
       "        [[  0,   1,   0],\n",
       "         [  0,   1,   1],\n",
       "         [  0,   1,   2],\n",
       "         ...,\n",
       "         [  0,   1, 297],\n",
       "         [  0,   1, 298],\n",
       "         [  0,   1, 299]],\n",
       "\n",
       "        [[  0,   2,   0],\n",
       "         [  0,   2,   1],\n",
       "         [  0,   2,   2],\n",
       "         ...,\n",
       "         [  0,   2, 297],\n",
       "         [  0,   2, 298],\n",
       "         [  0,   2, 299]],\n",
       "\n",
       "        ...,\n",
       "\n",
       "        [[  0, 197,   0],\n",
       "         [  0, 197,   1],\n",
       "         [  0, 197,   2],\n",
       "         ...,\n",
       "         [  0, 197, 297],\n",
       "         [  0, 197, 298],\n",
       "         [  0, 197, 299]],\n",
       "\n",
       "        [[  0, 198,   0],\n",
       "         [  0, 198,   1],\n",
       "         [  0, 198,   2],\n",
       "         ...,\n",
       "         [  0, 198, 297],\n",
       "         [  0, 198, 298],\n",
       "         [  0, 198, 299]],\n",
       "\n",
       "        [[  0, 199,   0],\n",
       "         [  0, 199,   1],\n",
       "         [  0, 199,   2],\n",
       "         ...,\n",
       "         [  0, 199, 297],\n",
       "         [  0, 199, 298],\n",
       "         [  0, 199, 299]]],\n",
       "\n",
       "\n",
       "       [[[  1,   0,   0],\n",
       "         [  1,   0,   1],\n",
       "         [  1,   0,   2],\n",
       "         ...,\n",
       "         [  1,   0, 297],\n",
       "         [  1,   0, 298],\n",
       "         [  1,   0, 299]],\n",
       "\n",
       "        [[  1,   1,   0],\n",
       "         [  1,   1,   1],\n",
       "         [  1,   1,   2],\n",
       "         ...,\n",
       "         [  1,   1, 297],\n",
       "         [  1,   1, 298],\n",
       "         [  1,   1, 299]],\n",
       "\n",
       "        [[  1,   2,   0],\n",
       "         [  1,   2,   1],\n",
       "         [  1,   2,   2],\n",
       "         ...,\n",
       "         [  1,   2, 297],\n",
       "         [  1,   2, 298],\n",
       "         [  1,   2, 299]],\n",
       "\n",
       "        ...,\n",
       "\n",
       "        [[  1, 197,   0],\n",
       "         [  1, 197,   1],\n",
       "         [  1, 197,   2],\n",
       "         ...,\n",
       "         [  1, 197, 297],\n",
       "         [  1, 197, 298],\n",
       "         [  1, 197, 299]],\n",
       "\n",
       "        [[  1, 198,   0],\n",
       "         [  1, 198,   1],\n",
       "         [  1, 198,   2],\n",
       "         ...,\n",
       "         [  1, 198, 297],\n",
       "         [  1, 198, 298],\n",
       "         [  1, 198, 299]],\n",
       "\n",
       "        [[  1, 199,   0],\n",
       "         [  1, 199,   1],\n",
       "         [  1, 199,   2],\n",
       "         ...,\n",
       "         [  1, 199, 297],\n",
       "         [  1, 199, 298],\n",
       "         [  1, 199, 299]]],\n",
       "\n",
       "\n",
       "       [[[  2,   0,   0],\n",
       "         [  2,   0,   1],\n",
       "         [  2,   0,   2],\n",
       "         ...,\n",
       "         [  2,   0, 297],\n",
       "         [  2,   0, 298],\n",
       "         [  2,   0, 299]],\n",
       "\n",
       "        [[  2,   1,   0],\n",
       "         [  2,   1,   1],\n",
       "         [  2,   1,   2],\n",
       "         ...,\n",
       "         [  2,   1, 297],\n",
       "         [  2,   1, 298],\n",
       "         [  2,   1, 299]],\n",
       "\n",
       "        [[  2,   2,   0],\n",
       "         [  2,   2,   1],\n",
       "         [  2,   2,   2],\n",
       "         ...,\n",
       "         [  2,   2, 297],\n",
       "         [  2,   2, 298],\n",
       "         [  2,   2, 299]],\n",
       "\n",
       "        ...,\n",
       "\n",
       "        [[  2, 197,   0],\n",
       "         [  2, 197,   1],\n",
       "         [  2, 197,   2],\n",
       "         ...,\n",
       "         [  2, 197, 297],\n",
       "         [  2, 197, 298],\n",
       "         [  2, 197, 299]],\n",
       "\n",
       "        [[  2, 198,   0],\n",
       "         [  2, 198,   1],\n",
       "         [  2, 198,   2],\n",
       "         ...,\n",
       "         [  2, 198, 297],\n",
       "         [  2, 198, 298],\n",
       "         [  2, 198, 299]],\n",
       "\n",
       "        [[  2, 199,   0],\n",
       "         [  2, 199,   1],\n",
       "         [  2, 199,   2],\n",
       "         ...,\n",
       "         [  2, 199, 297],\n",
       "         [  2, 199, 298],\n",
       "         [  2, 199, 299]]],\n",
       "\n",
       "\n",
       "       ...,\n",
       "\n",
       "\n",
       "       [[[ 97,   0,   0],\n",
       "         [ 97,   0,   1],\n",
       "         [ 97,   0,   2],\n",
       "         ...,\n",
       "         [ 97,   0, 297],\n",
       "         [ 97,   0, 298],\n",
       "         [ 97,   0, 299]],\n",
       "\n",
       "        [[ 97,   1,   0],\n",
       "         [ 97,   1,   1],\n",
       "         [ 97,   1,   2],\n",
       "         ...,\n",
       "         [ 97,   1, 297],\n",
       "         [ 97,   1, 298],\n",
       "         [ 97,   1, 299]],\n",
       "\n",
       "        [[ 97,   2,   0],\n",
       "         [ 97,   2,   1],\n",
       "         [ 97,   2,   2],\n",
       "         ...,\n",
       "         [ 97,   2, 297],\n",
       "         [ 97,   2, 298],\n",
       "         [ 97,   2, 299]],\n",
       "\n",
       "        ...,\n",
       "\n",
       "        [[ 97, 197,   0],\n",
       "         [ 97, 197,   1],\n",
       "         [ 97, 197,   2],\n",
       "         ...,\n",
       "         [ 97, 197, 297],\n",
       "         [ 97, 197, 298],\n",
       "         [ 97, 197, 299]],\n",
       "\n",
       "        [[ 97, 198,   0],\n",
       "         [ 97, 198,   1],\n",
       "         [ 97, 198,   2],\n",
       "         ...,\n",
       "         [ 97, 198, 297],\n",
       "         [ 97, 198, 298],\n",
       "         [ 97, 198, 299]],\n",
       "\n",
       "        [[ 97, 199,   0],\n",
       "         [ 97, 199,   1],\n",
       "         [ 97, 199,   2],\n",
       "         ...,\n",
       "         [ 97, 199, 297],\n",
       "         [ 97, 199, 298],\n",
       "         [ 97, 199, 299]]],\n",
       "\n",
       "\n",
       "       [[[ 98,   0,   0],\n",
       "         [ 98,   0,   1],\n",
       "         [ 98,   0,   2],\n",
       "         ...,\n",
       "         [ 98,   0, 297],\n",
       "         [ 98,   0, 298],\n",
       "         [ 98,   0, 299]],\n",
       "\n",
       "        [[ 98,   1,   0],\n",
       "         [ 98,   1,   1],\n",
       "         [ 98,   1,   2],\n",
       "         ...,\n",
       "         [ 98,   1, 297],\n",
       "         [ 98,   1, 298],\n",
       "         [ 98,   1, 299]],\n",
       "\n",
       "        [[ 98,   2,   0],\n",
       "         [ 98,   2,   1],\n",
       "         [ 98,   2,   2],\n",
       "         ...,\n",
       "         [ 98,   2, 297],\n",
       "         [ 98,   2, 298],\n",
       "         [ 98,   2, 299]],\n",
       "\n",
       "        ...,\n",
       "\n",
       "        [[ 98, 197,   0],\n",
       "         [ 98, 197,   1],\n",
       "         [ 98, 197,   2],\n",
       "         ...,\n",
       "         [ 98, 197, 297],\n",
       "         [ 98, 197, 298],\n",
       "         [ 98, 197, 299]],\n",
       "\n",
       "        [[ 98, 198,   0],\n",
       "         [ 98, 198,   1],\n",
       "         [ 98, 198,   2],\n",
       "         ...,\n",
       "         [ 98, 198, 297],\n",
       "         [ 98, 198, 298],\n",
       "         [ 98, 198, 299]],\n",
       "\n",
       "        [[ 98, 199,   0],\n",
       "         [ 98, 199,   1],\n",
       "         [ 98, 199,   2],\n",
       "         ...,\n",
       "         [ 98, 199, 297],\n",
       "         [ 98, 199, 298],\n",
       "         [ 98, 199, 299]]],\n",
       "\n",
       "\n",
       "       [[[ 99,   0,   0],\n",
       "         [ 99,   0,   1],\n",
       "         [ 99,   0,   2],\n",
       "         ...,\n",
       "         [ 99,   0, 297],\n",
       "         [ 99,   0, 298],\n",
       "         [ 99,   0, 299]],\n",
       "\n",
       "        [[ 99,   1,   0],\n",
       "         [ 99,   1,   1],\n",
       "         [ 99,   1,   2],\n",
       "         ...,\n",
       "         [ 99,   1, 297],\n",
       "         [ 99,   1, 298],\n",
       "         [ 99,   1, 299]],\n",
       "\n",
       "        [[ 99,   2,   0],\n",
       "         [ 99,   2,   1],\n",
       "         [ 99,   2,   2],\n",
       "         ...,\n",
       "         [ 99,   2, 297],\n",
       "         [ 99,   2, 298],\n",
       "         [ 99,   2, 299]],\n",
       "\n",
       "        ...,\n",
       "\n",
       "        [[ 99, 197,   0],\n",
       "         [ 99, 197,   1],\n",
       "         [ 99, 197,   2],\n",
       "         ...,\n",
       "         [ 99, 197, 297],\n",
       "         [ 99, 197, 298],\n",
       "         [ 99, 197, 299]],\n",
       "\n",
       "        [[ 99, 198,   0],\n",
       "         [ 99, 198,   1],\n",
       "         [ 99, 198,   2],\n",
       "         ...,\n",
       "         [ 99, 198, 297],\n",
       "         [ 99, 198, 298],\n",
       "         [ 99, 198, 299]],\n",
       "\n",
       "        [[ 99, 199,   0],\n",
       "         [ 99, 199,   1],\n",
       "         [ 99, 199,   2],\n",
       "         ...,\n",
       "         [ 99, 199, 297],\n",
       "         [ 99, 199, 298],\n",
       "         [ 99, 199, 299]]]])"
      ]
     },
     "execution_count": 13,
     "metadata": {},
     "output_type": "execute_result"
    }
   ],
   "source": [
    "vvoxel_coords"
   ]
  },
  {
   "cell_type": "code",
   "execution_count": null,
   "metadata": {},
   "outputs": [],
   "source": [
    "import numpy as np\n",
    "\n",
    "class Image3D:\n",
    "    def __init__(self, data: np.ndarray, voxel_dimension: tuple[float, float, float]):\n",
    "        self.data = data\n",
    "        self.voxel_dimension = voxel_dimension\n",
    "\n",
    "        # Pre-compute voxel coordinates in local image coordinate system\n",
    "        x_coords, y_coords, z_coords = np.meshgrid(\n",
    "            np.arange(data.shape[0]), np.arange(data.shape[1]), np.arange(data.shape[2]), indexing='ij'\n",
    "        )\n",
    "        x_coords = x_coords * voxel_dimension[0] - (data.shape[0] - 1) * voxel_dimension[0] / 2.0\n",
    "        y_coords = y_coords * voxel_dimension[1] - (data.shape[1] - 1) * voxel_dimension[1] / 2.0\n",
    "        z_coords = z_coords * voxel_dimension[2] - (data.shape[2] - 1) * voxel_dimension[2] / 2.0\n",
    "        self.voxel_coords = np.stack((x_coords, y_coords, z_coords), axis=-1)\n",
    "\n",
    "    @property\n",
    "    def shape(self) -> tuple[int, int, int]:\n",
    "        return self.data.shape\n",
    "\n",
    "    @property\n",
    "    def voxel_size(self) -> tuple[float, float, float]:\n",
    "        return self.voxel_dimension\n",
    "    \n",
    "    @property\n",
    "    def dtype(self) -> np.dtype:\n",
    "        return self.data.dtype\n"
   ]
  },
  {
   "cell_type": "code",
   "execution_count": 24,
   "metadata": {},
   "outputs": [],
   "source": [
    "data = np.random.random((10, 20, 30))\n",
    "xx, yy, zz = np.mgrid[:data.shape[0], :data.shape[1], :data.shape[2]]\n",
    "vvoxel_coords = np.stack([xx, yy, zz], axis=-1)"
   ]
  },
  {
   "cell_type": "code",
   "execution_count": 25,
   "metadata": {},
   "outputs": [
    {
     "data": {
      "text/plain": [
       "array([[[[ 0,  0,  0],\n",
       "         [ 0,  0,  1],\n",
       "         [ 0,  0,  2],\n",
       "         ...,\n",
       "         [ 0,  0, 27],\n",
       "         [ 0,  0, 28],\n",
       "         [ 0,  0, 29]],\n",
       "\n",
       "        [[ 0,  1,  0],\n",
       "         [ 0,  1,  1],\n",
       "         [ 0,  1,  2],\n",
       "         ...,\n",
       "         [ 0,  1, 27],\n",
       "         [ 0,  1, 28],\n",
       "         [ 0,  1, 29]],\n",
       "\n",
       "        [[ 0,  2,  0],\n",
       "         [ 0,  2,  1],\n",
       "         [ 0,  2,  2],\n",
       "         ...,\n",
       "         [ 0,  2, 27],\n",
       "         [ 0,  2, 28],\n",
       "         [ 0,  2, 29]],\n",
       "\n",
       "        ...,\n",
       "\n",
       "        [[ 0, 17,  0],\n",
       "         [ 0, 17,  1],\n",
       "         [ 0, 17,  2],\n",
       "         ...,\n",
       "         [ 0, 17, 27],\n",
       "         [ 0, 17, 28],\n",
       "         [ 0, 17, 29]],\n",
       "\n",
       "        [[ 0, 18,  0],\n",
       "         [ 0, 18,  1],\n",
       "         [ 0, 18,  2],\n",
       "         ...,\n",
       "         [ 0, 18, 27],\n",
       "         [ 0, 18, 28],\n",
       "         [ 0, 18, 29]],\n",
       "\n",
       "        [[ 0, 19,  0],\n",
       "         [ 0, 19,  1],\n",
       "         [ 0, 19,  2],\n",
       "         ...,\n",
       "         [ 0, 19, 27],\n",
       "         [ 0, 19, 28],\n",
       "         [ 0, 19, 29]]],\n",
       "\n",
       "\n",
       "       [[[ 1,  0,  0],\n",
       "         [ 1,  0,  1],\n",
       "         [ 1,  0,  2],\n",
       "         ...,\n",
       "         [ 1,  0, 27],\n",
       "         [ 1,  0, 28],\n",
       "         [ 1,  0, 29]],\n",
       "\n",
       "        [[ 1,  1,  0],\n",
       "         [ 1,  1,  1],\n",
       "         [ 1,  1,  2],\n",
       "         ...,\n",
       "         [ 1,  1, 27],\n",
       "         [ 1,  1, 28],\n",
       "         [ 1,  1, 29]],\n",
       "\n",
       "        [[ 1,  2,  0],\n",
       "         [ 1,  2,  1],\n",
       "         [ 1,  2,  2],\n",
       "         ...,\n",
       "         [ 1,  2, 27],\n",
       "         [ 1,  2, 28],\n",
       "         [ 1,  2, 29]],\n",
       "\n",
       "        ...,\n",
       "\n",
       "        [[ 1, 17,  0],\n",
       "         [ 1, 17,  1],\n",
       "         [ 1, 17,  2],\n",
       "         ...,\n",
       "         [ 1, 17, 27],\n",
       "         [ 1, 17, 28],\n",
       "         [ 1, 17, 29]],\n",
       "\n",
       "        [[ 1, 18,  0],\n",
       "         [ 1, 18,  1],\n",
       "         [ 1, 18,  2],\n",
       "         ...,\n",
       "         [ 1, 18, 27],\n",
       "         [ 1, 18, 28],\n",
       "         [ 1, 18, 29]],\n",
       "\n",
       "        [[ 1, 19,  0],\n",
       "         [ 1, 19,  1],\n",
       "         [ 1, 19,  2],\n",
       "         ...,\n",
       "         [ 1, 19, 27],\n",
       "         [ 1, 19, 28],\n",
       "         [ 1, 19, 29]]],\n",
       "\n",
       "\n",
       "       [[[ 2,  0,  0],\n",
       "         [ 2,  0,  1],\n",
       "         [ 2,  0,  2],\n",
       "         ...,\n",
       "         [ 2,  0, 27],\n",
       "         [ 2,  0, 28],\n",
       "         [ 2,  0, 29]],\n",
       "\n",
       "        [[ 2,  1,  0],\n",
       "         [ 2,  1,  1],\n",
       "         [ 2,  1,  2],\n",
       "         ...,\n",
       "         [ 2,  1, 27],\n",
       "         [ 2,  1, 28],\n",
       "         [ 2,  1, 29]],\n",
       "\n",
       "        [[ 2,  2,  0],\n",
       "         [ 2,  2,  1],\n",
       "         [ 2,  2,  2],\n",
       "         ...,\n",
       "         [ 2,  2, 27],\n",
       "         [ 2,  2, 28],\n",
       "         [ 2,  2, 29]],\n",
       "\n",
       "        ...,\n",
       "\n",
       "        [[ 2, 17,  0],\n",
       "         [ 2, 17,  1],\n",
       "         [ 2, 17,  2],\n",
       "         ...,\n",
       "         [ 2, 17, 27],\n",
       "         [ 2, 17, 28],\n",
       "         [ 2, 17, 29]],\n",
       "\n",
       "        [[ 2, 18,  0],\n",
       "         [ 2, 18,  1],\n",
       "         [ 2, 18,  2],\n",
       "         ...,\n",
       "         [ 2, 18, 27],\n",
       "         [ 2, 18, 28],\n",
       "         [ 2, 18, 29]],\n",
       "\n",
       "        [[ 2, 19,  0],\n",
       "         [ 2, 19,  1],\n",
       "         [ 2, 19,  2],\n",
       "         ...,\n",
       "         [ 2, 19, 27],\n",
       "         [ 2, 19, 28],\n",
       "         [ 2, 19, 29]]],\n",
       "\n",
       "\n",
       "       ...,\n",
       "\n",
       "\n",
       "       [[[ 7,  0,  0],\n",
       "         [ 7,  0,  1],\n",
       "         [ 7,  0,  2],\n",
       "         ...,\n",
       "         [ 7,  0, 27],\n",
       "         [ 7,  0, 28],\n",
       "         [ 7,  0, 29]],\n",
       "\n",
       "        [[ 7,  1,  0],\n",
       "         [ 7,  1,  1],\n",
       "         [ 7,  1,  2],\n",
       "         ...,\n",
       "         [ 7,  1, 27],\n",
       "         [ 7,  1, 28],\n",
       "         [ 7,  1, 29]],\n",
       "\n",
       "        [[ 7,  2,  0],\n",
       "         [ 7,  2,  1],\n",
       "         [ 7,  2,  2],\n",
       "         ...,\n",
       "         [ 7,  2, 27],\n",
       "         [ 7,  2, 28],\n",
       "         [ 7,  2, 29]],\n",
       "\n",
       "        ...,\n",
       "\n",
       "        [[ 7, 17,  0],\n",
       "         [ 7, 17,  1],\n",
       "         [ 7, 17,  2],\n",
       "         ...,\n",
       "         [ 7, 17, 27],\n",
       "         [ 7, 17, 28],\n",
       "         [ 7, 17, 29]],\n",
       "\n",
       "        [[ 7, 18,  0],\n",
       "         [ 7, 18,  1],\n",
       "         [ 7, 18,  2],\n",
       "         ...,\n",
       "         [ 7, 18, 27],\n",
       "         [ 7, 18, 28],\n",
       "         [ 7, 18, 29]],\n",
       "\n",
       "        [[ 7, 19,  0],\n",
       "         [ 7, 19,  1],\n",
       "         [ 7, 19,  2],\n",
       "         ...,\n",
       "         [ 7, 19, 27],\n",
       "         [ 7, 19, 28],\n",
       "         [ 7, 19, 29]]],\n",
       "\n",
       "\n",
       "       [[[ 8,  0,  0],\n",
       "         [ 8,  0,  1],\n",
       "         [ 8,  0,  2],\n",
       "         ...,\n",
       "         [ 8,  0, 27],\n",
       "         [ 8,  0, 28],\n",
       "         [ 8,  0, 29]],\n",
       "\n",
       "        [[ 8,  1,  0],\n",
       "         [ 8,  1,  1],\n",
       "         [ 8,  1,  2],\n",
       "         ...,\n",
       "         [ 8,  1, 27],\n",
       "         [ 8,  1, 28],\n",
       "         [ 8,  1, 29]],\n",
       "\n",
       "        [[ 8,  2,  0],\n",
       "         [ 8,  2,  1],\n",
       "         [ 8,  2,  2],\n",
       "         ...,\n",
       "         [ 8,  2, 27],\n",
       "         [ 8,  2, 28],\n",
       "         [ 8,  2, 29]],\n",
       "\n",
       "        ...,\n",
       "\n",
       "        [[ 8, 17,  0],\n",
       "         [ 8, 17,  1],\n",
       "         [ 8, 17,  2],\n",
       "         ...,\n",
       "         [ 8, 17, 27],\n",
       "         [ 8, 17, 28],\n",
       "         [ 8, 17, 29]],\n",
       "\n",
       "        [[ 8, 18,  0],\n",
       "         [ 8, 18,  1],\n",
       "         [ 8, 18,  2],\n",
       "         ...,\n",
       "         [ 8, 18, 27],\n",
       "         [ 8, 18, 28],\n",
       "         [ 8, 18, 29]],\n",
       "\n",
       "        [[ 8, 19,  0],\n",
       "         [ 8, 19,  1],\n",
       "         [ 8, 19,  2],\n",
       "         ...,\n",
       "         [ 8, 19, 27],\n",
       "         [ 8, 19, 28],\n",
       "         [ 8, 19, 29]]],\n",
       "\n",
       "\n",
       "       [[[ 9,  0,  0],\n",
       "         [ 9,  0,  1],\n",
       "         [ 9,  0,  2],\n",
       "         ...,\n",
       "         [ 9,  0, 27],\n",
       "         [ 9,  0, 28],\n",
       "         [ 9,  0, 29]],\n",
       "\n",
       "        [[ 9,  1,  0],\n",
       "         [ 9,  1,  1],\n",
       "         [ 9,  1,  2],\n",
       "         ...,\n",
       "         [ 9,  1, 27],\n",
       "         [ 9,  1, 28],\n",
       "         [ 9,  1, 29]],\n",
       "\n",
       "        [[ 9,  2,  0],\n",
       "         [ 9,  2,  1],\n",
       "         [ 9,  2,  2],\n",
       "         ...,\n",
       "         [ 9,  2, 27],\n",
       "         [ 9,  2, 28],\n",
       "         [ 9,  2, 29]],\n",
       "\n",
       "        ...,\n",
       "\n",
       "        [[ 9, 17,  0],\n",
       "         [ 9, 17,  1],\n",
       "         [ 9, 17,  2],\n",
       "         ...,\n",
       "         [ 9, 17, 27],\n",
       "         [ 9, 17, 28],\n",
       "         [ 9, 17, 29]],\n",
       "\n",
       "        [[ 9, 18,  0],\n",
       "         [ 9, 18,  1],\n",
       "         [ 9, 18,  2],\n",
       "         ...,\n",
       "         [ 9, 18, 27],\n",
       "         [ 9, 18, 28],\n",
       "         [ 9, 18, 29]],\n",
       "\n",
       "        [[ 9, 19,  0],\n",
       "         [ 9, 19,  1],\n",
       "         [ 9, 19,  2],\n",
       "         ...,\n",
       "         [ 9, 19, 27],\n",
       "         [ 9, 19, 28],\n",
       "         [ 9, 19, 29]]]])"
      ]
     },
     "execution_count": 25,
     "metadata": {},
     "output_type": "execute_result"
    }
   ],
   "source": [
    "vvoxel_coords"
   ]
  },
  {
   "cell_type": "code",
   "execution_count": 23,
   "metadata": {},
   "outputs": [
    {
     "data": {
      "text/plain": [
       "array([[[ 0,  1,  2, ..., 27, 28, 29],\n",
       "        [ 0,  1,  2, ..., 27, 28, 29],\n",
       "        [ 0,  1,  2, ..., 27, 28, 29],\n",
       "        ...,\n",
       "        [ 0,  1,  2, ..., 27, 28, 29],\n",
       "        [ 0,  1,  2, ..., 27, 28, 29],\n",
       "        [ 0,  1,  2, ..., 27, 28, 29]],\n",
       "\n",
       "       [[ 0,  1,  2, ..., 27, 28, 29],\n",
       "        [ 0,  1,  2, ..., 27, 28, 29],\n",
       "        [ 0,  1,  2, ..., 27, 28, 29],\n",
       "        ...,\n",
       "        [ 0,  1,  2, ..., 27, 28, 29],\n",
       "        [ 0,  1,  2, ..., 27, 28, 29],\n",
       "        [ 0,  1,  2, ..., 27, 28, 29]],\n",
       "\n",
       "       [[ 0,  1,  2, ..., 27, 28, 29],\n",
       "        [ 0,  1,  2, ..., 27, 28, 29],\n",
       "        [ 0,  1,  2, ..., 27, 28, 29],\n",
       "        ...,\n",
       "        [ 0,  1,  2, ..., 27, 28, 29],\n",
       "        [ 0,  1,  2, ..., 27, 28, 29],\n",
       "        [ 0,  1,  2, ..., 27, 28, 29]],\n",
       "\n",
       "       ...,\n",
       "\n",
       "       [[ 0,  1,  2, ..., 27, 28, 29],\n",
       "        [ 0,  1,  2, ..., 27, 28, 29],\n",
       "        [ 0,  1,  2, ..., 27, 28, 29],\n",
       "        ...,\n",
       "        [ 0,  1,  2, ..., 27, 28, 29],\n",
       "        [ 0,  1,  2, ..., 27, 28, 29],\n",
       "        [ 0,  1,  2, ..., 27, 28, 29]],\n",
       "\n",
       "       [[ 0,  1,  2, ..., 27, 28, 29],\n",
       "        [ 0,  1,  2, ..., 27, 28, 29],\n",
       "        [ 0,  1,  2, ..., 27, 28, 29],\n",
       "        ...,\n",
       "        [ 0,  1,  2, ..., 27, 28, 29],\n",
       "        [ 0,  1,  2, ..., 27, 28, 29],\n",
       "        [ 0,  1,  2, ..., 27, 28, 29]],\n",
       "\n",
       "       [[ 0,  1,  2, ..., 27, 28, 29],\n",
       "        [ 0,  1,  2, ..., 27, 28, 29],\n",
       "        [ 0,  1,  2, ..., 27, 28, 29],\n",
       "        ...,\n",
       "        [ 0,  1,  2, ..., 27, 28, 29],\n",
       "        [ 0,  1,  2, ..., 27, 28, 29],\n",
       "        [ 0,  1,  2, ..., 27, 28, 29]]])"
      ]
     },
     "execution_count": 23,
     "metadata": {},
     "output_type": "execute_result"
    }
   ],
   "source": [
    "zz"
   ]
  },
  {
   "cell_type": "code",
   "execution_count": 14,
   "metadata": {},
   "outputs": [
    {
     "data": {
      "text/plain": [
       "array([[[[  0,   0,   0],\n",
       "         [  0,   0,   1],\n",
       "         [  0,   0,   2],\n",
       "         ...,\n",
       "         [  0,   0, 297],\n",
       "         [  0,   0, 298],\n",
       "         [  0,   0, 299]],\n",
       "\n",
       "        [[  0,   1,   0],\n",
       "         [  0,   1,   1],\n",
       "         [  0,   1,   2],\n",
       "         ...,\n",
       "         [  0,   1, 297],\n",
       "         [  0,   1, 298],\n",
       "         [  0,   1, 299]],\n",
       "\n",
       "        [[  0,   2,   0],\n",
       "         [  0,   2,   1],\n",
       "         [  0,   2,   2],\n",
       "         ...,\n",
       "         [  0,   2, 297],\n",
       "         [  0,   2, 298],\n",
       "         [  0,   2, 299]],\n",
       "\n",
       "        ...,\n",
       "\n",
       "        [[  0, 197,   0],\n",
       "         [  0, 197,   1],\n",
       "         [  0, 197,   2],\n",
       "         ...,\n",
       "         [  0, 197, 297],\n",
       "         [  0, 197, 298],\n",
       "         [  0, 197, 299]],\n",
       "\n",
       "        [[  0, 198,   0],\n",
       "         [  0, 198,   1],\n",
       "         [  0, 198,   2],\n",
       "         ...,\n",
       "         [  0, 198, 297],\n",
       "         [  0, 198, 298],\n",
       "         [  0, 198, 299]],\n",
       "\n",
       "        [[  0, 199,   0],\n",
       "         [  0, 199,   1],\n",
       "         [  0, 199,   2],\n",
       "         ...,\n",
       "         [  0, 199, 297],\n",
       "         [  0, 199, 298],\n",
       "         [  0, 199, 299]]],\n",
       "\n",
       "\n",
       "       [[[  1,   0,   0],\n",
       "         [  1,   0,   1],\n",
       "         [  1,   0,   2],\n",
       "         ...,\n",
       "         [  1,   0, 297],\n",
       "         [  1,   0, 298],\n",
       "         [  1,   0, 299]],\n",
       "\n",
       "        [[  1,   1,   0],\n",
       "         [  1,   1,   1],\n",
       "         [  1,   1,   2],\n",
       "         ...,\n",
       "         [  1,   1, 297],\n",
       "         [  1,   1, 298],\n",
       "         [  1,   1, 299]],\n",
       "\n",
       "        [[  1,   2,   0],\n",
       "         [  1,   2,   1],\n",
       "         [  1,   2,   2],\n",
       "         ...,\n",
       "         [  1,   2, 297],\n",
       "         [  1,   2, 298],\n",
       "         [  1,   2, 299]],\n",
       "\n",
       "        ...,\n",
       "\n",
       "        [[  1, 197,   0],\n",
       "         [  1, 197,   1],\n",
       "         [  1, 197,   2],\n",
       "         ...,\n",
       "         [  1, 197, 297],\n",
       "         [  1, 197, 298],\n",
       "         [  1, 197, 299]],\n",
       "\n",
       "        [[  1, 198,   0],\n",
       "         [  1, 198,   1],\n",
       "         [  1, 198,   2],\n",
       "         ...,\n",
       "         [  1, 198, 297],\n",
       "         [  1, 198, 298],\n",
       "         [  1, 198, 299]],\n",
       "\n",
       "        [[  1, 199,   0],\n",
       "         [  1, 199,   1],\n",
       "         [  1, 199,   2],\n",
       "         ...,\n",
       "         [  1, 199, 297],\n",
       "         [  1, 199, 298],\n",
       "         [  1, 199, 299]]],\n",
       "\n",
       "\n",
       "       [[[  2,   0,   0],\n",
       "         [  2,   0,   1],\n",
       "         [  2,   0,   2],\n",
       "         ...,\n",
       "         [  2,   0, 297],\n",
       "         [  2,   0, 298],\n",
       "         [  2,   0, 299]],\n",
       "\n",
       "        [[  2,   1,   0],\n",
       "         [  2,   1,   1],\n",
       "         [  2,   1,   2],\n",
       "         ...,\n",
       "         [  2,   1, 297],\n",
       "         [  2,   1, 298],\n",
       "         [  2,   1, 299]],\n",
       "\n",
       "        [[  2,   2,   0],\n",
       "         [  2,   2,   1],\n",
       "         [  2,   2,   2],\n",
       "         ...,\n",
       "         [  2,   2, 297],\n",
       "         [  2,   2, 298],\n",
       "         [  2,   2, 299]],\n",
       "\n",
       "        ...,\n",
       "\n",
       "        [[  2, 197,   0],\n",
       "         [  2, 197,   1],\n",
       "         [  2, 197,   2],\n",
       "         ...,\n",
       "         [  2, 197, 297],\n",
       "         [  2, 197, 298],\n",
       "         [  2, 197, 299]],\n",
       "\n",
       "        [[  2, 198,   0],\n",
       "         [  2, 198,   1],\n",
       "         [  2, 198,   2],\n",
       "         ...,\n",
       "         [  2, 198, 297],\n",
       "         [  2, 198, 298],\n",
       "         [  2, 198, 299]],\n",
       "\n",
       "        [[  2, 199,   0],\n",
       "         [  2, 199,   1],\n",
       "         [  2, 199,   2],\n",
       "         ...,\n",
       "         [  2, 199, 297],\n",
       "         [  2, 199, 298],\n",
       "         [  2, 199, 299]]],\n",
       "\n",
       "\n",
       "       ...,\n",
       "\n",
       "\n",
       "       [[[ 97,   0,   0],\n",
       "         [ 97,   0,   1],\n",
       "         [ 97,   0,   2],\n",
       "         ...,\n",
       "         [ 97,   0, 297],\n",
       "         [ 97,   0, 298],\n",
       "         [ 97,   0, 299]],\n",
       "\n",
       "        [[ 97,   1,   0],\n",
       "         [ 97,   1,   1],\n",
       "         [ 97,   1,   2],\n",
       "         ...,\n",
       "         [ 97,   1, 297],\n",
       "         [ 97,   1, 298],\n",
       "         [ 97,   1, 299]],\n",
       "\n",
       "        [[ 97,   2,   0],\n",
       "         [ 97,   2,   1],\n",
       "         [ 97,   2,   2],\n",
       "         ...,\n",
       "         [ 97,   2, 297],\n",
       "         [ 97,   2, 298],\n",
       "         [ 97,   2, 299]],\n",
       "\n",
       "        ...,\n",
       "\n",
       "        [[ 97, 197,   0],\n",
       "         [ 97, 197,   1],\n",
       "         [ 97, 197,   2],\n",
       "         ...,\n",
       "         [ 97, 197, 297],\n",
       "         [ 97, 197, 298],\n",
       "         [ 97, 197, 299]],\n",
       "\n",
       "        [[ 97, 198,   0],\n",
       "         [ 97, 198,   1],\n",
       "         [ 97, 198,   2],\n",
       "         ...,\n",
       "         [ 97, 198, 297],\n",
       "         [ 97, 198, 298],\n",
       "         [ 97, 198, 299]],\n",
       "\n",
       "        [[ 97, 199,   0],\n",
       "         [ 97, 199,   1],\n",
       "         [ 97, 199,   2],\n",
       "         ...,\n",
       "         [ 97, 199, 297],\n",
       "         [ 97, 199, 298],\n",
       "         [ 97, 199, 299]]],\n",
       "\n",
       "\n",
       "       [[[ 98,   0,   0],\n",
       "         [ 98,   0,   1],\n",
       "         [ 98,   0,   2],\n",
       "         ...,\n",
       "         [ 98,   0, 297],\n",
       "         [ 98,   0, 298],\n",
       "         [ 98,   0, 299]],\n",
       "\n",
       "        [[ 98,   1,   0],\n",
       "         [ 98,   1,   1],\n",
       "         [ 98,   1,   2],\n",
       "         ...,\n",
       "         [ 98,   1, 297],\n",
       "         [ 98,   1, 298],\n",
       "         [ 98,   1, 299]],\n",
       "\n",
       "        [[ 98,   2,   0],\n",
       "         [ 98,   2,   1],\n",
       "         [ 98,   2,   2],\n",
       "         ...,\n",
       "         [ 98,   2, 297],\n",
       "         [ 98,   2, 298],\n",
       "         [ 98,   2, 299]],\n",
       "\n",
       "        ...,\n",
       "\n",
       "        [[ 98, 197,   0],\n",
       "         [ 98, 197,   1],\n",
       "         [ 98, 197,   2],\n",
       "         ...,\n",
       "         [ 98, 197, 297],\n",
       "         [ 98, 197, 298],\n",
       "         [ 98, 197, 299]],\n",
       "\n",
       "        [[ 98, 198,   0],\n",
       "         [ 98, 198,   1],\n",
       "         [ 98, 198,   2],\n",
       "         ...,\n",
       "         [ 98, 198, 297],\n",
       "         [ 98, 198, 298],\n",
       "         [ 98, 198, 299]],\n",
       "\n",
       "        [[ 98, 199,   0],\n",
       "         [ 98, 199,   1],\n",
       "         [ 98, 199,   2],\n",
       "         ...,\n",
       "         [ 98, 199, 297],\n",
       "         [ 98, 199, 298],\n",
       "         [ 98, 199, 299]]],\n",
       "\n",
       "\n",
       "       [[[ 99,   0,   0],\n",
       "         [ 99,   0,   1],\n",
       "         [ 99,   0,   2],\n",
       "         ...,\n",
       "         [ 99,   0, 297],\n",
       "         [ 99,   0, 298],\n",
       "         [ 99,   0, 299]],\n",
       "\n",
       "        [[ 99,   1,   0],\n",
       "         [ 99,   1,   1],\n",
       "         [ 99,   1,   2],\n",
       "         ...,\n",
       "         [ 99,   1, 297],\n",
       "         [ 99,   1, 298],\n",
       "         [ 99,   1, 299]],\n",
       "\n",
       "        [[ 99,   2,   0],\n",
       "         [ 99,   2,   1],\n",
       "         [ 99,   2,   2],\n",
       "         ...,\n",
       "         [ 99,   2, 297],\n",
       "         [ 99,   2, 298],\n",
       "         [ 99,   2, 299]],\n",
       "\n",
       "        ...,\n",
       "\n",
       "        [[ 99, 197,   0],\n",
       "         [ 99, 197,   1],\n",
       "         [ 99, 197,   2],\n",
       "         ...,\n",
       "         [ 99, 197, 297],\n",
       "         [ 99, 197, 298],\n",
       "         [ 99, 197, 299]],\n",
       "\n",
       "        [[ 99, 198,   0],\n",
       "         [ 99, 198,   1],\n",
       "         [ 99, 198,   2],\n",
       "         ...,\n",
       "         [ 99, 198, 297],\n",
       "         [ 99, 198, 298],\n",
       "         [ 99, 198, 299]],\n",
       "\n",
       "        [[ 99, 199,   0],\n",
       "         [ 99, 199,   1],\n",
       "         [ 99, 199,   2],\n",
       "         ...,\n",
       "         [ 99, 199, 297],\n",
       "         [ 99, 199, 298],\n",
       "         [ 99, 199, 299]]]])"
      ]
     },
     "execution_count": 14,
     "metadata": {},
     "output_type": "execute_result"
    }
   ],
   "source": [
    "vvoxel_coords"
   ]
  },
  {
   "attachments": {},
   "cell_type": "markdown",
   "metadata": {},
   "source": [
    "This line of code scales the x_coords array by the x voxel dimension and then translates it so that the voxel at the center of the image has an x coordinate of 0.\n",
    "\n",
    "The x_coords array is an array of integers representing the indices of the voxels along the x axis. By multiplying it by the x voxel dimension, we convert the indices to physical distances in millimeters.\n",
    "\n",
    "Then, we subtract (data.shape[0] - 1) * voxel_dimension[0] / 2.0 from the resulting array. This value is equal to the distance between the center of the image and the leftmost voxel along the x axis. By subtracting it, we translate the x_coords array so that the voxel at the center of the image has an x coordinate of 0.\n",
    "\n",
    "The same process is repeated for the y_coords and z_coords arrays to define the local image coordinate system."
   ]
  },
  {
   "cell_type": "code",
   "execution_count": null,
   "metadata": {},
   "outputs": [],
   "source": []
  }
 ],
 "metadata": {
  "kernelspec": {
   "display_name": "Python 3",
   "language": "python",
   "name": "python3"
  },
  "language_info": {
   "codemirror_mode": {
    "name": "ipython",
    "version": 3
   },
   "file_extension": ".py",
   "mimetype": "text/x-python",
   "name": "python",
   "nbconvert_exporter": "python",
   "pygments_lexer": "ipython3",
   "version": "3.10.6"
  },
  "orig_nbformat": 4,
  "vscode": {
   "interpreter": {
    "hash": "31f2aee4e71d21fbe5cf8b01ff0e069b9275f58929596ceb00d14d90e3e16cd6"
   }
  }
 },
 "nbformat": 4,
 "nbformat_minor": 2
}
