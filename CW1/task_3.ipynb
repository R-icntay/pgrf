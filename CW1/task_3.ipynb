{
 "cells": [
  {
   "attachments": {},
   "cell_type": "markdown",
   "metadata": {},
   "source": [
    "## Task 3: Warping images by composing rigid transformations"
   ]
  },
  {
   "attachments": {},
   "cell_type": "markdown",
   "metadata": {},
   "source": [
    "Implement a class RigidTransform which should specify a 3D rigid transformation which can wrap 3D image volumes. All units should be in voxel\n",
    "\n",
    "- A class __init__ function which takes a set of 6 rigid transformations parameters, as input. Precompute a rotation matrix and a translation vector and stored in the returned class object."
   ]
  },
  {
   "cell_type": "code",
   "execution_count": 1,
   "metadata": {},
   "outputs": [],
   "source": [
    "import numpy as np"
   ]
  },
  {
   "cell_type": "code",
   "execution_count": 2,
   "metadata": {},
   "outputs": [],
   "source": [
    "class RigidTransform:\n",
    "\n",
    "    # Initialize class\n",
    "    def __init__(self, rotations, translations):\n",
    "        self.rx = rotations[0]\n",
    "        self.ry = rotations[1]\n",
    "        self.rz = rotations[2]\n",
    "        self.tx = translations[0]\n",
    "        self.ty = translations[1]\n",
    "        self.tz = translations[2]\n",
    "\n",
    "        # Precompute rotation matrices around the X, Y, and Z axis\n",
    "        rot_x = np.array([[1, 0, 0],\n",
    "                                 [0, np.cos(self.rx), -np.sin(self.rx)],\n",
    "                                 [0, np.sin(self.rx), np.cos(self.rx)]])\n",
    "                                 \n",
    "        rot_y = np.array([[np.cos(self.ry), 0, np.sin(self.ry)],\n",
    "                                [0, 1, 0],\n",
    "                                [-np.sin(self.ry), 0, np.cos(self.ry)]])\n",
    "\n",
    "        rot_z = np.array([[np.cos(self.rz), -np.sin(self.rz), 0],\n",
    "                                [np.sin(self.rz), np.cos(self.rz), 0],\n",
    "                                [0, 0, 1]])\n",
    "\n",
    "        # Compose rotation matrix from yaw, pitch, and roll \n",
    "        # Correct order is Z, Y, X\n",
    "        self.rot_vec = np.matmul(rot_z, np.matmul(rot_y, rot_x))\n",
    "\n",
    "        # Compose translation vector\n",
    "        self.trans_vec = np.array([self.tx, self.ty, self.tz])\n",
    "        \n",
    "        "
   ]
  },
  {
   "cell_type": "code",
   "execution_count": 3,
   "metadata": {},
   "outputs": [],
   "source": [
    "import numpy as np\n",
    "\n",
    "class RigidTransform:\n",
    "    def __init__(self, rx, ry, rz, tx, ty, tz):\n",
    "        self.rx = rx\n",
    "        self.ry = ry\n",
    "        self.rz = rz\n",
    "        self.tx = tx\n",
    "        self.ty = ty\n",
    "        self.tz = tz\n",
    "        \n",
    "        # Precompute rotation matrix\n",
    "        R_x = np.array([[1, 0, 0],\n",
    "                        [0, np.cos(rx), -np.sin(rx)],\n",
    "                        [0, np.sin(rx), np.cos(rx)]])\n",
    "        R_y = np.array([[np.cos(ry), 0, np.sin(ry)],\n",
    "                        [0, 1, 0],\n",
    "                        [-np.sin(ry), 0, np.cos(ry)]])\n",
    "        R_z = np.array([[np.cos(rz), -np.sin(rz), 0],\n",
    "                        [np.sin(rz), np.cos(rz), 0],\n",
    "                        [0, 0, 1]])\n",
    "        self.R = np.matmul(R_z, np.matmul(R_y, R_x))\n",
    "        \n",
    "        # Precompute translation vector\n",
    "        self.T = np.array([tx, ty, tz])\n",
    "        \n",
    "    def apply(self, volume):\n",
    "        # Apply rotation and translation to the input volume\n",
    "        return np.matmul(volume, self.R) + self.T\n"
   ]
  },
  {
   "attachments": {},
   "cell_type": "markdown",
   "metadata": {},
   "source": [
    "We are computing three separate rotation matrices (R_x, R_y, R_z) to represent the rotations around the x, y, and z axes, respectively. Each rotation matrix is responsible for a single rotation, and the final rotation matrix R is computed by multiplying the three rotation matrices in a specific order (R_zR_yR_x). This is known as the \"Z-Y-X Euler angle convention\", which means we rotate around the z-axis first, then the y-axis, and finally the x-axis.\n",
    "\n",
    "This is a common way to represent a 3D rotation, where multiple rotations around different axes are combined into a single rotation matrix. By decomposing the rotation into three separate rotations, it becomes easier to specify the rotations in a more intuitive way, and it allows for more flexibility when applying the rotations.\n",
    "\n",
    "In other words, the order of the rotations is important, and each rotation matrix is a representation of a rotation around a certain axis (x,y,z) and that is the reason we are computing three rotation matrixes.\n",
    "\n",
    "The translation vector is computed by simply creating a 1-D array of the translation parameters tx, ty, and tz.\n",
    "This vector is added to every point of the image volume after the rotation matrix has been applied.\n",
    "\n",
    "The translation vector is simply the array [tx, ty, tz], which represents the translation along the x, y, and z axes, respectively in voxels. This vector is added to the final output of the transformed volume, the idea is that it shifts the entire transformed volume by the specified amount.\n",
    "\n",
    "The translation vector is represented by a 1-D array because it is a vector quantity and it is a 1-D array because it only has one dimension and it is a vector of size 3(x,y,z) which corresponds to the 3D space."
   ]
  },
  {
   "attachments": {},
   "cell_type": "markdown",
   "metadata": {},
   "source": [
    "## Class member function compute ddf that defines a 3D displacement vector"
   ]
  },
  {
   "cell_type": "code",
   "execution_count": 4,
   "metadata": {},
   "outputs": [],
   "source": [
    "class RigidTransform:\n",
    "\n",
    "    # Initialize class\n",
    "    def __init__(self, rotations, translations):\n",
    "        self.rx = rotations[0]\n",
    "        self.ry = rotations[1]\n",
    "        self.rz = rotations[2]\n",
    "        self.tx = translations[0]\n",
    "        self.ty = translations[1]\n",
    "        self.tz = translations[2]\n",
    "\n",
    "        # Precompute rotation matrices around the X, Y, and Z axis\n",
    "        rot_x = np.array([[1, 0, 0],\n",
    "                                 [0, np.cos(self.rx), -np.sin(self.rx)],\n",
    "                                 [0, np.sin(self.rx), np.cos(self.rx)]])\n",
    "                                 \n",
    "        rot_y = np.array([[np.cos(self.ry), 0, np.sin(self.ry)],\n",
    "                                [0, 1, 0],\n",
    "                                [-np.sin(self.ry), 0, np.cos(self.ry)]])\n",
    "\n",
    "        rot_z = np.array([[np.cos(self.rz), -np.sin(self.rz), 0],\n",
    "                                [np.sin(self.rz), np.cos(self.rz), 0],\n",
    "                                [0, 0, 1]])\n",
    "\n",
    "        # Compose rotation matrix from yaw, pitch, and roll \n",
    "        # Correct order is Z, Y, X\n",
    "        self.rot_vec = np.matmul(rot_z, np.matmul(rot_y, rot_x))\n",
    "\n",
    "        # Compose translation vector\n",
    "        self.trans_vec = np.array([self.tx, self.ty, self.tz])\n",
    "\n",
    "        # Precompute the dense displacement field DDF\n",
    "        self.ddf = self.compute_ddf((self.warped_image_size_x, self.warped_image_size_y, self.warped_image_size_z))\n",
    "\n",
    "    # Implement a class member function compute_ddf that computes displacement vector\n",
    "    # this code takes a point in the warped image,\n",
    "    # undo the translation by subtracting the translation vector from the point,\n",
    "    # then undo the rotation by applying the inverse rotation matrix, \n",
    "    # and the result is the displacement vector from the warped image to the original image\n",
    "    #  at that voxel location.\n",
    "    def compute_ddf(self, warped_image_size):\n",
    "        # Compute displacement vector\n",
    "        self.warped_image_size_x, self.warped_image_size_y, self.warped_image_size_z = warped_image_size\n",
    "            # Pre-allocate displacement vector\n",
    "        self.ddf = np.zeros((self.warped_image_size_x, self.warped_image_size_y, self.warped_image_size_z, 3))\n",
    "\n",
    "        for x in range(self.warped_image_size_x):\n",
    "            for y in range(self.warped_image_size_y):\n",
    "                for z in range(self.warped_image_size_z):\n",
    "                    # Compute displacement vector at each voxel\n",
    "                    self.ddf[x, y, z, :] = np.matmul(np.linalg.inv(self.rot_vec), np.array([x, y, z]) - self.trans_vec)\n",
    "\n",
    "\n",
    "\n",
    "\n",
    "        \n",
    "        "
   ]
  },
  {
   "cell_type": "code",
   "execution_count": 3,
   "metadata": {},
   "outputs": [
    {
     "name": "stdout",
     "output_type": "stream",
     "text": [
      "1 2 3\n"
     ]
    }
   ],
   "source": [
    "a, b, c = (1, 2, 3); print(a, b, c)"
   ]
  },
  {
   "cell_type": "code",
   "execution_count": 2,
   "metadata": {},
   "outputs": [
    {
     "data": {
      "text/plain": [
       "array([[[[0., 0., 0.],\n",
       "         [0., 0., 0.],\n",
       "         [0., 0., 0.]],\n",
       "\n",
       "        [[0., 0., 0.],\n",
       "         [0., 0., 0.],\n",
       "         [0., 0., 0.]]]])"
      ]
     },
     "execution_count": 2,
     "metadata": {},
     "output_type": "execute_result"
    }
   ],
   "source": [
    "np.zeros((1, 2, 3, 3))"
   ]
  },
  {
   "attachments": {},
   "cell_type": "markdown",
   "metadata": {},
   "source": [
    "The image coordinate system used in the above function is the standard Cartesian coordinate system, in which the origin is located at the center of the image, the x-axis is oriented from left to right, the y-axis is oriented from top to bottom, and the z-axis is oriented from front to back. The unit used is voxel, which means that the distance between two adjacent voxels is 1 in all three dimensions (x, y, z).\n",
    "\n",
    "This coordinate system is consistent for both the warped image and the original image, meaning that the coordinates of the voxels in both images are defined in the same way. The origin of the coordinate system is located at the center of the image, which makes it easy to apply rotations and translations to the image while maintaining the same consistent coordinate system.\n",
    "\n",
    "The orientation of the axis is also consistent, meaning that the x-axis is oriented from left to right, the y-axis is oriented from top to bottom, and the z-axis is oriented from front to back in both images. This makes it easy to understand the displacement vectors computed by the DDF, as the displacement values along each axis correspond to the standard x, y, and z axes.\n",
    "\n",
    "In summary, the image coordinate system used in the above function is a standard Cartesian coordinate system with the origin located at the center of the image, the x-axis oriented from left to right, the y-axis oriented from top to bottom, and the z-axis oriented from front to back. The unit used is voxel, which is consistent for both the warped image and the original image."
   ]
  },
  {
   "attachments": {},
   "cell_type": "markdown",
   "metadata": {},
   "source": [
    "## Class member function warp which returns a warped image volume in a numpy array"
   ]
  },
  {
   "cell_type": "code",
   "execution_count": 1,
   "metadata": {},
   "outputs": [],
   "source": [
    "import numpy as np\n",
    "from scipy.interpolate import interpn\n",
    "from scipy.ndimage import map_coordinates\n",
    "class RigidTransform:\n",
    "\n",
    "    # Initialize class\n",
    "    def __init__(self, rotations, translations, warped_image_size):\n",
    "        self.rx = rotations[0]\n",
    "        self.ry = rotations[1]\n",
    "        self.rz = rotations[2]\n",
    "        self.tx = translations[0]\n",
    "        self.ty = translations[1]\n",
    "        self.tz = translations[2]\n",
    "        self.warped_image_size_x = warped_image_size[0]\n",
    "        self.warped_image_size_y = warped_image_size[1]\n",
    "        self.warped_image_size_z = warped_image_size[2]\n",
    "\n",
    "        # Precompute rotation matrices around the X, Y, and Z axis\n",
    "        rot_x = np.array([[1, 0, 0],\n",
    "                                 [0, np.cos(self.rx), -np.sin(self.rx)],\n",
    "                                 [0, np.sin(self.rx), np.cos(self.rx)]])\n",
    "                                 \n",
    "        rot_y = np.array([[np.cos(self.ry), 0, np.sin(self.ry)],\n",
    "                                [0, 1, 0],\n",
    "                                [-np.sin(self.ry), 0, np.cos(self.ry)]])\n",
    "\n",
    "        rot_z = np.array([[np.cos(self.rz), -np.sin(self.rz), 0],\n",
    "                                [np.sin(self.rz), np.cos(self.rz), 0],\n",
    "                                [0, 0, 1]])\n",
    "\n",
    "        # Compose rotation matrix from yaw, pitch, and roll \n",
    "        # Correct order is Z, Y, X\n",
    "        self.rot_vec = np.matmul(rot_z, np.matmul(rot_y, rot_x))\n",
    "\n",
    "        # Compose translation vector\n",
    "        self.trans_vec = np.array([self.tx, self.ty, self.tz])\n",
    "\n",
    "        # Precompute the dense displacement field DDF\n",
    "        #self.ddf = self.compute_ddf((self.warped_image_size_x, self.warped_image_size_y, self.warped_image_size_z))\n",
    "        self.compute_ddf((self.warped_image_size_x, self.warped_image_size_y, self.warped_image_size_z))\n",
    "\n",
    "    # Implement a class member function compute_ddf that computes displacement vector\n",
    "    # this code takes a point in the warped image,\n",
    "    # undo the translation by subtracting the translation vector from the point,\n",
    "    # then undo the rotation by applying the inverse rotation matrix, \n",
    "    # and the result is the displacement vector from the warped image to the original image\n",
    "    #  at that voxel location.\n",
    "    def compute_ddf(self, warped_image_size):\n",
    "        # Compute displacement vector\n",
    "        self.warped_image_size_x, self.warped_image_size_y, self.warped_image_size_z = warped_image_size\n",
    "            # Pre-allocate displacement vector\n",
    "        self.ddf = np.zeros((self.warped_image_size_x, self.warped_image_size_y, self.warped_image_size_z, 3))\n",
    "\n",
    "        for x in range(self.warped_image_size_x):\n",
    "            for y in range(self.warped_image_size_y):\n",
    "                for z in range(self.warped_image_size_z):\n",
    "                    # Compute displacement vector at each voxel\n",
    "                    self.ddf[x, y, z, :] = np.matmul(np.linalg.inv(self.rot_vec), np.array([x, y, z]) - self.trans_vec)\n",
    "\n",
    "\n",
    "    # Implement a class member function warp that returns a warped image volume in a Numpy Array\n",
    "    def warp(self, volume):\n",
    "        # Pre-allocate warped volume\n",
    "        warped_image_coords = []\n",
    "        #warped_volume = np.zeros_like(volume)\n",
    "        for x in range(volume.shape[0]):\n",
    "            for y in range(volume.shape[1]):\n",
    "                for z in range(volume.shape[2]):\n",
    "                    # Compute new voxel coordinates in the warped image\n",
    "                    warped_image_coords.append(np.matmul(self.rot_vec, np.array([x, y, z])) + self.trans_vec)\n",
    "        warped_image_coords = np.array(warped_image_coords)\n",
    "\n",
    "        # Resample intensity values at the new coordinates\n",
    "        #warped_volume[x, y, z] = interpn(np.array([x, y, z], ), volume, np.array((new_x, new_y, new_z),), method = 'linear', bounds_error = False, fill_value = None)\n",
    "        \n",
    "        warped_volume = map_coordinates(volume, [warped_image_coords.T[0], warped_image_coords.T[1], warped_image_coords.T[2]], order=1, mode='constant', cval=np.NaN, prefilter=False)\n",
    "        warped_volume = warped_volume.reshape(volume.shape)\n",
    "        return warped_volume\n",
    "\n",
    "    # Implement a class member function compose which represents a combination of two transforms\n",
    "    def compose(self, rotations2, translations2):\n",
    "\n",
    "        composed_transform = RigidTransform(rotations2, translations2,  warped_image_size = (128, 128, 32))\n",
    "\n",
    "        # Update rotation matrix\n",
    "        composed_transform.rot_vec = np.matmul(self.rot_vec, composed_transform.rot_vec)\n",
    "\n",
    "        # Update translation vector\n",
    "        composed_transform.trans_vec = np.matmul(self.rot_vec, np.array(translations2)) + self.trans_vec\n",
    "\n",
    "        # Update the displacement field\n",
    "        composed_transform.compute_ddf((self.warped_image_size_x, self.warped_image_size_y, self.warped_image_size_z))\n",
    "\n",
    "        # # Compute the combined rotation matrix\n",
    "        # rot_x2 = np.array([[1, 0, 0],\n",
    "        #                     [0, np.cos(rotations2[0]), -np.sin(rotations2[0])],\n",
    "        #                     [0, np.sin(rotations2[0]), np.cos(rotations2[0])]])\n",
    "\n",
    "        # rot_y2 = np.array([[np.cos(rotations2[1]), 0, np.sin(rotations2[1])],\n",
    "        #                     [0, 1, 0],\n",
    "        #                     [-np.sin(rotations2[1]), 0, np.cos(rotations2[1])]])\n",
    "\n",
    "        # rot_z2 = np.array([[np.cos(rotations2[2]), -np.sin(rotations2[2]), 0],\n",
    "        #                     [np.sin(rotations2[2]), np.cos(rotations2[2]), 0],\n",
    "        #                     [0, 0, 1]])\n",
    "\n",
    "        # # Compose rotation matrix from yaw, pitch, and roll \n",
    "        # # Correct order is Z, Y, X\n",
    "        # rot_vec2 = np.matmul(rot_z2, np.matmul(rot_y2, rot_x2))\n",
    "        # R_composed = np.matmul(self.rot_vec, rot_vec2)\n",
    "\n",
    "        \n",
    "        # # Compute the combined translation vector\n",
    "        # #T_composed = np.matmul(self.rot_vec, np.array(translations2)) + self.trans_vec\n",
    "        # T_composed = np.matmul(self.rot_vec, self.trans_vec) + np.array(translations2)\n",
    "\n",
    "        # # Create a new RigidTransform object with the composed transformations\n",
    "        # composed_transform = RigidTransform(R_composed, T_composed)\n",
    "\n",
    "        # # Update the displacement field\n",
    "        # composed_transform.compute_ddf((self.warped_image_size_x, self.warped_image_size_y, self.warped_image_size_z))\n",
    "\n",
    "        return composed_transform\n",
    "        \n",
    "        \n",
    "                    "
   ]
  },
  {
   "attachments": {},
   "cell_type": "markdown",
   "metadata": {},
   "source": [
    "### Test the composed transformations\n",
    "\n",
    "Manually define the ranges of translation and rotation parameters, according to the coordinate system defined in `RigidTransform` class.\n",
    "\n",
    "-1000 to 1000 voxels which allows for translations up to 1000 voxels in any direction. For rotation, -180 to 180, to allow for rotations of up to 180 degrees in any direction\n"
   ]
  },
  {
   "cell_type": "code",
   "execution_count": 13,
   "metadata": {},
   "outputs": [],
   "source": [
    "# Load image train 00\n",
    "volume = np.load('image_train00.npy').T\n",
    "# Define translation and rotation parameters\n",
    "rotations = np.array([5, 5, 5])*np.pi/180\n",
    "translations = np.array([10, 20, 30])"
   ]
  },
  {
   "cell_type": "code",
   "execution_count": 5,
   "metadata": {},
   "outputs": [],
   "source": [
    "rotations2 = np.array([60, 90, 120])*np.pi/180\n",
    "translations2 = np.array([11, 21, 31])\n",
    "\n",
    "rot_x2 = np.array([[1, 0, 0],\n",
    "                            [0, np.cos(rotations2[0]), -np.sin(rotations2[0])],\n",
    "                            [0, np.sin(rotations2[0]), np.cos(rotations2[0])]])\n",
    "\n",
    "rot_y2 = np.array([[np.cos(rotations2[1]), 0, np.sin(rotations2[1])],\n",
    "                            [0, 1, 0],\n",
    "                            [-np.sin(rotations2[1]), 0, np.cos(rotations2[1])]])\n",
    "\n",
    "rot_z2 = np.array([[np.cos(rotations2[2]), -np.sin(rotations2[2]), 0],\n",
    "                            [np.sin(rotations2[2]), np.cos(rotations2[2]), 0],\n",
    "                            [0, 0, 1]])\n",
    "# Compose rotation matrix from yaw, pitch, and roll \n",
    "        # Correct order is Z, Y, X\n",
    "rot_vec2 = np.matmul(rot_z2, np.matmul(rot_y2, rot_x2))\n",
    "R_composed = np.matmul(rigid_transform.rot_vec, rot_vec2)\n",
    "\n",
    "T_composed = np.matmul(rigid_transform.rot_vec, np.array(translations2)) + rigid_transform.trans_vec"
   ]
  },
  {
   "cell_type": "code",
   "execution_count": 11,
   "metadata": {},
   "outputs": [
    {
     "data": {
      "text/plain": [
       "array([[ 5.00000000e-01, -4.33012702e-01, -7.50000000e-01],\n",
       "       [-8.66025404e-01, -2.50000000e-01, -4.33012702e-01],\n",
       "       [-2.24125920e-17,  8.66025404e-01, -5.00000000e-01]])"
      ]
     },
     "execution_count": 11,
     "metadata": {},
     "output_type": "execute_result"
    }
   ],
   "source": [
    "R_composed\n"
   ]
  },
  {
   "cell_type": "code",
   "execution_count": 8,
   "metadata": {},
   "outputs": [],
   "source": [
    "rigid_transform2 = rigid_transform.compose(rotations2, translations2)"
   ]
  },
  {
   "cell_type": "code",
   "execution_count": 12,
   "metadata": {},
   "outputs": [
    {
     "data": {
      "text/plain": [
       "array([[ 5.00000000e-01, -4.33012702e-01, -7.50000000e-01],\n",
       "       [-8.66025404e-01, -2.50000000e-01, -4.33012702e-01],\n",
       "       [-2.24125920e-17,  8.66025404e-01, -5.00000000e-01]])"
      ]
     },
     "execution_count": 12,
     "metadata": {},
     "output_type": "execute_result"
    }
   ],
   "source": [
    "rigid_transform2.rot_vec"
   ]
  },
  {
   "cell_type": "code",
   "execution_count": 13,
   "metadata": {},
   "outputs": [],
   "source": [
    "ddf = np.zeros((128, 128, 32, 3))\n",
    "\n",
    "for x in range(128):\n",
    "    for y in range(128):\n",
    "        for z in range(32):\n",
    "            # Compute displacement vector at each voxel\n",
    "            ddf[x, y, z, :] = np.matmul(np.linalg.inv(R_composed), np.array([x, y, z]) - T_composed)\n",
    "ddf[15, 124, 31, :] == rigid_transform2.ddf[15, 124, 31, :]"
   ]
  },
  {
   "cell_type": "code",
   "execution_count": 14,
   "metadata": {},
   "outputs": [],
   "source": [
    "rigid_transform = RigidTransform(rotations = rotations, translations = translations, warped_image_size = (128, 128, 32))"
   ]
  },
  {
   "cell_type": "code",
   "execution_count": 9,
   "metadata": {},
   "outputs": [
    {
     "data": {
      "text/plain": [
       "array([[-5.30287619e-17, -8.66025404e-01, -5.00000000e-01],\n",
       "       [ 3.06161700e-17, -5.00000000e-01,  8.66025404e-01],\n",
       "       [-1.00000000e+00,  3.06161700e-17,  5.30287619e-17]])"
      ]
     },
     "execution_count": 9,
     "metadata": {},
     "output_type": "execute_result"
    }
   ],
   "source": [
    "rigid_transform.rot_vec"
   ]
  },
  {
   "cell_type": "code",
   "execution_count": 15,
   "metadata": {},
   "outputs": [],
   "source": [
    "ddf = np.zeros(volume.shape)\n",
    "\n",
    "for x in range(rigid_transform.warped_image_size_x):\n",
    "    for y in range(rigid_transform.warped_image_size_y):\n",
    "        for z in range(rigid_transform.warped_image_size_z):\n",
    "            # Compute displacement vector at each voxel\n",
    "            rigid_transform.ddf[x, y, z, :] = np.matmul(np.linalg.inv(rigid_transform.rot_vec), np.array([x, y, z]) - rigid_transform.trans_vec)"
   ]
  },
  {
   "cell_type": "code",
   "execution_count": 8,
   "metadata": {},
   "outputs": [
    {
     "data": {
      "text/plain": [
       "(128, 128, 32)"
      ]
     },
     "execution_count": 8,
     "metadata": {},
     "output_type": "execute_result"
    }
   ],
   "source": [
    "warped_volume = np.zeros_like(volume)\n",
    "warped_volume.shape"
   ]
  },
  {
   "cell_type": "code",
   "execution_count": 32,
   "metadata": {},
   "outputs": [],
   "source": [
    "warped_image_coords = []\n",
    "for x in range(volume.shape[0]):\n",
    "            for y in range(volume.shape[1]):\n",
    "                for z in range(volume.shape[2]):\n",
    "                    # Compute new voxel coordinates in the warped image\n",
    "                    warped_image_coords.append([np.matmul(rigid_transform.rot_vec, np.array([x, y, z])) + rigid_transform.trans_vec])\n",
    "                    #warped_image_coords.append([x, y, z])\n"
   ]
  },
  {
   "cell_type": "code",
   "execution_count": 33,
   "metadata": {},
   "outputs": [
    {
     "data": {
      "text/plain": [
       "(524288, 1, 3)"
      ]
     },
     "execution_count": 33,
     "metadata": {},
     "output_type": "execute_result"
    }
   ],
   "source": [
    "warped_image_coords = np.array(warped_image_coords)\n",
    "warped_image_coords.shape"
   ]
  },
  {
   "cell_type": "code",
   "execution_count": 34,
   "metadata": {},
   "outputs": [
    {
     "data": {
      "text/plain": [
       "array([[[ 10.        ,  10.09408982,  10.18817964, ..., 128.69827451,\n",
       "         128.79236433, 128.88645415]],\n",
       "\n",
       "       [[ 20.        ,  19.92074313,  19.84148626, ..., 154.84758216,\n",
       "         154.76832529, 154.68906842]],\n",
       "\n",
       "       [[ 30.        ,  30.99240388,  31.98480775, ...,  58.73759237,\n",
       "          59.72999625,  60.72240012]]])"
      ]
     },
     "execution_count": 34,
     "metadata": {},
     "output_type": "execute_result"
    }
   ],
   "source": [
    "warped_image_coords.T"
   ]
  },
  {
   "cell_type": "code",
   "execution_count": 35,
   "metadata": {},
   "outputs": [
    {
     "data": {
      "text/plain": [
       "(524288, 1, 3)"
      ]
     },
     "execution_count": 35,
     "metadata": {},
     "output_type": "execute_result"
    }
   ],
   "source": [
    "warped_image_coords.shape"
   ]
  },
  {
   "cell_type": "code",
   "execution_count": 43,
   "metadata": {},
   "outputs": [
    {
     "data": {
      "text/plain": [
       "(128, 128, 96)"
      ]
     },
     "execution_count": 43,
     "metadata": {},
     "output_type": "execute_result"
    }
   ],
   "source": [
    "np.array(warped_image_coords).reshape(128, 128,-1).shape"
   ]
  },
  {
   "cell_type": "code",
   "execution_count": 36,
   "metadata": {},
   "outputs": [],
   "source": [
    "warped_image_coords = warped_image_coords.reshape(128, 128, 32, 3)"
   ]
  },
  {
   "cell_type": "code",
   "execution_count": 45,
   "metadata": {},
   "outputs": [
    {
     "data": {
      "text/plain": [
       "array([[[ 30.,  30.,  30., ...,  30.,  30.,  30.],\n",
       "        [ 30.,  30.,  30., ...,  30.,  30.,  30.],\n",
       "        [ 30.,  30.,  30., ...,  30.,  30.,  30.],\n",
       "        ...,\n",
       "        [ 30.,  30.,  30., ...,  30.,  30.,  30.],\n",
       "        [ 30.,  30.,  30., ...,  30.,  30.,  30.],\n",
       "        [ 30.,  30.,  30., ...,  30.,  30.,  30.]],\n",
       "\n",
       "       [[ 29.,  29.,  29., ...,  29.,  29.,  29.],\n",
       "        [ 29.,  29.,  29., ...,  29.,  29.,  29.],\n",
       "        [ 29.,  29.,  29., ...,  29.,  29.,  29.],\n",
       "        ...,\n",
       "        [ 29.,  29.,  29., ...,  29.,  29.,  29.],\n",
       "        [ 29.,  29.,  29., ...,  29.,  29.,  29.],\n",
       "        [ 29.,  29.,  29., ...,  29.,  29.,  29.]],\n",
       "\n",
       "       [[ 28.,  28.,  28., ...,  28.,  28.,  28.],\n",
       "        [ 28.,  28.,  28., ...,  28.,  28.,  28.],\n",
       "        [ 28.,  28.,  28., ...,  28.,  28.,  28.],\n",
       "        ...,\n",
       "        [ 28.,  28.,  28., ...,  28.,  28.,  28.],\n",
       "        [ 28.,  28.,  28., ...,  28.,  28.,  28.],\n",
       "        [ 28.,  28.,  28., ...,  28.,  28.,  28.]],\n",
       "\n",
       "       ...,\n",
       "\n",
       "       [[-95., -95., -95., ..., -95., -95., -95.],\n",
       "        [-95., -95., -95., ..., -95., -95., -95.],\n",
       "        [-95., -95., -95., ..., -95., -95., -95.],\n",
       "        ...,\n",
       "        [-95., -95., -95., ..., -95., -95., -95.],\n",
       "        [-95., -95., -95., ..., -95., -95., -95.],\n",
       "        [-95., -95., -95., ..., -95., -95., -95.]],\n",
       "\n",
       "       [[-96., -96., -96., ..., -96., -96., -96.],\n",
       "        [-96., -96., -96., ..., -96., -96., -96.],\n",
       "        [-96., -96., -96., ..., -96., -96., -96.],\n",
       "        ...,\n",
       "        [-96., -96., -96., ..., -96., -96., -96.],\n",
       "        [-96., -96., -96., ..., -96., -96., -96.],\n",
       "        [-96., -96., -96., ..., -96., -96., -96.]],\n",
       "\n",
       "       [[-97., -97., -97., ..., -97., -97., -97.],\n",
       "        [-97., -97., -97., ..., -97., -97., -97.],\n",
       "        [-97., -97., -97., ..., -97., -97., -97.],\n",
       "        ...,\n",
       "        [-97., -97., -97., ..., -97., -97., -97.],\n",
       "        [-97., -97., -97., ..., -97., -97., -97.],\n",
       "        [-97., -97., -97., ..., -97., -97., -97.]]])"
      ]
     },
     "execution_count": 45,
     "metadata": {},
     "output_type": "execute_result"
    }
   ],
   "source": [
    "warped_image_coords[:, :, :, 2]"
   ]
  },
  {
   "cell_type": "code",
   "execution_count": null,
   "metadata": {},
   "outputs": [],
   "source": [
    "np.unique(np.vstack((warped_image_coords[:, :, :, 0].flatten(), warped_image_coords[:, :, :, 1].flatten(), warped_image_coords[:, :, :, 2].flatten()))[2]).shape"
   ]
  },
  {
   "cell_type": "code",
   "execution_count": 36,
   "metadata": {},
   "outputs": [
    {
     "data": {
      "text/plain": [
       "(128, 128, 32)"
      ]
     },
     "execution_count": 36,
     "metadata": {},
     "output_type": "execute_result"
    }
   ],
   "source": [
    "volume.shape"
   ]
  },
  {
   "cell_type": "code",
   "execution_count": 23,
   "metadata": {},
   "outputs": [
    {
     "data": {
      "text/plain": [
       "(524288, 1)"
      ]
     },
     "execution_count": 23,
     "metadata": {},
     "output_type": "execute_result"
    }
   ],
   "source": [
    "p=((np.arange(volume.shape[0]), np.arange(volume.shape[1]), np.arange(volume.shape[2])),\n",
    "volume, warped_image_coords,interpn\n",
    "method = 'linear', bounds_error = False,\n",
    "fill_value = 0)\n",
    "p.shape"
   ]
  },
  {
   "cell_type": "code",
   "execution_count": 24,
   "metadata": {},
   "outputs": [],
   "source": [
    "p = p.reshape(128, 128, -1)"
   ]
  },
  {
   "cell_type": "code",
   "execution_count": 25,
   "metadata": {},
   "outputs": [
    {
     "data": {
      "text/plain": [
       "(128, 128, 32)"
      ]
     },
     "execution_count": 25,
     "metadata": {},
     "output_type": "execute_result"
    }
   ],
   "source": [
    "p.shape"
   ]
  },
  {
   "cell_type": "code",
   "execution_count": 30,
   "metadata": {},
   "outputs": [
    {
     "data": {
      "text/plain": [
       "(128, 128, 32)"
      ]
     },
     "execution_count": 30,
     "metadata": {},
     "output_type": "execute_result"
    }
   ],
   "source": [
    "warped_volume = np.zeros_like(volume)\n",
    "warped_volume.shape"
   ]
  },
  {
   "cell_type": "code",
   "execution_count": 59,
   "metadata": {},
   "outputs": [],
   "source": [
    "warped_volume = np.zeros_like(volume)\n",
    "for x in range(volume.shape[0]):\n",
    "    for y in range(volume.shape[1]):\n",
    "        for z in range(volume.shape[2]):\n",
    "            # Compute new voxle coordinates in the warped image\n",
    "            new_x, new_y, new_z = np.matmul(rigid_transform.rot_vec, np.array([x, y, z])) + rigid_transform.trans_vec\n",
    "\n",
    "            # Resample intensity values at the new coordinates\n",
    "            warped_volume[x, y, z] = interpn((np.arange(volume.shape[0]), np.arange(volume.shape[1]), np.arange(volume.shape[2])), volume, np.array((new_x, new_y, new_z),), method = 'linear', bounds_error = False, fill_value = 0)"
   ]
  },
  {
   "cell_type": "code",
   "execution_count": 31,
   "metadata": {},
   "outputs": [],
   "source": [
    "warped_volume = []\n",
    "for x in range(volume.shape[0]):\n",
    "    for y in range(volume.shape[1]):\n",
    "        for z in range(volume.shape[2]):\n",
    "            # Compute new voxle coordinates in the warped image\n",
    "            warped_volume.append(np.matmul(rigid_transform.rot_vec, np.array([x, y, z])) + rigid_transform.trans_vec)"
   ]
  },
  {
   "cell_type": "code",
   "execution_count": 24,
   "metadata": {},
   "outputs": [
    {
     "data": {
      "text/plain": [
       "(524288, 3)"
      ]
     },
     "execution_count": 24,
     "metadata": {},
     "output_type": "execute_result"
    }
   ],
   "source": [
    "warped_volume = np.array(warped_volume)\n",
    "warped_volume.shape"
   ]
  },
  {
   "cell_type": "code",
   "execution_count": 26,
   "metadata": {},
   "outputs": [],
   "source": [
    "warped_volume = warped_volume.reshape(128, 128, -1)"
   ]
  },
  {
   "cell_type": "code",
   "execution_count": 27,
   "metadata": {},
   "outputs": [
    {
     "data": {
      "text/plain": [
       "(128, 128, 96)"
      ]
     },
     "execution_count": 27,
     "metadata": {},
     "output_type": "execute_result"
    }
   ],
   "source": [
    "warped_volume.shape"
   ]
  },
  {
   "cell_type": "code",
   "execution_count": 41,
   "metadata": {},
   "outputs": [
    {
     "ename": "IndexError",
     "evalue": "index 1 is out of bounds for axis 0 with size 1",
     "output_type": "error",
     "traceback": [
      "\u001b[0;31m---------------------------------------------------------------------------\u001b[0m",
      "\u001b[0;31mIndexError\u001b[0m                                Traceback (most recent call last)",
      "Cell \u001b[0;32mIn[41], line 1\u001b[0m\n\u001b[0;32m----> 1\u001b[0m warped_image_coords\u001b[39m.\u001b[39;49mT[\u001b[39m0\u001b[39;49m][\u001b[39m1\u001b[39;49m]\n",
      "\u001b[0;31mIndexError\u001b[0m: index 1 is out of bounds for axis 0 with size 1"
     ]
    }
   ],
   "source": [
    "warped_image_coords.T[0]"
   ]
  },
  {
   "cell_type": "code",
   "execution_count": 44,
   "metadata": {},
   "outputs": [
    {
     "data": {
      "text/plain": [
       "524288"
      ]
     },
     "execution_count": 44,
     "metadata": {},
     "output_type": "execute_result"
    }
   ],
   "source": [
    "128*128*32"
   ]
  },
  {
   "cell_type": "code",
   "execution_count": 37,
   "metadata": {},
   "outputs": [],
   "source": [
    "from scipy.ndimage import map_coordinates\n",
    "new_vol = map_coordinates(volume, [warped_image_coords.T[0], warped_image_coords.T[1], warped_image_coords.T[2]], order=1, mode='nearest')"
   ]
  },
  {
   "cell_type": "code",
   "execution_count": 38,
   "metadata": {},
   "outputs": [],
   "source": [
    "new_vol = new_vol.reshape(128, 128, 32)"
   ]
  },
  {
   "cell_type": "code",
   "execution_count": 81,
   "metadata": {},
   "outputs": [
    {
     "ename": "ValueError",
     "evalue": "The points in dimension 0 must be strictly ascending or descending",
     "output_type": "error",
     "traceback": [
      "\u001b[0;31m---------------------------------------------------------------------------\u001b[0m",
      "\u001b[0;31mValueError\u001b[0m                                Traceback (most recent call last)",
      "Cell \u001b[0;32mIn[81], line 1\u001b[0m\n\u001b[0;32m----> 1\u001b[0m interpn((x_coords, y_coords, z_coords), volume, np\u001b[39m.\u001b[39;49marray((new_x, new_y, new_z)), method \u001b[39m=\u001b[39;49m \u001b[39m'\u001b[39;49m\u001b[39mlinear\u001b[39;49m\u001b[39m'\u001b[39;49m, bounds_error \u001b[39m=\u001b[39;49m \u001b[39mFalse\u001b[39;49;00m, fill_value \u001b[39m=\u001b[39;49m \u001b[39m0\u001b[39;49m)\n",
      "File \u001b[0;32m~/.local/lib/python3.10/site-packages/scipy/interpolate/_rgi.py:564\u001b[0m, in \u001b[0;36minterpn\u001b[0;34m(points, values, xi, method, bounds_error, fill_value)\u001b[0m\n\u001b[1;32m    561\u001b[0m         points, values \u001b[39m=\u001b[39m _make_points_and_values_ascending(points,\n\u001b[1;32m    562\u001b[0m                                                            values)\n\u001b[1;32m    563\u001b[0m     \u001b[39melse\u001b[39;00m:\n\u001b[0;32m--> 564\u001b[0m         \u001b[39mraise\u001b[39;00m \u001b[39mValueError\u001b[39;00m(\u001b[39m\"\u001b[39m\u001b[39mThe points in dimension \u001b[39m\u001b[39m%d\u001b[39;00m\u001b[39m must be strictly \u001b[39m\u001b[39m\"\u001b[39m\n\u001b[1;32m    565\u001b[0m                          \u001b[39m\"\u001b[39m\u001b[39mascending or descending\u001b[39m\u001b[39m\"\u001b[39m \u001b[39m%\u001b[39m i)\n\u001b[1;32m    566\u001b[0m \u001b[39mif\u001b[39;00m \u001b[39mnot\u001b[39;00m np\u001b[39m.\u001b[39masarray(p)\u001b[39m.\u001b[39mndim \u001b[39m==\u001b[39m \u001b[39m1\u001b[39m:\n\u001b[1;32m    567\u001b[0m     \u001b[39mraise\u001b[39;00m \u001b[39mValueError\u001b[39;00m(\u001b[39m\"\u001b[39m\u001b[39mThe points in dimension \u001b[39m\u001b[39m%d\u001b[39;00m\u001b[39m must be \u001b[39m\u001b[39m\"\u001b[39m\n\u001b[1;32m    568\u001b[0m                      \u001b[39m\"\u001b[39m\u001b[39m1-dimensional\u001b[39m\u001b[39m\"\u001b[39m \u001b[39m%\u001b[39m i)\n",
      "\u001b[0;31mValueError\u001b[0m: The points in dimension 0 must be strictly ascending or descending"
     ]
    }
   ],
   "source": [
    "interpn((x_coords, y_coords, z_coords), volume, np.array((new_x, new_y, new_z)), method = 'linear', bounds_error = False, fill_value = 0)"
   ]
  },
  {
   "cell_type": "code",
   "execution_count": 73,
   "metadata": {},
   "outputs": [
    {
     "data": {
      "text/plain": [
       "array([[[ 98, 113, 102, ...,   0,   0,   0],\n",
       "        [103, 107, 122, ...,   0,   0,   0],\n",
       "        [ 98,  85, 111, ...,   0,   0,   0],\n",
       "        ...,\n",
       "        [  0,   0,   0, ...,   0,   0,   0],\n",
       "        [  0,   0,   0, ...,   0,   0,   0],\n",
       "        [  0,   0,   0, ...,   0,   0,   0]],\n",
       "\n",
       "       [[117,  86, 107, ...,   0,   0,   0],\n",
       "        [ 79,  86,  90, ...,   0,   0,   0],\n",
       "        [107,  88,  97, ...,   0,   0,   0],\n",
       "        ...,\n",
       "        [  0,   0,   0, ...,   0,   0,   0],\n",
       "        [  0,   0,   0, ...,   0,   0,   0],\n",
       "        [  0,   0,   0, ...,   0,   0,   0]],\n",
       "\n",
       "       [[105, 116,  95, ...,   0,   0,   0],\n",
       "        [106, 117, 108, ...,   0,   0,   0],\n",
       "        [ 96, 108,  95, ...,   0,   0,   0],\n",
       "        ...,\n",
       "        [  0,   0,   0, ...,   0,   0,   0],\n",
       "        [  0,   0,   0, ...,   0,   0,   0],\n",
       "        [  0,   0,   0, ...,   0,   0,   0]],\n",
       "\n",
       "       ...,\n",
       "\n",
       "       [[  0,   0,   0, ...,   0,   0,   0],\n",
       "        [  0,   0,   0, ...,   0,   0,   0],\n",
       "        [  0,   0,   0, ...,   0,   0,   0],\n",
       "        ...,\n",
       "        [  0,   0,   0, ...,   0,   0,   0],\n",
       "        [  0,   0,   0, ...,   0,   0,   0],\n",
       "        [  0,   0,   0, ...,   0,   0,   0]],\n",
       "\n",
       "       [[  0,   0,   0, ...,   0,   0,   0],\n",
       "        [  0,   0,   0, ...,   0,   0,   0],\n",
       "        [  0,   0,   0, ...,   0,   0,   0],\n",
       "        ...,\n",
       "        [  0,   0,   0, ...,   0,   0,   0],\n",
       "        [  0,   0,   0, ...,   0,   0,   0],\n",
       "        [  0,   0,   0, ...,   0,   0,   0]],\n",
       "\n",
       "       [[  0,   0,   0, ...,   0,   0,   0],\n",
       "        [  0,   0,   0, ...,   0,   0,   0],\n",
       "        [  0,   0,   0, ...,   0,   0,   0],\n",
       "        ...,\n",
       "        [  0,   0,   0, ...,   0,   0,   0],\n",
       "        [  0,   0,   0, ...,   0,   0,   0],\n",
       "        [  0,   0,   0, ...,   0,   0,   0]]], dtype=int16)"
      ]
     },
     "execution_count": 73,
     "metadata": {},
     "output_type": "execute_result"
    }
   ],
   "source": [
    "warped_volume"
   ]
  },
  {
   "cell_type": "code",
   "execution_count": 66,
   "metadata": {},
   "outputs": [],
   "source": [
    "x_coords, y_coords, z_coords = np.mgrid[:volume.shape[0], :volume.shape[1], :volume.shape[2]]\n",
    "voxel_coords=np.stack([x_coords, y_coords, z_coords], axis = -1)\n"
   ]
  },
  {
   "cell_type": "code",
   "execution_count": 80,
   "metadata": {},
   "outputs": [
    {
     "data": {
      "text/plain": [
       "(array([[[  0,   0,   0, ...,   0,   0,   0],\n",
       "         [  0,   0,   0, ...,   0,   0,   0],\n",
       "         [  0,   0,   0, ...,   0,   0,   0],\n",
       "         ...,\n",
       "         [  0,   0,   0, ...,   0,   0,   0],\n",
       "         [  0,   0,   0, ...,   0,   0,   0],\n",
       "         [  0,   0,   0, ...,   0,   0,   0]],\n",
       " \n",
       "        [[  1,   1,   1, ...,   1,   1,   1],\n",
       "         [  1,   1,   1, ...,   1,   1,   1],\n",
       "         [  1,   1,   1, ...,   1,   1,   1],\n",
       "         ...,\n",
       "         [  1,   1,   1, ...,   1,   1,   1],\n",
       "         [  1,   1,   1, ...,   1,   1,   1],\n",
       "         [  1,   1,   1, ...,   1,   1,   1]],\n",
       " \n",
       "        [[  2,   2,   2, ...,   2,   2,   2],\n",
       "         [  2,   2,   2, ...,   2,   2,   2],\n",
       "         [  2,   2,   2, ...,   2,   2,   2],\n",
       "         ...,\n",
       "         [  2,   2,   2, ...,   2,   2,   2],\n",
       "         [  2,   2,   2, ...,   2,   2,   2],\n",
       "         [  2,   2,   2, ...,   2,   2,   2]],\n",
       " \n",
       "        ...,\n",
       " \n",
       "        [[125, 125, 125, ..., 125, 125, 125],\n",
       "         [125, 125, 125, ..., 125, 125, 125],\n",
       "         [125, 125, 125, ..., 125, 125, 125],\n",
       "         ...,\n",
       "         [125, 125, 125, ..., 125, 125, 125],\n",
       "         [125, 125, 125, ..., 125, 125, 125],\n",
       "         [125, 125, 125, ..., 125, 125, 125]],\n",
       " \n",
       "        [[126, 126, 126, ..., 126, 126, 126],\n",
       "         [126, 126, 126, ..., 126, 126, 126],\n",
       "         [126, 126, 126, ..., 126, 126, 126],\n",
       "         ...,\n",
       "         [126, 126, 126, ..., 126, 126, 126],\n",
       "         [126, 126, 126, ..., 126, 126, 126],\n",
       "         [126, 126, 126, ..., 126, 126, 126]],\n",
       " \n",
       "        [[127, 127, 127, ..., 127, 127, 127],\n",
       "         [127, 127, 127, ..., 127, 127, 127],\n",
       "         [127, 127, 127, ..., 127, 127, 127],\n",
       "         ...,\n",
       "         [127, 127, 127, ..., 127, 127, 127],\n",
       "         [127, 127, 127, ..., 127, 127, 127],\n",
       "         [127, 127, 127, ..., 127, 127, 127]]]),\n",
       " array([[[  0,   0,   0, ...,   0,   0,   0],\n",
       "         [  1,   1,   1, ...,   1,   1,   1],\n",
       "         [  2,   2,   2, ...,   2,   2,   2],\n",
       "         ...,\n",
       "         [125, 125, 125, ..., 125, 125, 125],\n",
       "         [126, 126, 126, ..., 126, 126, 126],\n",
       "         [127, 127, 127, ..., 127, 127, 127]],\n",
       " \n",
       "        [[  0,   0,   0, ...,   0,   0,   0],\n",
       "         [  1,   1,   1, ...,   1,   1,   1],\n",
       "         [  2,   2,   2, ...,   2,   2,   2],\n",
       "         ...,\n",
       "         [125, 125, 125, ..., 125, 125, 125],\n",
       "         [126, 126, 126, ..., 126, 126, 126],\n",
       "         [127, 127, 127, ..., 127, 127, 127]],\n",
       " \n",
       "        [[  0,   0,   0, ...,   0,   0,   0],\n",
       "         [  1,   1,   1, ...,   1,   1,   1],\n",
       "         [  2,   2,   2, ...,   2,   2,   2],\n",
       "         ...,\n",
       "         [125, 125, 125, ..., 125, 125, 125],\n",
       "         [126, 126, 126, ..., 126, 126, 126],\n",
       "         [127, 127, 127, ..., 127, 127, 127]],\n",
       " \n",
       "        ...,\n",
       " \n",
       "        [[  0,   0,   0, ...,   0,   0,   0],\n",
       "         [  1,   1,   1, ...,   1,   1,   1],\n",
       "         [  2,   2,   2, ...,   2,   2,   2],\n",
       "         ...,\n",
       "         [125, 125, 125, ..., 125, 125, 125],\n",
       "         [126, 126, 126, ..., 126, 126, 126],\n",
       "         [127, 127, 127, ..., 127, 127, 127]],\n",
       " \n",
       "        [[  0,   0,   0, ...,   0,   0,   0],\n",
       "         [  1,   1,   1, ...,   1,   1,   1],\n",
       "         [  2,   2,   2, ...,   2,   2,   2],\n",
       "         ...,\n",
       "         [125, 125, 125, ..., 125, 125, 125],\n",
       "         [126, 126, 126, ..., 126, 126, 126],\n",
       "         [127, 127, 127, ..., 127, 127, 127]],\n",
       " \n",
       "        [[  0,   0,   0, ...,   0,   0,   0],\n",
       "         [  1,   1,   1, ...,   1,   1,   1],\n",
       "         [  2,   2,   2, ...,   2,   2,   2],\n",
       "         ...,\n",
       "         [125, 125, 125, ..., 125, 125, 125],\n",
       "         [126, 126, 126, ..., 126, 126, 126],\n",
       "         [127, 127, 127, ..., 127, 127, 127]]]),\n",
       " array([[[ 0,  1,  2, ..., 29, 30, 31],\n",
       "         [ 0,  1,  2, ..., 29, 30, 31],\n",
       "         [ 0,  1,  2, ..., 29, 30, 31],\n",
       "         ...,\n",
       "         [ 0,  1,  2, ..., 29, 30, 31],\n",
       "         [ 0,  1,  2, ..., 29, 30, 31],\n",
       "         [ 0,  1,  2, ..., 29, 30, 31]],\n",
       " \n",
       "        [[ 0,  1,  2, ..., 29, 30, 31],\n",
       "         [ 0,  1,  2, ..., 29, 30, 31],\n",
       "         [ 0,  1,  2, ..., 29, 30, 31],\n",
       "         ...,\n",
       "         [ 0,  1,  2, ..., 29, 30, 31],\n",
       "         [ 0,  1,  2, ..., 29, 30, 31],\n",
       "         [ 0,  1,  2, ..., 29, 30, 31]],\n",
       " \n",
       "        [[ 0,  1,  2, ..., 29, 30, 31],\n",
       "         [ 0,  1,  2, ..., 29, 30, 31],\n",
       "         [ 0,  1,  2, ..., 29, 30, 31],\n",
       "         ...,\n",
       "         [ 0,  1,  2, ..., 29, 30, 31],\n",
       "         [ 0,  1,  2, ..., 29, 30, 31],\n",
       "         [ 0,  1,  2, ..., 29, 30, 31]],\n",
       " \n",
       "        ...,\n",
       " \n",
       "        [[ 0,  1,  2, ..., 29, 30, 31],\n",
       "         [ 0,  1,  2, ..., 29, 30, 31],\n",
       "         [ 0,  1,  2, ..., 29, 30, 31],\n",
       "         ...,\n",
       "         [ 0,  1,  2, ..., 29, 30, 31],\n",
       "         [ 0,  1,  2, ..., 29, 30, 31],\n",
       "         [ 0,  1,  2, ..., 29, 30, 31]],\n",
       " \n",
       "        [[ 0,  1,  2, ..., 29, 30, 31],\n",
       "         [ 0,  1,  2, ..., 29, 30, 31],\n",
       "         [ 0,  1,  2, ..., 29, 30, 31],\n",
       "         ...,\n",
       "         [ 0,  1,  2, ..., 29, 30, 31],\n",
       "         [ 0,  1,  2, ..., 29, 30, 31],\n",
       "         [ 0,  1,  2, ..., 29, 30, 31]],\n",
       " \n",
       "        [[ 0,  1,  2, ..., 29, 30, 31],\n",
       "         [ 0,  1,  2, ..., 29, 30, 31],\n",
       "         [ 0,  1,  2, ..., 29, 30, 31],\n",
       "         ...,\n",
       "         [ 0,  1,  2, ..., 29, 30, 31],\n",
       "         [ 0,  1,  2, ..., 29, 30, 31],\n",
       "         [ 0,  1,  2, ..., 29, 30, 31]]]))"
      ]
     },
     "execution_count": 80,
     "metadata": {},
     "output_type": "execute_result"
    }
   ],
   "source": [
    "(x_coords, y_coords, z_coords,)"
   ]
  },
  {
   "cell_type": "code",
   "execution_count": 70,
   "metadata": {},
   "outputs": [
    {
     "data": {
      "text/plain": [
       "array([[[[  0,   0,   0],\n",
       "         [  0,   0,   1],\n",
       "         [  0,   0,   2],\n",
       "         ...,\n",
       "         [  0,   0,  29],\n",
       "         [  0,   0,  30],\n",
       "         [  0,   0,  31]],\n",
       "\n",
       "        [[  0,   1,   0],\n",
       "         [  0,   1,   1],\n",
       "         [  0,   1,   2],\n",
       "         ...,\n",
       "         [  0,   1,  29],\n",
       "         [  0,   1,  30],\n",
       "         [  0,   1,  31]],\n",
       "\n",
       "        [[  0,   2,   0],\n",
       "         [  0,   2,   1],\n",
       "         [  0,   2,   2],\n",
       "         ...,\n",
       "         [  0,   2,  29],\n",
       "         [  0,   2,  30],\n",
       "         [  0,   2,  31]],\n",
       "\n",
       "        ...,\n",
       "\n",
       "        [[  0, 125,   0],\n",
       "         [  0, 125,   1],\n",
       "         [  0, 125,   2],\n",
       "         ...,\n",
       "         [  0, 125,  29],\n",
       "         [  0, 125,  30],\n",
       "         [  0, 125,  31]],\n",
       "\n",
       "        [[  0, 126,   0],\n",
       "         [  0, 126,   1],\n",
       "         [  0, 126,   2],\n",
       "         ...,\n",
       "         [  0, 126,  29],\n",
       "         [  0, 126,  30],\n",
       "         [  0, 126,  31]],\n",
       "\n",
       "        [[  0, 127,   0],\n",
       "         [  0, 127,   1],\n",
       "         [  0, 127,   2],\n",
       "         ...,\n",
       "         [  0, 127,  29],\n",
       "         [  0, 127,  30],\n",
       "         [  0, 127,  31]]],\n",
       "\n",
       "\n",
       "       [[[  1,   0,   0],\n",
       "         [  1,   0,   1],\n",
       "         [  1,   0,   2],\n",
       "         ...,\n",
       "         [  1,   0,  29],\n",
       "         [  1,   0,  30],\n",
       "         [  1,   0,  31]],\n",
       "\n",
       "        [[  1,   1,   0],\n",
       "         [  1,   1,   1],\n",
       "         [  1,   1,   2],\n",
       "         ...,\n",
       "         [  1,   1,  29],\n",
       "         [  1,   1,  30],\n",
       "         [  1,   1,  31]],\n",
       "\n",
       "        [[  1,   2,   0],\n",
       "         [  1,   2,   1],\n",
       "         [  1,   2,   2],\n",
       "         ...,\n",
       "         [  1,   2,  29],\n",
       "         [  1,   2,  30],\n",
       "         [  1,   2,  31]],\n",
       "\n",
       "        ...,\n",
       "\n",
       "        [[  1, 125,   0],\n",
       "         [  1, 125,   1],\n",
       "         [  1, 125,   2],\n",
       "         ...,\n",
       "         [  1, 125,  29],\n",
       "         [  1, 125,  30],\n",
       "         [  1, 125,  31]],\n",
       "\n",
       "        [[  1, 126,   0],\n",
       "         [  1, 126,   1],\n",
       "         [  1, 126,   2],\n",
       "         ...,\n",
       "         [  1, 126,  29],\n",
       "         [  1, 126,  30],\n",
       "         [  1, 126,  31]],\n",
       "\n",
       "        [[  1, 127,   0],\n",
       "         [  1, 127,   1],\n",
       "         [  1, 127,   2],\n",
       "         ...,\n",
       "         [  1, 127,  29],\n",
       "         [  1, 127,  30],\n",
       "         [  1, 127,  31]]],\n",
       "\n",
       "\n",
       "       [[[  2,   0,   0],\n",
       "         [  2,   0,   1],\n",
       "         [  2,   0,   2],\n",
       "         ...,\n",
       "         [  2,   0,  29],\n",
       "         [  2,   0,  30],\n",
       "         [  2,   0,  31]],\n",
       "\n",
       "        [[  2,   1,   0],\n",
       "         [  2,   1,   1],\n",
       "         [  2,   1,   2],\n",
       "         ...,\n",
       "         [  2,   1,  29],\n",
       "         [  2,   1,  30],\n",
       "         [  2,   1,  31]],\n",
       "\n",
       "        [[  2,   2,   0],\n",
       "         [  2,   2,   1],\n",
       "         [  2,   2,   2],\n",
       "         ...,\n",
       "         [  2,   2,  29],\n",
       "         [  2,   2,  30],\n",
       "         [  2,   2,  31]],\n",
       "\n",
       "        ...,\n",
       "\n",
       "        [[  2, 125,   0],\n",
       "         [  2, 125,   1],\n",
       "         [  2, 125,   2],\n",
       "         ...,\n",
       "         [  2, 125,  29],\n",
       "         [  2, 125,  30],\n",
       "         [  2, 125,  31]],\n",
       "\n",
       "        [[  2, 126,   0],\n",
       "         [  2, 126,   1],\n",
       "         [  2, 126,   2],\n",
       "         ...,\n",
       "         [  2, 126,  29],\n",
       "         [  2, 126,  30],\n",
       "         [  2, 126,  31]],\n",
       "\n",
       "        [[  2, 127,   0],\n",
       "         [  2, 127,   1],\n",
       "         [  2, 127,   2],\n",
       "         ...,\n",
       "         [  2, 127,  29],\n",
       "         [  2, 127,  30],\n",
       "         [  2, 127,  31]]],\n",
       "\n",
       "\n",
       "       ...,\n",
       "\n",
       "\n",
       "       [[[125,   0,   0],\n",
       "         [125,   0,   1],\n",
       "         [125,   0,   2],\n",
       "         ...,\n",
       "         [125,   0,  29],\n",
       "         [125,   0,  30],\n",
       "         [125,   0,  31]],\n",
       "\n",
       "        [[125,   1,   0],\n",
       "         [125,   1,   1],\n",
       "         [125,   1,   2],\n",
       "         ...,\n",
       "         [125,   1,  29],\n",
       "         [125,   1,  30],\n",
       "         [125,   1,  31]],\n",
       "\n",
       "        [[125,   2,   0],\n",
       "         [125,   2,   1],\n",
       "         [125,   2,   2],\n",
       "         ...,\n",
       "         [125,   2,  29],\n",
       "         [125,   2,  30],\n",
       "         [125,   2,  31]],\n",
       "\n",
       "        ...,\n",
       "\n",
       "        [[125, 125,   0],\n",
       "         [125, 125,   1],\n",
       "         [125, 125,   2],\n",
       "         ...,\n",
       "         [125, 125,  29],\n",
       "         [125, 125,  30],\n",
       "         [125, 125,  31]],\n",
       "\n",
       "        [[125, 126,   0],\n",
       "         [125, 126,   1],\n",
       "         [125, 126,   2],\n",
       "         ...,\n",
       "         [125, 126,  29],\n",
       "         [125, 126,  30],\n",
       "         [125, 126,  31]],\n",
       "\n",
       "        [[125, 127,   0],\n",
       "         [125, 127,   1],\n",
       "         [125, 127,   2],\n",
       "         ...,\n",
       "         [125, 127,  29],\n",
       "         [125, 127,  30],\n",
       "         [125, 127,  31]]],\n",
       "\n",
       "\n",
       "       [[[126,   0,   0],\n",
       "         [126,   0,   1],\n",
       "         [126,   0,   2],\n",
       "         ...,\n",
       "         [126,   0,  29],\n",
       "         [126,   0,  30],\n",
       "         [126,   0,  31]],\n",
       "\n",
       "        [[126,   1,   0],\n",
       "         [126,   1,   1],\n",
       "         [126,   1,   2],\n",
       "         ...,\n",
       "         [126,   1,  29],\n",
       "         [126,   1,  30],\n",
       "         [126,   1,  31]],\n",
       "\n",
       "        [[126,   2,   0],\n",
       "         [126,   2,   1],\n",
       "         [126,   2,   2],\n",
       "         ...,\n",
       "         [126,   2,  29],\n",
       "         [126,   2,  30],\n",
       "         [126,   2,  31]],\n",
       "\n",
       "        ...,\n",
       "\n",
       "        [[126, 125,   0],\n",
       "         [126, 125,   1],\n",
       "         [126, 125,   2],\n",
       "         ...,\n",
       "         [126, 125,  29],\n",
       "         [126, 125,  30],\n",
       "         [126, 125,  31]],\n",
       "\n",
       "        [[126, 126,   0],\n",
       "         [126, 126,   1],\n",
       "         [126, 126,   2],\n",
       "         ...,\n",
       "         [126, 126,  29],\n",
       "         [126, 126,  30],\n",
       "         [126, 126,  31]],\n",
       "\n",
       "        [[126, 127,   0],\n",
       "         [126, 127,   1],\n",
       "         [126, 127,   2],\n",
       "         ...,\n",
       "         [126, 127,  29],\n",
       "         [126, 127,  30],\n",
       "         [126, 127,  31]]],\n",
       "\n",
       "\n",
       "       [[[127,   0,   0],\n",
       "         [127,   0,   1],\n",
       "         [127,   0,   2],\n",
       "         ...,\n",
       "         [127,   0,  29],\n",
       "         [127,   0,  30],\n",
       "         [127,   0,  31]],\n",
       "\n",
       "        [[127,   1,   0],\n",
       "         [127,   1,   1],\n",
       "         [127,   1,   2],\n",
       "         ...,\n",
       "         [127,   1,  29],\n",
       "         [127,   1,  30],\n",
       "         [127,   1,  31]],\n",
       "\n",
       "        [[127,   2,   0],\n",
       "         [127,   2,   1],\n",
       "         [127,   2,   2],\n",
       "         ...,\n",
       "         [127,   2,  29],\n",
       "         [127,   2,  30],\n",
       "         [127,   2,  31]],\n",
       "\n",
       "        ...,\n",
       "\n",
       "        [[127, 125,   0],\n",
       "         [127, 125,   1],\n",
       "         [127, 125,   2],\n",
       "         ...,\n",
       "         [127, 125,  29],\n",
       "         [127, 125,  30],\n",
       "         [127, 125,  31]],\n",
       "\n",
       "        [[127, 126,   0],\n",
       "         [127, 126,   1],\n",
       "         [127, 126,   2],\n",
       "         ...,\n",
       "         [127, 126,  29],\n",
       "         [127, 126,  30],\n",
       "         [127, 126,  31]],\n",
       "\n",
       "        [[127, 127,   0],\n",
       "         [127, 127,   1],\n",
       "         [127, 127,   2],\n",
       "         ...,\n",
       "         [127, 127,  29],\n",
       "         [127, 127,  30],\n",
       "         [127, 127,  31]]]])"
      ]
     },
     "execution_count": 70,
     "metadata": {},
     "output_type": "execute_result"
    }
   ],
   "source": [
    "voxel_coords"
   ]
  },
  {
   "cell_type": "code",
   "execution_count": 71,
   "metadata": {},
   "outputs": [
    {
     "ename": "ValueError",
     "evalue": "matmul: Input operand 1 has a mismatch in its core dimension 0, with gufunc signature (n?,k),(k,m?)->(n?,m?) (size 32 is different from 3)",
     "output_type": "error",
     "traceback": [
      "\u001b[0;31m---------------------------------------------------------------------------\u001b[0m",
      "\u001b[0;31mValueError\u001b[0m                                Traceback (most recent call last)",
      "Cell \u001b[0;32mIn[71], line 1\u001b[0m\n\u001b[0;32m----> 1\u001b[0m voxel_coords_n \u001b[39m=\u001b[39m np\u001b[39m.\u001b[39;49mmatmul(rigid_transform\u001b[39m.\u001b[39;49mrot_vec, voxel_coords) \u001b[39m+\u001b[39m rigid_transform\u001b[39m.\u001b[39mtrans_vec\n",
      "\u001b[0;31mValueError\u001b[0m: matmul: Input operand 1 has a mismatch in its core dimension 0, with gufunc signature (n?,k),(k,m?)->(n?,m?) (size 32 is different from 3)"
     ]
    }
   ],
   "source": [
    "voxel_coords_n = np.matmul(rigid_transform.rot_vec, voxel_coords) + rigid_transform.trans_vec"
   ]
  },
  {
   "cell_type": "code",
   "execution_count": 64,
   "metadata": {},
   "outputs": [
    {
     "data": {
      "text/plain": [
       "array([-115.48522628,  -16.65321248,  -97.        ])"
      ]
     },
     "execution_count": 64,
     "metadata": {},
     "output_type": "execute_result"
    }
   ],
   "source": [
    "voxel_coords_n"
   ]
  },
  {
   "cell_type": "code",
   "execution_count": null,
   "metadata": {},
   "outputs": [],
   "source": [
    "for voxel in np.nditer(volume, order = 'C'):\n",
    "    print(voxel)"
   ]
  },
  {
   "cell_type": "code",
   "execution_count": 54,
   "metadata": {},
   "outputs": [
    {
     "data": {
      "text/plain": [
       "array([10., 20., 30.])"
      ]
     },
     "execution_count": 54,
     "metadata": {},
     "output_type": "execute_result"
    }
   ],
   "source": [
    "np.matmul(rigid_transform.rot_vec, np.array([0, 0, 0])) + rigid_transform.trans_vec"
   ]
  },
  {
   "cell_type": "code",
   "execution_count": 18,
   "metadata": {},
   "outputs": [
    {
     "data": {
      "text/plain": [
       "array([[[    98,    113,    102, ...,    163,    -36,    -20],\n",
       "        [   103,    107,    122, ...,    135,     72,    -65],\n",
       "        [    98,     85,    111, ...,     43,    206,    -58],\n",
       "        ...,\n",
       "        [  4314,   2233,    125, ...,  -1742,  -4627,  -7539],\n",
       "        [  7096,   4999,   2875, ...,    576,  -2324,  -5252],\n",
       "        [  9906,   7793,   5653, ...,   2922,      6,  -2939]],\n",
       "\n",
       "       [[   117,     86,    107, ...,    108,    104,    195],\n",
       "        [    79,     86,     90, ...,    135,     97,    138],\n",
       "        [   107,     88,     97, ...,    185,     90,     86],\n",
       "        ...,\n",
       "        [-25894, -24550, -23187, ...,  20480,  22351,  24241],\n",
       "        [-27743, -26388, -25015, ...,  18935,  20818,  22718],\n",
       "        [-29610, -28245, -26861, ...,  17373,  19266,  21177]],\n",
       "\n",
       "       [[   105,    116,     95, ...,     43,     86,     -5],\n",
       "        [   106,    117,    108, ...,     41,     47,     36],\n",
       "        [    96,    108,     95, ...,     58,      2,     60],\n",
       "        ...,\n",
       "        [-11028,  -8849,  -6639, ...,  -1395,   1638,   4702],\n",
       "        [-13966, -11769,  -9543, ...,  -3840,   -789,   2291],\n",
       "        [-16934, -14720, -12477, ...,  -6314,  -3247,   -150]],\n",
       "\n",
       "       ...,\n",
       "\n",
       "       [[  1229,    221,   1592, ...,   5517,  -5278,  11153],\n",
       "        [  -661,   -734,   1003, ...,   5252,   1176,   1010],\n",
       "        [ -1430,   -330,    154, ...,   2069,   9090,  -5401],\n",
       "        ...,\n",
       "        [-18171,  10333, -31603, ...,  -3043,  14308,  26755],\n",
       "        [ 12811, -27052,  -6284, ...,  11361,  25881, -30039],\n",
       "        [-16839,   6002,  23939, ...,  30669, -23178, -16394]],\n",
       "\n",
       "       [[  1241,    222,   1607, ...,   5573,  -5332,  11269],\n",
       "        [  -669,   -742,   1013, ...,   5305,   1188,   1021],\n",
       "        [ -1446,   -335,    155, ...,   2089,   9184,  -5456],\n",
       "        ...,\n",
       "        [ 32201,  -8630,  11119, ..., -18073,  -6003,   1112],\n",
       "        [  2749,  24593, -24055, ...,    578,   9787,  14041],\n",
       "        [-21747,  -2765,  11263, ...,  24185,  30533,  31926]],\n",
       "\n",
       "       [[  1253,    224,   1623, ...,   5630,  -5387,  11385],\n",
       "        [  -676,   -751,   1022, ...,   5359,   1200,   1032],\n",
       "        [ -1462,   -339,    156, ...,   2109,   9277,  -5512],\n",
       "        ...,\n",
       "        [ 17038, -27593, -11695, ...,  32434, -26313, -24531],\n",
       "        [ -7312,  10702,  23710, ..., -10204,  -6306,  -7414],\n",
       "        [-26655, -11531,  -1414, ...,  17700,  18708,  14709]]],\n",
       "      dtype=int16)"
      ]
     },
     "execution_count": 18,
     "metadata": {},
     "output_type": "execute_result"
    }
   ],
   "source": [
    "warped_volume.reshape(128, 128, -1)"
   ]
  },
  {
   "cell_type": "code",
   "execution_count": 40,
   "metadata": {},
   "outputs": [
    {
     "data": {
      "text/plain": [
       "array([[[ 54,  65,  92, ...,  55,  94,  70],\n",
       "        [ 45,  66,  57, ...,  68,  64,  60],\n",
       "        [ 79,  80,  74, ...,  85,  74,  75],\n",
       "        ...,\n",
       "        [ 53,  68,  65, ...,  53,  64,  61],\n",
       "        [111,  76,  66, ...,  74,  84,  83],\n",
       "        [ 75,  74,  58, ...,  49,  84,  49]],\n",
       "\n",
       "       [[ 53,  66,  31, ...,  88,  90,  92],\n",
       "        [102,  66,  87, ...,  80,  92, 106],\n",
       "        [ 68,  64,  81, ...,  77,  89,  74],\n",
       "        ...,\n",
       "        [ 96,  85,  81, ...,  91,  68,  80],\n",
       "        [ 71,  98,  89, ...,  76,  80,  98],\n",
       "        [120,  75,  81, ...,  80,  54,  62]],\n",
       "\n",
       "       [[ 97,  86,  83, ...,  99,  95,  82],\n",
       "        [ 43,  89,  75, ..., 102,  96,  99],\n",
       "        [ 61,  91,  51, ...,  58,  97,  89],\n",
       "        ...,\n",
       "        [109,  75,  86, ...,  69,  64,  65],\n",
       "        [ 74,  75,  67, ...,  71,  80,  63],\n",
       "        [141,  81,  57, ...,  86, 103, 102]],\n",
       "\n",
       "       ...,\n",
       "\n",
       "       [[ 85,  60,  59, ..., 153, 171,  98],\n",
       "        [ 49,  64,  95, ..., 147, 151, 123],\n",
       "        [112, 129, 195, ..., 143, 147,  78],\n",
       "        ...,\n",
       "        [ 49,  90,  71, ...,  67, 188, 140],\n",
       "        [102,  62,  81, ...,  86, 123, 125],\n",
       "        [ 97,  58,  75, ...,  71,  95, 124]],\n",
       "\n",
       "       [[ 54,  63,  84, ..., 108,  66,  84],\n",
       "        [ 67,  69,  98, ...,  88,  79,  57],\n",
       "        [132, 214, 171, ..., 168,  84,  65],\n",
       "        ...,\n",
       "        [ 64,  84,  46, ...,  83, 119, 124],\n",
       "        [113,  79,  95, ...,  64, 124, 122],\n",
       "        [ 67,  95,  61, ...,  93, 125, 137]],\n",
       "\n",
       "       [[ 55,  67,  57, ...,  82,  62,  50],\n",
       "        [ 67,  65, 103, ...,  94,  62,  65],\n",
       "        [ 61, 118, 152, ..., 102,  76,  88],\n",
       "        ...,\n",
       "        [ 66,  66,  93, ..., 106, 109, 132],\n",
       "        [ 83,  73,  85, ...,  77,  73, 127],\n",
       "        [ 54,  87,  63, ...,  55, 119, 120]]], dtype=int16)"
      ]
     },
     "execution_count": 40,
     "metadata": {},
     "output_type": "execute_result"
    }
   ],
   "source": [
    "volume"
   ]
  },
  {
   "cell_type": "code",
   "execution_count": 48,
   "metadata": {},
   "outputs": [
    {
     "data": {
      "text/plain": [
       "array([[[    98,    113,    102, ...,    163,    -36,    -20],\n",
       "        [   103,    107,    122, ...,    135,     72,    -65],\n",
       "        [    98,     85,    111, ...,     43,    206,    -58],\n",
       "        ...,\n",
       "        [  4314,   2233,    125, ...,  -1742,  -4627,  -7539],\n",
       "        [  7096,   4999,   2875, ...,    576,  -2324,  -5252],\n",
       "        [  9906,   7793,   5653, ...,   2922,      6,  -2939]],\n",
       "\n",
       "       [[   117,     86,    107, ...,    108,    104,    195],\n",
       "        [    79,     86,     90, ...,    135,     97,    138],\n",
       "        [   107,     88,     97, ...,    185,     90,     86],\n",
       "        ...,\n",
       "        [-25894, -24550, -23187, ...,  20480,  22351,  24241],\n",
       "        [-27743, -26388, -25015, ...,  18935,  20818,  22718],\n",
       "        [-29610, -28245, -26861, ...,  17373,  19266,  21177]],\n",
       "\n",
       "       [[   105,    116,     95, ...,     43,     86,     -5],\n",
       "        [   106,    117,    108, ...,     41,     47,     36],\n",
       "        [    96,    108,     95, ...,     58,      2,     60],\n",
       "        ...,\n",
       "        [-11028,  -8849,  -6639, ...,  -1395,   1638,   4702],\n",
       "        [-13966, -11769,  -9543, ...,  -3840,   -789,   2291],\n",
       "        [-16934, -14720, -12477, ...,  -6314,  -3247,   -150]],\n",
       "\n",
       "       ...,\n",
       "\n",
       "       [[  1229,    221,   1592, ...,   5517,  -5278,  11153],\n",
       "        [  -661,   -734,   1003, ...,   5252,   1176,   1010],\n",
       "        [ -1430,   -330,    154, ...,   2069,   9090,  -5401],\n",
       "        ...,\n",
       "        [-18171,  10333, -31603, ...,  -3043,  14308,  26755],\n",
       "        [ 12811, -27052,  -6284, ...,  11361,  25881, -30039],\n",
       "        [-16839,   6002,  23939, ...,  30669, -23178, -16394]],\n",
       "\n",
       "       [[  1241,    222,   1607, ...,   5573,  -5332,  11269],\n",
       "        [  -669,   -742,   1013, ...,   5305,   1188,   1021],\n",
       "        [ -1446,   -335,    155, ...,   2089,   9184,  -5456],\n",
       "        ...,\n",
       "        [ 32201,  -8630,  11119, ..., -18073,  -6003,   1112],\n",
       "        [  2749,  24593, -24055, ...,    578,   9787,  14041],\n",
       "        [-21747,  -2765,  11263, ...,  24185,  30533,  31926]],\n",
       "\n",
       "       [[  1253,    224,   1623, ...,   5630,  -5387,  11385],\n",
       "        [  -676,   -751,   1022, ...,   5359,   1200,   1032],\n",
       "        [ -1462,   -339,    156, ...,   2109,   9277,  -5512],\n",
       "        ...,\n",
       "        [ 17038, -27593, -11695, ...,  32434, -26313, -24531],\n",
       "        [ -7312,  10702,  23710, ..., -10204,  -6306,  -7414],\n",
       "        [-26655, -11531,  -1414, ...,  17700,  18708,  14709]]],\n",
       "      dtype=int16)"
      ]
     },
     "execution_count": 48,
     "metadata": {},
     "output_type": "execute_result"
    }
   ],
   "source": [
    "warped_volume"
   ]
  },
  {
   "cell_type": "code",
   "execution_count": 41,
   "metadata": {},
   "outputs": [
    {
     "data": {
      "text/plain": [
       "Text(0.5, 1.0, 'Rescaled')"
      ]
     },
     "execution_count": 41,
     "metadata": {},
     "output_type": "execute_result"
    },
    {
     "data": {
      "image/png": "[encoded data removed]",
      "text/plain": [
       "<Figure size 1000x500 with 2 Axes>"
      ]
     },
     "metadata": {},
     "output_type": "display_data"
    },
    {
     "name": "stderr",
     "output_type": "stream",
     "text": [
      "Bad pipe message: %s [b'P\\x124=\\xc4b\\xb3t\\xd3S\\xf2\\x0fE2p\\xc5Q\\xfd \\xa1B\\x86n\\xc6\\xeb\"\\x89\\xd7jK\\x82v\\x84.\\x97\\xeb\\xd8\\xee\\x99L\\x86ks\\x88L\\xa6\\xcfX\\xdb\\xd6w\\x00\\x08\\x13\\x02\\x13\\x03\\x13\\x01\\x00\\xff\\x01\\x00\\x00\\x8f\\x00\\x00\\x00\\x0e\\x00\\x0c\\x00\\x00\\t127.0.0.1\\x00\\x0b\\x00\\x04\\x03\\x00\\x01\\x02\\x00\\n\\x00\\x0c\\x00\\n\\x00\\x1d\\x00\\x17\\x00\\x1e\\x00\\x19\\x00\\x18\\x00#\\x00\\x00\\x00\\x16\\x00\\x00\\x00\\x17\\x00\\x00\\x00\\r\\x00\\x1e\\x00\\x1c\\x04\\x03\\x05\\x03\\x06\\x03\\x08\\x07\\x08\\x08\\x08\\t\\x08\\n\\x08\\x0b\\x08\\x04\\x08\\x05\\x08\\x06\\x04\\x01\\x05\\x01']\n",
      "Bad pipe message: %s [b'\\x00+\\x00\\x03\\x02', b'\\x00-']\n",
      "Bad pipe message: %s [b'\\xa0\\x19o\\x12?\\xe0\\x9eb\\xad\\x12\\x08\\x06=\\xff\\xcf\\x0f\\xdf\\x97 \\x12\\\\\\xb9I\\x1cr\\x16@\\x90\\xcf\\xae\\xc7>\\xa6d<\\x03\\xd8\\x1c\\xfd\\r\\x156\\xb6nj\\xa3\\xf3\\xcd\\x07Hh\\x00\\x08\\x13\\x02\\x13\\x03\\x13\\x01\\x00\\xff\\x01\\x00\\x00\\x8f\\x00\\x00\\x00\\x0e\\x00\\x0c\\x00\\x00\\t127.0.0.1\\x00\\x0b\\x00\\x04\\x03\\x00\\x01\\x02\\x00\\n\\x00\\x0c\\x00\\n\\x00\\x1d\\x00\\x17\\x00\\x1e\\x00\\x19\\x00\\x18\\x00#\\x00\\x00\\x00\\x16\\x00\\x00\\x00\\x17\\x00\\x00\\x00\\r\\x00\\x1e\\x00\\x1c\\x04\\x03\\x05\\x03\\x06\\x03\\x08\\x07\\x08\\x08\\x08\\t\\x08\\n\\x08\\x0b\\x08\\x04\\x08\\x05\\x08\\x06\\x04\\x01\\x05\\x01\\x06\\x01\\x00+\\x00\\x03\\x02\\x03\\x04\\x00-\\x00\\x02\\x01\\x01\\x003\\x00&\\x00$\\x00\\x1d\\x00 -\\xc3\\xbf\\x92\\xff\\x1b\\x8e\\xb9\\xce']\n",
      "Bad pipe message: %s [b\"\\xe5\\x7fA\\xc9r\\x1b\\xb7[\\xb3\\x12lc\\xcbY\\xea\\x93\\xb0W\\x00\\x00|\\xc0,\\xc00\\x00\\xa3\\x00\\x9f\\xcc\\xa9\\xcc\\xa8\\xcc\\xaa\\xc0\\xaf\\xc0\\xad\\xc0\\xa3\\xc0\\x9f\\xc0]\\xc0a\\xc0W\\xc0S\\xc0+\\xc0/\\x00\\xa2\\x00\\x9e\\xc0\\xae\\xc0\\xac\\xc0\\xa2\\xc0\\x9e\\xc0\\\\\\xc0`\\xc0V\\xc0R\\xc0$\\xc0(\\x00k\\x00j\\xc0#\\xc0'\\x00g\\x00@\\xc0\\n\\xc0\\x14\\x009\\x008\\xc0\\t\\xc0\\x13\\x003\\x002\\x00\\x9d\\xc0\\xa1\\xc0\\x9d\\xc0Q\\x00\\x9c\\xc0\\xa0\\xc0\\x9c\\xc0P\\x00=\\x00<\\x005\\x00/\\x00\\x9a\\x00\"]\n",
      "Bad pipe message: %s [b'\\xe8\\xb3ED\\xbe&\\xb4\\xbd\\xf6qD\\x0e\\xcc\\xd0S\\xe2\\x10\\x1b\\x00\\x00\\xa2\\xc0\\x14\\xc0\\n\\x009\\x008\\x007\\x006\\x00\\x88\\x00\\x87\\x00\\x86\\x00\\x85\\xc0\\x19\\x00:\\x00\\x89\\xc0\\x0f\\xc0', b'5\\x00\\x84\\xc0']\n",
      "Bad pipe message: %s [b'D\\xa0QN\\xaf<B\\x99\\xd0*g[\\xc6\\xa88\\x1e\\xb6\\xa2\\x00\\x00>\\xc0\\x14\\xc0\\n\\x009\\x008\\x007\\x006\\xc0\\x0f\\xc0\\x05\\x005\\xc0\\x13\\xc0\\t\\x003\\x002\\x001\\x000\\xc0\\x0e\\xc0\\x04\\x00/\\x00\\x9a\\x00\\x99\\x00\\x98\\x00\\x97\\x00\\x96\\x00\\x07\\xc0\\x11\\xc0\\x07\\xc0\\x0c\\xc0\\x02\\x00\\x05']\n",
      "Bad pipe message: %s [b'\\t\\x003\\x002\\x001\\x000\\x00\\x9a\\x00\\x99\\x00\\x98\\x00\\x97\\x00']\n",
      "Bad pipe message: %s [b'D\\x00C\\x00B\\xc0\\x18\\x004\\x00\\x9b\\x00F\\xc0\\x0e\\xc0\\x04\\x00/\\x00\\x96\\x00A\\x00\\x07\\xc0\\x11\\xc0\\x07\\xc0\\x16\\x00\\x18\\xc0\\x0c\\xc0\\x02\\x00\\x05\\x00\\x04\\xc0\\x12\\xc0\\x08\\x00\\x16\\x00\\x13\\x00\\x10\\x00\\r\\xc0\\x17\\x00\\x1b\\xc0\\r\\xc0\\x03\\x00\\n\\x00\\x15\\x00\\x12\\x00']\n",
      "Bad pipe message: %s [b'\\x0c\\x00\\x1a\\x00\\t\\x00\\x14\\x00\\x11\\x00\\x19\\x00\\x08\\x00']\n",
      "Bad pipe message: %s [b'\\x17\\x00\\x03\\xc0\\x10']\n",
      "Bad pipe message: %s [b'.\\xa7\\x17g\\xbb\\r\\x07\\x0c!\\xd8Ii,\\xa1-\\xdc^\\xc5\\x00\\x00>\\xc0\\x14\\xc0\\n\\x009\\x008\\x007\\x006\\xc0\\x0f\\xc0\\x05\\x005\\xc0\\x13\\xc0\\t\\x003\\x002\\x001\\x000\\xc0\\x0e\\xc0\\x04\\x00/\\x00\\x9a\\x00\\x99\\x00\\x98\\x00\\x97\\x00\\x96\\x00\\x07\\xc0\\x11\\xc0\\x07\\xc0\\x0c\\xc0\\x02\\x00\\x05\\x00\\x04\\x00\\xff\\x02\\x01\\x00\\x15\\x03\\x00\\x00\\x02']\n",
      "Bad pipe message: %s [b'\\x9a(\\x8e\\xb0^\\x96\\xe3\\x10\\x91\\xd11\\\\\\xa0\\x12\\xd7\\xad\\n\\xa0\\x00\\x00\\xa2\\xc0\\x14\\xc0\\n\\x009\\x008\\x007\\x006\\x00\\x88\\x00\\x87\\x00\\x86\\x00\\x85\\xc0\\x19\\x00:\\x00\\x89\\xc0\\x0f\\xc0\\x05\\x005\\x00\\x84\\xc0\\x13\\xc0\\t\\x003\\x002\\x001\\x000\\x00\\x9a\\x00\\x99\\x00\\x98\\x00\\x97\\x00E\\x00D\\x00C\\x00B\\xc0\\x18\\x004\\x00\\x9b\\x00F\\xc0\\x0e\\xc0\\x04\\x00/\\x00\\x96\\x00A\\x00\\x07\\xc0\\x11\\xc0\\x07\\xc0\\x16\\x00\\x18\\xc0\\x0c\\xc0\\x02\\x00\\x05\\x00\\x04\\xc0\\x12\\xc0\\x08\\x00\\x16\\x00\\x13\\x00\\x10\\x00\\r\\xc0\\x17\\x00\\x1b\\xc0\\r\\xc0\\x03\\x00\\n\\x00\\x15\\x00\\x12\\x00\\x0f\\x00\\x0c']\n",
      "Bad pipe message: %s [b\"\\x1e\\x9eu:\\xf4xwE\\x93!\\x05\\xb8\\xf8u\\x9a\\x16\\xa1\\x9d\\x00\\x00\\x86\\xc00\\xc0,\\xc0(\\xc0$\\xc0\\x14\\xc0\\n\\x00\\xa5\\x00\\xa3\\x00\\xa1\\x00\\x9f\\x00k\\x00j\\x00i\\x00h\\x009\\x008\\x007\\x006\\xc02\\xc0.\\xc0*\\xc0&\\xc0\\x0f\\xc0\\x05\\x00\\x9d\\x00=\\x005\\xc0/\\xc0+\\xc0'\\xc0#\\xc0\\x13\\xc0\\t\\x00\\xa4\\x00\\xa2\\x00\\xa0\\x00\\x9e\\x00g\\x00@\\x00?\\x00>\\x003\\x002\\x001\\x000\\xc01\\xc0-\\xc0)\\xc0%\\xc0\\x0e\\xc0\\x04\\x00\\x9c\\x00<\\x00/\\x00\\x9a\\x00\\x99\\x00\\x98\\x00\\x97\\x00\\x96\\x00\\x07\\xc0\\x11\\xc0\\x07\\xc0\\x0c\\xc0\\x02\\x00\\x05\\x00\\x04\\x00\\xff\\x02\\x01\\x00\\x00g\\x00\\x00\\x00\\x0e\\x00\\x0c\\x00\\x00\\t127.0.0.1\\x00\\x0b\\x00\\x04\\x03\\x00\\x01\\x02\\x00\\n\\x00\\x1c\\x00\\x1a\\x00\\x17\\x00\\x19\\x00\\x1c\\x00\\x1b\\x00\\x18\\x00\\x1a\\x00\\x16\\x00\\x0e\\x00\\r\\x00\\x0b\\x00\\x0c\\x00\\t\\x00\\n\\x00\", b'\\x00\\x00\\r\\x00 \\x00\\x1e\\x06\\x01\\x06\\x02\\x06\\x03\\x05\\x01\\x05\\x02\\x05\\x03\\x04\\x01\\x04\\x02\\x04\\x03\\x03\\x01\\x03\\x02\\x03\\x03\\x02\\x01\\x02']\n",
      "Bad pipe message: %s [b'\\x03']\n",
      "Bad pipe message: %s [b'_\\x02\\xd0}\\x1e\\x11S\\x93H\\x02L\\xde\\x80\\x16\\x1c\\xe1\\x05\\xb8\\x00\\x00\\xf4\\xc00\\xc0,\\xc0(\\xc0$\\xc0\\x14\\xc0\\n\\x00\\xa5\\x00\\xa3\\x00\\xa1\\x00\\x9f\\x00k\\x00j\\x00i\\x00h\\x009\\x008\\x007\\x006\\x00\\x88\\x00\\x87\\x00\\x86\\x00\\x85\\xc0\\x19\\x00\\xa7\\x00m\\x00:\\x00\\x89\\xc02\\xc0.\\xc0*\\xc0&\\xc0\\x0f\\xc0\\x05\\x00\\x9d\\x00=\\x00']\n",
      "Bad pipe message: %s [b\"\\x84\\xc0/\\xc0+\\xc0'\\xc0#\\xc0\\x13\\xc0\\t\\x00\\xa4\\x00\\xa2\\x00\\xa0\\x00\\x9e\\x00g\\x00@\\x00?\\x00>\\x003\\x002\\x001\\x000\\x00\\x9a\\x00\\x99\\x00\\x98\\x00\\x97\\x00E\\x00D\\x00C\\x00\"]\n",
      "Bad pipe message: %s [b'\\x18\\x00\\xa6\\x00l\\x004\\x00\\x9b\\x00F\\xc01\\xc0-\\xc0)\\xc0%\\xc0\\x0e\\xc0\\x04\\x00\\x9c\\x00<\\x00/\\x00\\x96\\x00A\\x00\\x07\\xc0\\x11\\xc0\\x07\\xc0\\x16\\x00\\x18\\xc0\\x0c\\xc0\\x02\\x00\\x05\\x00\\x04\\xc0\\x12\\xc0\\x08\\x00\\x16\\x00\\x13\\x00\\x10\\x00\\r\\xc0\\x17']\n"
     ]
    }
   ],
   "source": [
    "import matplotlib.pyplot as plt\n",
    "# Visualize example slices\n",
    "fig, (ax1, ax2) = plt.subplots(1, 2, figsize=(10, 5))\n",
    "ax1.imshow(volume[:,:,31], cmap='gray')\n",
    "ax1.set_title('Original')\n",
    "ax2.imshow(new_vol[:,:,31], cmap='gray')\n",
    "ax2.set_title('Rescaled')"
   ]
  },
  {
   "cell_type": "code",
   "execution_count": null,
   "metadata": {},
   "outputs": [],
   "source": []
  },
  {
   "cell_type": "code",
   "execution_count": 24,
   "metadata": {},
   "outputs": [
    {
     "data": {
      "text/plain": [
       "(524288, 1, 3)"
      ]
     },
     "execution_count": 24,
     "metadata": {},
     "output_type": "execute_result"
    }
   ],
   "source": [
    "warped_image_coords = np.array(warped_image_coords)\n",
    "warped_image_coords.shape"
   ]
  },
  {
   "cell_type": "code",
   "execution_count": 36,
   "metadata": {},
   "outputs": [
    {
     "ename": "ValueError",
     "evalue": "cannot reshape array of size 1572864 into shape (100,100,100)",
     "output_type": "error",
     "traceback": [
      "\u001b[0;31m---------------------------------------------------------------------------\u001b[0m",
      "\u001b[0;31mValueError\u001b[0m                                Traceback (most recent call last)",
      "Cell \u001b[0;32mIn[36], line 1\u001b[0m\n\u001b[0;32m----> 1\u001b[0m warped_image_coords\u001b[39m.\u001b[39;49mreshape(\u001b[39m100\u001b[39;49m, \u001b[39m100\u001b[39;49m, \u001b[39m100\u001b[39;49m)\n",
      "\u001b[0;31mValueError\u001b[0m: cannot reshape array of size 1572864 into shape (100,100,100)"
     ]
    }
   ],
   "source": [
    "warped_image_coords"
   ]
  },
  {
   "cell_type": "code",
   "execution_count": 8,
   "metadata": {},
   "outputs": [
    {
     "ename": "ValueError",
     "evalue": "diff requires input that is at least one dimensional",
     "output_type": "error",
     "traceback": [
      "\u001b[0;31m---------------------------------------------------------------------------\u001b[0m",
      "\u001b[0;31mValueError\u001b[0m                                Traceback (most recent call last)",
      "Cell \u001b[0;32mIn[8], line 2\u001b[0m\n\u001b[1;32m      1\u001b[0m \u001b[39m# Warped image volume\u001b[39;00m\n\u001b[0;32m----> 2\u001b[0m warped_volume \u001b[39m=\u001b[39m rigid_transform\u001b[39m.\u001b[39;49mwarp(volume)\n",
      "Cell \u001b[0;32mIn[4], line 70\u001b[0m, in \u001b[0;36mRigidTransform.warp\u001b[0;34m(self, volume)\u001b[0m\n\u001b[1;32m     67\u001b[0m             new_x, new_y, new_z \u001b[39m=\u001b[39m np\u001b[39m.\u001b[39mmatmul(\u001b[39mself\u001b[39m\u001b[39m.\u001b[39mrot_vec, np\u001b[39m.\u001b[39marray([x, y, z])) \u001b[39m+\u001b[39m \u001b[39mself\u001b[39m\u001b[39m.\u001b[39mtrans_vec\n\u001b[1;32m     69\u001b[0m             \u001b[39m# Resample intensity values at the new coordinates\u001b[39;00m\n\u001b[0;32m---> 70\u001b[0m             warped_volume[x, y, z] \u001b[39m=\u001b[39m interpn(np\u001b[39m.\u001b[39;49marray([x, y, z], ), volume, np\u001b[39m.\u001b[39;49marray((new_x, new_y, new_z),), method \u001b[39m=\u001b[39;49m \u001b[39m'\u001b[39;49m\u001b[39mlinear\u001b[39;49m\u001b[39m'\u001b[39;49m, bounds_error \u001b[39m=\u001b[39;49m \u001b[39mFalse\u001b[39;49;00m, fill_value \u001b[39m=\u001b[39;49m \u001b[39mNone\u001b[39;49;00m)\n\u001b[1;32m     71\u001b[0m             \u001b[39m#warped_volume[x, y, z] = volume[new_x, new_y, new_z]\u001b[39;00m\n\u001b[1;32m     73\u001b[0m \u001b[39mreturn\u001b[39;00m warped_volume\n",
      "File \u001b[0;32m~/.local/lib/python3.10/site-packages/scipy/interpolate/_rgi.py:557\u001b[0m, in \u001b[0;36minterpn\u001b[0;34m(points, values, xi, method, bounds_error, fill_value)\u001b[0m\n\u001b[1;32m    555\u001b[0m \u001b[39m# sanity check input grid\u001b[39;00m\n\u001b[1;32m    556\u001b[0m \u001b[39mfor\u001b[39;00m i, p \u001b[39min\u001b[39;00m \u001b[39menumerate\u001b[39m(points):\n\u001b[0;32m--> 557\u001b[0m     diff_p \u001b[39m=\u001b[39m np\u001b[39m.\u001b[39;49mdiff(p)\n\u001b[1;32m    558\u001b[0m     \u001b[39mif\u001b[39;00m \u001b[39mnot\u001b[39;00m np\u001b[39m.\u001b[39mall(diff_p \u001b[39m>\u001b[39m \u001b[39m0.\u001b[39m):\n\u001b[1;32m    559\u001b[0m         \u001b[39mif\u001b[39;00m np\u001b[39m.\u001b[39mall(diff_p \u001b[39m<\u001b[39m \u001b[39m0.\u001b[39m):\n\u001b[1;32m    560\u001b[0m             \u001b[39m# input is descending, so make it ascending\u001b[39;00m\n",
      "File \u001b[0;32m<__array_function__ internals>:180\u001b[0m, in \u001b[0;36mdiff\u001b[0;34m(*args, **kwargs)\u001b[0m\n",
      "File \u001b[0;32m/usr/local/lib/python3.10/dist-packages/numpy/lib/function_base.py:1413\u001b[0m, in \u001b[0;36mdiff\u001b[0;34m(a, n, axis, prepend, append)\u001b[0m\n\u001b[1;32m   1411\u001b[0m nd \u001b[39m=\u001b[39m a\u001b[39m.\u001b[39mndim\n\u001b[1;32m   1412\u001b[0m \u001b[39mif\u001b[39;00m nd \u001b[39m==\u001b[39m \u001b[39m0\u001b[39m:\n\u001b[0;32m-> 1413\u001b[0m     \u001b[39mraise\u001b[39;00m \u001b[39mValueError\u001b[39;00m(\u001b[39m\"\u001b[39m\u001b[39mdiff requires input that is at least one dimensional\u001b[39m\u001b[39m\"\u001b[39m)\n\u001b[1;32m   1414\u001b[0m axis \u001b[39m=\u001b[39m normalize_axis_index(axis, nd)\n\u001b[1;32m   1416\u001b[0m combined \u001b[39m=\u001b[39m []\n",
      "\u001b[0;31mValueError\u001b[0m: diff requires input that is at least one dimensional"
     ]
    }
   ],
   "source": [
    "# Warped image volume\n",
    "warped_volume = rigid_transform.warp(volume)"
   ]
  },
  {
   "cell_type": "code",
   "execution_count": 17,
   "metadata": {},
   "outputs": [
    {
     "data": {
      "text/plain": [
       "(100, 100, 100, 3)"
      ]
     },
     "execution_count": 17,
     "metadata": {},
     "output_type": "execute_result"
    }
   ],
   "source": [
    "rigid_transform.ddf.shape"
   ]
  },
  {
   "cell_type": "code",
   "execution_count": null,
   "metadata": {},
   "outputs": [],
   "source": [
    "# from scipy.interpolate import interpn\n",
    "# class RigidTransform:\n",
    "\n",
    "#     # Initialize class\n",
    "#     def __init__(self, rotations, translations, warped_image_size):\n",
    "#         self.rx = rotations[0]\n",
    "#         self.ry = rotations[1]\n",
    "#         self.rz = rotations[2]\n",
    "#         self.tx = translations[0]\n",
    "#         self.ty = translations[1]\n",
    "#         self.tz = translations[2]\n",
    "#         self.compute_ddf = lambda: None\n",
    "#         self.warped_image_size_x = warped_image_size[0]\n",
    "#         self.warped_image_size_y = warped_image_size[1]\n",
    "#         self.warped_image_size_z = warped_image_size[2]\n",
    "\n",
    "#         # Precompute rotation matrices around the X, Y, and Z axis\n",
    "#         rot_x = np.array([[1, 0, 0],\n",
    "#                                  [0, np.cos(self.rx), -np.sin(self.rx)],\n",
    "#                                  [0, np.sin(self.rx), np.cos(self.rx)]])\n",
    "                                 \n",
    "#         rot_y = np.array([[np.cos(self.ry), 0, np.sin(self.ry)],\n",
    "#                                 [0, 1, 0],\n",
    "#                                 [-np.sin(self.ry), 0, np.cos(self.ry)]])\n",
    "\n",
    "#         rot_z = np.array([[np.cos(self.rz), -np.sin(self.rz), 0],\n",
    "#                                 [np.sin(self.rz), np.cos(self.rz), 0],\n",
    "#                                 [0, 0, 1]])\n",
    "\n",
    "#         # Compose rotation matrix from yaw, pitch, and roll \n",
    "#         # Correct order is Z, Y, X\n",
    "#         self.rot_vec = np.matmul(rot_z, np.matmul(rot_y, rot_x))\n",
    "\n",
    "#         # Compose translation vector\n",
    "#         self.trans_vec = np.array([self.tx, self.ty, self.tz])\n",
    "\n",
    "#         # Precompute the dense displacement field DDF\n",
    "#         #self.ddf = self.compute_ddf((self.warped_image_size_x, self.warped_image_size_y, self.warped_image_size_z))\n",
    "#     def __call__(self, warped_image_size):\n",
    "#         self.compute_ddf(warped_image_size)\n",
    "\n",
    "#     # Implement a class member function compute_ddf that computes displacement vector\n",
    "#     # this code takes a point in the warped image,\n",
    "#     # undo the translation by subtracting the translation vector from the point,\n",
    "#     # then undo the rotation by applying the inverse rotation matrix, \n",
    "#     # and the result is the displacement vector from the warped image to the original image\n",
    "#     #  at that voxel location.\n",
    "#     def compute_ddf(self, warped_image_size):\n",
    "#         # Compute displacement vector\n",
    "#         self.warped_image_size_x, self.warped_image_size_y, self.warped_image_size_z = warped_image_size\n",
    "#             # Pre-allocate displacement vector\n",
    "#         self.ddf = np.zeros((self.warped_image_size_x, self.warped_image_size_y, self.warped_image_size_z, 3))\n",
    "\n",
    "#         for x in range(self.warped_image_size_x):\n",
    "#             for y in range(self.warped_image_size_y):\n",
    "#                 for z in range(self.warped_image_size_z):\n",
    "#                     # Compute displacement vector at each voxel\n",
    "#                     self.ddf[x, y, z, :] = np.matmul(np.linalg.inv(self.rot_vec), np.array([x, y, z]) - self.trans_vec)\n",
    "\n",
    "\n",
    "#     # Implement a class member function warp that returns a warped image volume in a Numpy Array\n",
    "#     def warp(self, volume):\n",
    "#         # Pre-allocate warped volume\n",
    "#         warped_volume = np.zeros_like(volume)\n",
    "#         for x in range(volume.shape[0]):\n",
    "#             for y in range(volume.shape[1]):\n",
    "#                 for z in range(volume.shape[2]):\n",
    "#                     # Compute new voxle coordinates in the warped image\n",
    "#                     new_x, new_y, new_z = np.matmul(self.rot_vec, np.array([x, y, z])) + self.trans_vec\n",
    "\n",
    "#                     # Resample intensity values at the new coordinates\n",
    "#                     warped_volume[x, y, z] = interpn(np.array([x, y, z], ), volume, np.array((new_x, new_y, new_z),), method = 'linear', bounds_error = False, fill_value = None)\n",
    "#                     #warped_volume[x, y, z] = volume[new_x, new_y, new_z]\n",
    "\n",
    "#         return warped_volume\n",
    "\n",
    "#     # Implement a class member function compose which represents a combination of two transforms\n",
    "#     def compose(self, rotations2, translations2):\n",
    "#         # Compute the combined rotation matrix\n",
    "#         rot_x2 = np.array([[1, 0, 0],\n",
    "#                             [0, np.cos(rotations2[0]), -np.sin(rotations2[0])],\n",
    "#                             [0, np.sin(rotations2[0]), np.cos(rotations2[0])]])\n",
    "\n",
    "#         rot_y2 = np.array([[np.cos(rotations2[1]), 0, np.sin(rotations2[1])],\n",
    "#                             [0, 1, 0],\n",
    "#                             [-np.sin(rotations2[1]), 0, np.cos(rotations2[1])]])\n",
    "\n",
    "#         rot_z2 = np.array([[np.cos(rotations2[2]), -np.sin(rotations2[2]), 0],\n",
    "#                             [np.sin(rotations2[2]), np.cos(rotations2[2]), 0],\n",
    "#                             [0, 0, 1]])\n",
    "\n",
    "#         # Compose rotation matrix from yaw, pitch, and roll \n",
    "#         # Correct order is Z, Y, X\n",
    "#         rot_vec2 = np.matmul(rot_z2, np.matmul(rot_y2, rot_x2))\n",
    "#         R_composed = np.matmul(self.rot_vec, rot_vec2)\n",
    "\n",
    "        \n",
    "#         # Compute the combined translation vector\n",
    "#         #T_composed = np.matmul(self.rot_vec, np.array(translations2)) + self.trans_vec\n",
    "#         T_composed = np.matmul(self.rot_vec, self.trans_vec) + np.array(translations2)\n",
    "\n",
    "#         # Create a new RigidTransform object with the composed transformations\n",
    "#         composed_transform = RigidTransform(R_composed, T_composed)\n",
    "\n",
    "#         # Update the displacement field\n",
    "#         composed_transform.compute_ddf((self.warped_image_size_x, self.warped_image_size_y, self.warped_image_size_z))\n",
    "\n",
    "#         return composed_transform\n",
    "        \n",
    "        \n",
    "                    "
   ]
  }
 ],
 "metadata": {
  "kernelspec": {
   "display_name": "Python 3",
   "language": "python",
   "name": "python3"
  },
  "language_info": {
   "codemirror_mode": {
    "name": "ipython",
    "version": 3
   },
   "file_extension": ".py",
   "mimetype": "text/x-python",
   "name": "python",
   "nbconvert_exporter": "python",
   "pygments_lexer": "ipython3",
   "version": "3.10.6"
  },
  "orig_nbformat": 4,
  "vscode": {
   "interpreter": {
    "hash": "916dbcbb3f70747c44a77c7bcd40155683ae19c65e1c03b4aa3499c5328201f1"
   }
  }
 },
 "nbformat": 4,
 "nbformat_minor": 2
}
