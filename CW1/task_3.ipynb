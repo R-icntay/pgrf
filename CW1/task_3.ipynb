{
 "cells": [
  {
   "attachments": {},
   "cell_type": "markdown",
   "metadata": {},
   "source": [
    "## Task 3: Warping images by composing rigid transformations"
   ]
  },
  {
   "attachments": {},
   "cell_type": "markdown",
   "metadata": {},
   "source": [
    "Implement a class RigidTransform which should specify a 3D rigid transformation which can wrap 3D image volumes. All units should be in voxel\n",
    "\n",
    "- A class __init__ function which takes a set of 6 rigid transformations parameters, as input. Precompute a rotation matrix and a translation vector and stored in the returned class object."
   ]
  },
  {
   "cell_type": "code",
   "execution_count": 1,
   "metadata": {},
   "outputs": [],
   "source": [
    "import numpy as np"
   ]
  },
  {
   "cell_type": "code",
   "execution_count": 3,
   "metadata": {},
   "outputs": [],
   "source": [
    "class RigidTransform:\n",
    "\n",
    "    # Initialize class\n",
    "    def __init__(self, rotations, translations):\n",
    "        self.rx = rotations[0]\n",
    "        self.ry = rotations[1]\n",
    "        self.rz = rotations[2]\n",
    "        self.tx = translations[0]\n",
    "        self.ty = translations[1]\n",
    "        self.tz = translations[2]\n",
    "\n",
    "        # Precompute rotation matrices around the X, Y, and Z axis\n",
    "        rot_x = np.array([[1, 0, 0],\n",
    "                                 [0, np.cos(self.rx), -np.sin(self.rx)],\n",
    "                                 [0, np.sin(self.rx), np.cos(self.rx)]])\n",
    "                                 \n",
    "        rot_y = np.array([[np.cos(self.ry), 0, np.sin(self.ry)],\n",
    "                                [0, 1, 0],\n",
    "                                [-np.sin(self.ry), 0, np.cos(self.ry)]])\n",
    "\n",
    "        rot_z = np.array([[np.cos(self.rz), -np.sin(self.rz), 0],\n",
    "                                [np.sin(self.rz), np.cos(self.rz), 0],\n",
    "                                [0, 0, 1]])\n",
    "\n",
    "        # Compose rotation matrix from yaw, pitch, and roll \n",
    "        # Correct order is Z, Y, X\n",
    "        self.rot_vec = np.matmul(rot_z, np.matmul(rot_y, rot_x))\n",
    "\n",
    "        # Compose translation vector\n",
    "        self.trans_vec = np.array([self.tx, self.ty, self.tz])\n",
    "        \n",
    "        "
   ]
  },
  {
   "cell_type": "code",
   "execution_count": null,
   "metadata": {},
   "outputs": [],
   "source": [
    "import numpy as np\n",
    "\n",
    "class RigidTransform:\n",
    "    def __init__(self, rx, ry, rz, tx, ty, tz):\n",
    "        self.rx = rx\n",
    "        self.ry = ry\n",
    "        self.rz = rz\n",
    "        self.tx = tx\n",
    "        self.ty = ty\n",
    "        self.tz = tz\n",
    "        \n",
    "        # Precompute rotation matrix\n",
    "        R_x = np.array([[1, 0, 0],\n",
    "                        [0, np.cos(rx), -np.sin(rx)],\n",
    "                        [0, np.sin(rx), np.cos(rx)]])\n",
    "        R_y = np.array([[np.cos(ry), 0, np.sin(ry)],\n",
    "                        [0, 1, 0],\n",
    "                        [-np.sin(ry), 0, np.cos(ry)]])\n",
    "        R_z = np.array([[np.cos(rz), -np.sin(rz), 0],\n",
    "                        [np.sin(rz), np.cos(rz), 0],\n",
    "                        [0, 0, 1]])\n",
    "        self.R = np.matmul(R_z, np.matmul(R_y, R_x))\n",
    "        \n",
    "        # Precompute translation vector\n",
    "        self.T = np.array([tx, ty, tz])\n",
    "        \n",
    "    def apply(self, volume):\n",
    "        # Apply rotation and translation to the input volume\n",
    "        return np.matmul(volume, self.R) + self.T\n"
   ]
  },
  {
   "attachments": {},
   "cell_type": "markdown",
   "metadata": {},
   "source": [
    "We are computing three separate rotation matrices (R_x, R_y, R_z) to represent the rotations around the x, y, and z axes, respectively. Each rotation matrix is responsible for a single rotation, and the final rotation matrix R is computed by multiplying the three rotation matrices in a specific order (R_zR_yR_x). This is known as the \"Z-Y-X Euler angle convention\", which means we rotate around the z-axis first, then the y-axis, and finally the x-axis.\n",
    "\n",
    "This is a common way to represent a 3D rotation, where multiple rotations around different axes are combined into a single rotation matrix. By decomposing the rotation into three separate rotations, it becomes easier to specify the rotations in a more intuitive way, and it allows for more flexibility when applying the rotations.\n",
    "\n",
    "In other words, the order of the rotations is important, and each rotation matrix is a representation of a rotation around a certain axis (x,y,z) and that is the reason we are computing three rotation matrixes.\n",
    "\n",
    "The translation vector is computed by simply creating a 1-D array of the translation parameters tx, ty, and tz.\n",
    "This vector is added to every point of the image volume after the rotation matrix has been applied.\n",
    "\n",
    "The translation vector is simply the array [tx, ty, tz], which represents the translation along the x, y, and z axes, respectively in voxels. This vector is added to the final output of the transformed volume, the idea is that it shifts the entire transformed volume by the specified amount.\n",
    "\n",
    "The translation vector is represented by a 1-D array because it is a vector quantity and it is a 1-D array because it only has one dimension and it is a vector of size 3(x,y,z) which corresponds to the 3D space."
   ]
  },
  {
   "attachments": {},
   "cell_type": "markdown",
   "metadata": {},
   "source": [
    "## Class member function compute ddf that defines a 3D displacement vector"
   ]
  },
  {
   "cell_type": "code",
   "execution_count": 2,
   "metadata": {},
   "outputs": [],
   "source": [
    "class RigidTransform:\n",
    "\n",
    "    # Initialize class\n",
    "    def __init__(self, rotations, translations):\n",
    "        self.rx = rotations[0]\n",
    "        self.ry = rotations[1]\n",
    "        self.rz = rotations[2]\n",
    "        self.tx = translations[0]\n",
    "        self.ty = translations[1]\n",
    "        self.tz = translations[2]\n",
    "\n",
    "        # Precompute rotation matrices around the X, Y, and Z axis\n",
    "        rot_x = np.array([[1, 0, 0],\n",
    "                                 [0, np.cos(self.rx), -np.sin(self.rx)],\n",
    "                                 [0, np.sin(self.rx), np.cos(self.rx)]])\n",
    "                                 \n",
    "        rot_y = np.array([[np.cos(self.ry), 0, np.sin(self.ry)],\n",
    "                                [0, 1, 0],\n",
    "                                [-np.sin(self.ry), 0, np.cos(self.ry)]])\n",
    "\n",
    "        rot_z = np.array([[np.cos(self.rz), -np.sin(self.rz), 0],\n",
    "                                [np.sin(self.rz), np.cos(self.rz), 0],\n",
    "                                [0, 0, 1]])\n",
    "\n",
    "        # Compose rotation matrix from yaw, pitch, and roll \n",
    "        # Correct order is Z, Y, X\n",
    "        self.rot_vec = np.matmul(rot_z, np.matmul(rot_y, rot_x))\n",
    "\n",
    "        # Compose translation vector\n",
    "        self.trans_vec = np.array([self.tx, self.ty, self.tz])\n",
    "\n",
    "        # Precompute the dense displacement field DDF\n",
    "        self.ddf = self.compute_ddf((self.warped_image_size_x, self.warped_image_size_y, self.warped_image_size_z))\n",
    "\n",
    "    # Implement a class member function compute_ddf that computes displacement vector\n",
    "    # this code takes a point in the warped image,\n",
    "    # undo the translation by subtracting the translation vector from the point,\n",
    "    # then undo the rotation by applying the inverse rotation matrix, \n",
    "    # and the result is the displacement vector from the warped image to the original image\n",
    "    #  at that voxel location.\n",
    "    def compute_ddf(self, warped_image_size):\n",
    "        # Compute displacement vector\n",
    "        self.warped_image_size_x, self.warped_image_size_y, self.warped_image_size_z = warped_image_size\n",
    "            # Pre-allocate displacement vector\n",
    "        self.ddf = np.zeros((self.warped_image_size_x, self.warped_image_size_y, self.warped_image_size_z, 3))\n",
    "\n",
    "        for x in range(self.warped_image_size_x):\n",
    "            for y in range(self.warped_image_size_y):\n",
    "                for z in range(self.warped_image_size_z):\n",
    "                    # Compute displacement vector at each voxel\n",
    "                    self.ddf[x, y, z, :] = np.matmul(np.linalg.inv(self.rot_vec), np.array([x, y, z]) - self.trans_vec)\n",
    "\n",
    "\n",
    "\n",
    "\n",
    "        \n",
    "        "
   ]
  },
  {
   "cell_type": "code",
   "execution_count": 3,
   "metadata": {},
   "outputs": [
    {
     "name": "stdout",
     "output_type": "stream",
     "text": [
      "1 2 3\n"
     ]
    }
   ],
   "source": [
    "a, b, c = (1, 2, 3); print(a, b, c)"
   ]
  },
  {
   "cell_type": "code",
   "execution_count": 2,
   "metadata": {},
   "outputs": [
    {
     "data": {
      "text/plain": [
       "array([[[[0., 0., 0.],\n",
       "         [0., 0., 0.],\n",
       "         [0., 0., 0.]],\n",
       "\n",
       "        [[0., 0., 0.],\n",
       "         [0., 0., 0.],\n",
       "         [0., 0., 0.]]]])"
      ]
     },
     "execution_count": 2,
     "metadata": {},
     "output_type": "execute_result"
    }
   ],
   "source": [
    "np.zeros((1, 2, 3, 3))"
   ]
  },
  {
   "attachments": {},
   "cell_type": "markdown",
   "metadata": {},
   "source": [
    "The image coordinate system used in the above function is the standard Cartesian coordinate system, in which the origin is located at the center of the image, the x-axis is oriented from left to right, the y-axis is oriented from top to bottom, and the z-axis is oriented from front to back. The unit used is voxel, which means that the distance between two adjacent voxels is 1 in all three dimensions (x, y, z).\n",
    "\n",
    "This coordinate system is consistent for both the warped image and the original image, meaning that the coordinates of the voxels in both images are defined in the same way. The origin of the coordinate system is located at the center of the image, which makes it easy to apply rotations and translations to the image while maintaining the same consistent coordinate system.\n",
    "\n",
    "The orientation of the axis is also consistent, meaning that the x-axis is oriented from left to right, the y-axis is oriented from top to bottom, and the z-axis is oriented from front to back in both images. This makes it easy to understand the displacement vectors computed by the DDF, as the displacement values along each axis correspond to the standard x, y, and z axes.\n",
    "\n",
    "In summary, the image coordinate system used in the above function is a standard Cartesian coordinate system with the origin located at the center of the image, the x-axis oriented from left to right, the y-axis oriented from top to bottom, and the z-axis oriented from front to back. The unit used is voxel, which is consistent for both the warped image and the original image."
   ]
  },
  {
   "attachments": {},
   "cell_type": "markdown",
   "metadata": {},
   "source": [
    "## Class member function warp which returns a warped image volume in a numpy array"
   ]
  },
  {
   "cell_type": "code",
   "execution_count": 13,
   "metadata": {},
   "outputs": [],
   "source": [
    "from scipy.interpolate import interpn\n",
    "class RigidTransform:\n",
    "\n",
    "    # Initialize class\n",
    "    def __init__(self, rotations, translations, warped_image_size):\n",
    "        self.rx = rotations[0]\n",
    "        self.ry = rotations[1]\n",
    "        self.rz = rotations[2]\n",
    "        self.tx = translations[0]\n",
    "        self.ty = translations[1]\n",
    "        self.tz = translations[2]\n",
    "        self.warped_image_size_x = warped_image_size[0]\n",
    "        self.warped_image_size_y = warped_image_size[1]\n",
    "        self.warped_image_size_z = warped_image_size[2]\n",
    "\n",
    "        # Precompute rotation matrices around the X, Y, and Z axis\n",
    "        rot_x = np.array([[1, 0, 0],\n",
    "                                 [0, np.cos(self.rx), -np.sin(self.rx)],\n",
    "                                 [0, np.sin(self.rx), np.cos(self.rx)]])\n",
    "                                 \n",
    "        rot_y = np.array([[np.cos(self.ry), 0, np.sin(self.ry)],\n",
    "                                [0, 1, 0],\n",
    "                                [-np.sin(self.ry), 0, np.cos(self.ry)]])\n",
    "\n",
    "        rot_z = np.array([[np.cos(self.rz), -np.sin(self.rz), 0],\n",
    "                                [np.sin(self.rz), np.cos(self.rz), 0],\n",
    "                                [0, 0, 1]])\n",
    "\n",
    "        # Compose rotation matrix from yaw, pitch, and roll \n",
    "        # Correct order is Z, Y, X\n",
    "        self.rot_vec = np.matmul(rot_z, np.matmul(rot_y, rot_x))\n",
    "\n",
    "        # Compose translation vector\n",
    "        self.trans_vec = np.array([self.tx, self.ty, self.tz])\n",
    "\n",
    "        # Precompute the dense displacement field DDF\n",
    "        #self.ddf = self.compute_ddf((self.warped_image_size_x, self.warped_image_size_y, self.warped_image_size_z))\n",
    "        self.compute_ddf((self.warped_image_size_x, self.warped_image_size_y, self.warped_image_size_z))\n",
    "\n",
    "    # Implement a class member function compute_ddf that computes displacement vector\n",
    "    # this code takes a point in the warped image,\n",
    "    # undo the translation by subtracting the translation vector from the point,\n",
    "    # then undo the rotation by applying the inverse rotation matrix, \n",
    "    # and the result is the displacement vector from the warped image to the original image\n",
    "    #  at that voxel location.\n",
    "    def compute_ddf(self, warped_image_size):\n",
    "        # Compute displacement vector\n",
    "        self.warped_image_size_x, self.warped_image_size_y, self.warped_image_size_z = warped_image_size\n",
    "            # Pre-allocate displacement vector\n",
    "        self.ddf = np.zeros((self.warped_image_size_x, self.warped_image_size_y, self.warped_image_size_z, 3))\n",
    "\n",
    "        for x in range(self.warped_image_size_x):\n",
    "            for y in range(self.warped_image_size_y):\n",
    "                for z in range(self.warped_image_size_z):\n",
    "                    # Compute displacement vector at each voxel\n",
    "                    self.ddf[x, y, z, :] = np.matmul(np.linalg.inv(self.rot_vec), np.array([x, y, z]) - self.trans_vec)\n",
    "\n",
    "\n",
    "    # Implement a class member function warp that returns a warped image volume in a Numpy Array\n",
    "    def warp(self, volume):\n",
    "        # Pre-allocate warped volume\n",
    "        warped_volume = np.zeros_like(volume)\n",
    "        for x in range(volume.shape[0]):\n",
    "            for y in range(volume.shape[1]):\n",
    "                for z in range(volume.shape[2]):\n",
    "                    # Compute new voxle coordinates in the warped image\n",
    "                    new_x, new_y, new_z = np.matmul(self.rot_vec, np.array([x, y, z])) + self.trans_vec\n",
    "\n",
    "                    # Resample intensity values at the new coordinates\n",
    "                    warped_volume[x, y, z] = interpn(np.array([x, y, z], ), volume, np.array((new_x, new_y, new_z),), method = 'linear', bounds_error = False, fill_value = None)\n",
    "                    #warped_volume[x, y, z] = volume[new_x, new_y, new_z]\n",
    "\n",
    "        return warped_volume\n",
    "\n",
    "    # Implement a class member function compose which represents a combination of two transforms\n",
    "    def compose(self, rotations2, translations2):\n",
    "        # Compute the combined rotation matrix\n",
    "        rot_x2 = np.array([[1, 0, 0],\n",
    "                            [0, np.cos(rotations2[0]), -np.sin(rotations2[0])],\n",
    "                            [0, np.sin(rotations2[0]), np.cos(rotations2[0])]])\n",
    "\n",
    "        rot_y2 = np.array([[np.cos(rotations2[1]), 0, np.sin(rotations2[1])],\n",
    "                            [0, 1, 0],\n",
    "                            [-np.sin(rotations2[1]), 0, np.cos(rotations2[1])]])\n",
    "\n",
    "        rot_z2 = np.array([[np.cos(rotations2[2]), -np.sin(rotations2[2]), 0],\n",
    "                            [np.sin(rotations2[2]), np.cos(rotations2[2]), 0],\n",
    "                            [0, 0, 1]])\n",
    "\n",
    "        # Compose rotation matrix from yaw, pitch, and roll \n",
    "        # Correct order is Z, Y, X\n",
    "        rot_vec2 = np.matmul(rot_z2, np.matmul(rot_y2, rot_x2))\n",
    "        R_composed = np.matmul(self.rot_vec, rot_vec2)\n",
    "\n",
    "        \n",
    "        # Compute the combined translation vector\n",
    "        #T_composed = np.matmul(self.rot_vec, np.array(translations2)) + self.trans_vec\n",
    "        T_composed = np.matmul(self.rot_vec, self.trans_vec) + np.array(translations2)\n",
    "\n",
    "        # Create a new RigidTransform object with the composed transformations\n",
    "        composed_transform = RigidTransform(R_composed, T_composed)\n",
    "\n",
    "        # Update the displacement field\n",
    "        composed_transform.compute_ddf((self.warped_image_size_x, self.warped_image_size_y, self.warped_image_size_z))\n",
    "\n",
    "        return composed_transform\n",
    "        \n",
    "        \n",
    "                    "
   ]
  },
  {
   "attachments": {},
   "cell_type": "markdown",
   "metadata": {},
   "source": [
    "### Test the composed transformations\n",
    "\n",
    "Manually define the ranges of translation and rotation parameters, according to the coordinate system defined in `RigidTransform` class.\n",
    "\n",
    "-1000 to 1000 voxels which allows for translations up to 1000 voxels in any direction. For rotation, -180 to 180, to allow for rotations of up to 180 degrees in any direction\n"
   ]
  },
  {
   "cell_type": "code",
   "execution_count": 14,
   "metadata": {},
   "outputs": [],
   "source": [
    "# Define translation and rotation parameters\n",
    "rotations = np.array([30, 90, 150])*np.pi/180\n",
    "translations = np.array([10, 20, 30])"
   ]
  },
  {
   "attachments": {},
   "cell_type": "markdown",
   "metadata": {},
   "source": [
    "## Instantiate an object that represent a transformation"
   ]
  },
  {
   "cell_type": "code",
   "execution_count": 15,
   "metadata": {},
   "outputs": [],
   "source": [
    "rigid_transform = RigidTransform(rotations = rotations, translations = translations, warped_image_size = (100, 100, 100))"
   ]
  }
 ],
 "metadata": {
  "kernelspec": {
   "display_name": "Python 3",
   "language": "python",
   "name": "python3"
  },
  "language_info": {
   "codemirror_mode": {
    "name": "ipython",
    "version": 3
   },
   "file_extension": ".py",
   "mimetype": "text/x-python",
   "name": "python",
   "nbconvert_exporter": "python",
   "pygments_lexer": "ipython3",
   "version": "3.10.6"
  },
  "orig_nbformat": 4,
  "vscode": {
   "interpreter": {
    "hash": "916dbcbb3f70747c44a77c7bcd40155683ae19c65e1c03b4aa3499c5328201f1"
   }
  }
 },
 "nbformat": 4,
 "nbformat_minor": 2
}
